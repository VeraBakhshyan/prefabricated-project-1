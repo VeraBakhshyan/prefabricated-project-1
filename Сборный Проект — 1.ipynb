{
 "cells": [
  {
   "cell_type": "markdown",
   "metadata": {},
   "source": [
    "# Сборный проект."
   ]
  },
  {
   "cell_type": "markdown",
   "metadata": {},
   "source": [
    "# Описание проекта.\n",
    "\n",
    "Вы работаете в интернет-магазине «Стримчик», который продаёт по всему миру компьютерные игры. Из открытых источников доступны исторические данные о продажах игр, оценки пользователей и экспертов, жанры и платформы (например, Xbox или PlayStation). Вам нужно выявить определяющие успешность игры закономерности. Это позволит сделать ставку на потенциально популярный продукт и спланировать рекламные кампании.\n",
    "Перед вами данные до 2016 года. Представим, что сейчас декабрь 2016 г., и вы планируете кампанию на 2017-й. Нужно отработать принцип работы с данными. Неважно, прогнозируете ли вы продажи на 2017 год по данным 2016-го или же 2027-й — по данным 2026 года.\n",
    "В наборе данных попадается аббревиатура ESRB (Entertainment Software Rating Board) — это ассоциация, определяющая возрастной рейтинг компьютерных игр. ESRB оценивает игровой контент и присваивает ему подходящую возрастную категорию, например, «Для взрослых», «Для детей младшего возраста» или «Для подростков».\n",
    "\n",
    "Описание данных.\n",
    "- Name — название игры\n",
    "- Platform — платформа\n",
    "- Year_of_Release — год выпуска\n",
    "- Genre — жанр игры\n",
    "- NA_sales — продажи в Северной Америке (миллионы проданных копий)\n",
    "- EU_sales — продажи в Европе (миллионы проданных копий)\n",
    "- JP_sales — продажи в Японии (миллионы проданных копий)\n",
    "- Other_sales — продажи в других странах (миллионы проданных копий)\n",
    "- Critic_Score — оценка критиков (максимум 100)\n",
    "- User_Score — оценка пользователей (максимум 10)\n",
    "- Rating — рейтинг от организации ESRB (англ. Entertainment Software Rating Board). Эта ассоциация определяет рейтинг компьютерных игр и присваивает им подходящую возрастную категорию.\n",
    "\n",
    "Данные за 2016 год могут быть неполными.\n"
   ]
  },
  {
   "cell_type": "markdown",
   "metadata": {},
   "source": [
    "Импортирую библиотеки:"
   ]
  },
  {
   "cell_type": "code",
   "execution_count": 1,
   "metadata": {},
   "outputs": [],
   "source": [
    "import pandas as pd\n",
    "import numpy as np\n",
    "import matplotlib.pyplot as plt\n",
    "from scipy.stats import ttest_ind\n",
    "import seaborn as sns\n",
    "from scipy import stats as st"
   ]
  },
  {
   "cell_type": "markdown",
   "metadata": {},
   "source": [
    "## **Шаг1.** Ознакомление с данными"
   ]
  },
  {
   "cell_type": "code",
   "execution_count": 2,
   "metadata": {},
   "outputs": [
    {
     "data": {
      "text/html": [
       "<div>\n",
       "<style scoped>\n",
       "    .dataframe tbody tr th:only-of-type {\n",
       "        vertical-align: middle;\n",
       "    }\n",
       "\n",
       "    .dataframe tbody tr th {\n",
       "        vertical-align: top;\n",
       "    }\n",
       "\n",
       "    .dataframe thead th {\n",
       "        text-align: right;\n",
       "    }\n",
       "</style>\n",
       "<table border=\"1\" class=\"dataframe\">\n",
       "  <thead>\n",
       "    <tr style=\"text-align: right;\">\n",
       "      <th></th>\n",
       "      <th>Name</th>\n",
       "      <th>Platform</th>\n",
       "      <th>Year_of_Release</th>\n",
       "      <th>Genre</th>\n",
       "      <th>NA_sales</th>\n",
       "      <th>EU_sales</th>\n",
       "      <th>JP_sales</th>\n",
       "      <th>Other_sales</th>\n",
       "      <th>Critic_Score</th>\n",
       "      <th>User_Score</th>\n",
       "      <th>Rating</th>\n",
       "    </tr>\n",
       "  </thead>\n",
       "  <tbody>\n",
       "    <tr>\n",
       "      <th>0</th>\n",
       "      <td>Wii Sports</td>\n",
       "      <td>Wii</td>\n",
       "      <td>2006.0</td>\n",
       "      <td>Sports</td>\n",
       "      <td>41.36</td>\n",
       "      <td>28.96</td>\n",
       "      <td>3.77</td>\n",
       "      <td>8.45</td>\n",
       "      <td>76.0</td>\n",
       "      <td>8</td>\n",
       "      <td>E</td>\n",
       "    </tr>\n",
       "    <tr>\n",
       "      <th>1</th>\n",
       "      <td>Super Mario Bros.</td>\n",
       "      <td>NES</td>\n",
       "      <td>1985.0</td>\n",
       "      <td>Platform</td>\n",
       "      <td>29.08</td>\n",
       "      <td>3.58</td>\n",
       "      <td>6.81</td>\n",
       "      <td>0.77</td>\n",
       "      <td>NaN</td>\n",
       "      <td>NaN</td>\n",
       "      <td>NaN</td>\n",
       "    </tr>\n",
       "    <tr>\n",
       "      <th>2</th>\n",
       "      <td>Mario Kart Wii</td>\n",
       "      <td>Wii</td>\n",
       "      <td>2008.0</td>\n",
       "      <td>Racing</td>\n",
       "      <td>15.68</td>\n",
       "      <td>12.76</td>\n",
       "      <td>3.79</td>\n",
       "      <td>3.29</td>\n",
       "      <td>82.0</td>\n",
       "      <td>8.3</td>\n",
       "      <td>E</td>\n",
       "    </tr>\n",
       "    <tr>\n",
       "      <th>3</th>\n",
       "      <td>Wii Sports Resort</td>\n",
       "      <td>Wii</td>\n",
       "      <td>2009.0</td>\n",
       "      <td>Sports</td>\n",
       "      <td>15.61</td>\n",
       "      <td>10.93</td>\n",
       "      <td>3.28</td>\n",
       "      <td>2.95</td>\n",
       "      <td>80.0</td>\n",
       "      <td>8</td>\n",
       "      <td>E</td>\n",
       "    </tr>\n",
       "    <tr>\n",
       "      <th>4</th>\n",
       "      <td>Pokemon Red/Pokemon Blue</td>\n",
       "      <td>GB</td>\n",
       "      <td>1996.0</td>\n",
       "      <td>Role-Playing</td>\n",
       "      <td>11.27</td>\n",
       "      <td>8.89</td>\n",
       "      <td>10.22</td>\n",
       "      <td>1.00</td>\n",
       "      <td>NaN</td>\n",
       "      <td>NaN</td>\n",
       "      <td>NaN</td>\n",
       "    </tr>\n",
       "  </tbody>\n",
       "</table>\n",
       "</div>"
      ],
      "text/plain": [
       "                       Name Platform  Year_of_Release         Genre  NA_sales  \\\n",
       "0                Wii Sports      Wii           2006.0        Sports     41.36   \n",
       "1         Super Mario Bros.      NES           1985.0      Platform     29.08   \n",
       "2            Mario Kart Wii      Wii           2008.0        Racing     15.68   \n",
       "3         Wii Sports Resort      Wii           2009.0        Sports     15.61   \n",
       "4  Pokemon Red/Pokemon Blue       GB           1996.0  Role-Playing     11.27   \n",
       "\n",
       "   EU_sales  JP_sales  Other_sales  Critic_Score User_Score Rating  \n",
       "0     28.96      3.77         8.45          76.0          8      E  \n",
       "1      3.58      6.81         0.77           NaN        NaN    NaN  \n",
       "2     12.76      3.79         3.29          82.0        8.3      E  \n",
       "3     10.93      3.28         2.95          80.0          8      E  \n",
       "4      8.89     10.22         1.00           NaN        NaN    NaN  "
      ]
     },
     "execution_count": 2,
     "metadata": {},
     "output_type": "execute_result"
    }
   ],
   "source": [
    "games = pd.read_csv('/datasets/games.csv')\n",
    "games.head()"
   ]
  },
  {
   "cell_type": "code",
   "execution_count": 3,
   "metadata": {},
   "outputs": [
    {
     "name": "stdout",
     "output_type": "stream",
     "text": [
      "<class 'pandas.core.frame.DataFrame'>\n",
      "RangeIndex: 16715 entries, 0 to 16714\n",
      "Data columns (total 11 columns):\n",
      " #   Column           Non-Null Count  Dtype  \n",
      "---  ------           --------------  -----  \n",
      " 0   Name             16713 non-null  object \n",
      " 1   Platform         16715 non-null  object \n",
      " 2   Year_of_Release  16446 non-null  float64\n",
      " 3   Genre            16713 non-null  object \n",
      " 4   NA_sales         16715 non-null  float64\n",
      " 5   EU_sales         16715 non-null  float64\n",
      " 6   JP_sales         16715 non-null  float64\n",
      " 7   Other_sales      16715 non-null  float64\n",
      " 8   Critic_Score     8137 non-null   float64\n",
      " 9   User_Score       10014 non-null  object \n",
      " 10  Rating           9949 non-null   object \n",
      "dtypes: float64(6), object(5)\n",
      "memory usage: 1.4+ MB\n"
     ]
    }
   ],
   "source": [
    "#При выводе первых 5-ти строк таблицы, уже видны пропуски. Посмотрю всю информацию по датафрейму\n",
    "games.info()"
   ]
  },
  {
   "cell_type": "markdown",
   "metadata": {},
   "source": [
    "пропусков много, отработаем их дальше"
   ]
  },
  {
   "cell_type": "markdown",
   "metadata": {},
   "source": [
    "## **Шаг 2. Подготовка данных.**"
   ]
  },
  {
   "cell_type": "markdown",
   "metadata": {},
   "source": [
    "###  Заменю названия столбцов (приведу к нижнему регистру)."
   ]
  },
  {
   "cell_type": "code",
   "execution_count": 4,
   "metadata": {},
   "outputs": [
    {
     "data": {
      "text/html": [
       "<div>\n",
       "<style scoped>\n",
       "    .dataframe tbody tr th:only-of-type {\n",
       "        vertical-align: middle;\n",
       "    }\n",
       "\n",
       "    .dataframe tbody tr th {\n",
       "        vertical-align: top;\n",
       "    }\n",
       "\n",
       "    .dataframe thead th {\n",
       "        text-align: right;\n",
       "    }\n",
       "</style>\n",
       "<table border=\"1\" class=\"dataframe\">\n",
       "  <thead>\n",
       "    <tr style=\"text-align: right;\">\n",
       "      <th></th>\n",
       "      <th>name</th>\n",
       "      <th>platform</th>\n",
       "      <th>year_of_release</th>\n",
       "      <th>genre</th>\n",
       "      <th>na_sales</th>\n",
       "      <th>eu_sales</th>\n",
       "      <th>jp_sales</th>\n",
       "      <th>other_sales</th>\n",
       "      <th>critic_score</th>\n",
       "      <th>user_score</th>\n",
       "      <th>rating</th>\n",
       "    </tr>\n",
       "  </thead>\n",
       "  <tbody>\n",
       "    <tr>\n",
       "      <th>0</th>\n",
       "      <td>Wii Sports</td>\n",
       "      <td>Wii</td>\n",
       "      <td>2006.0</td>\n",
       "      <td>Sports</td>\n",
       "      <td>41.36</td>\n",
       "      <td>28.96</td>\n",
       "      <td>3.77</td>\n",
       "      <td>8.45</td>\n",
       "      <td>76.0</td>\n",
       "      <td>8</td>\n",
       "      <td>E</td>\n",
       "    </tr>\n",
       "    <tr>\n",
       "      <th>1</th>\n",
       "      <td>Super Mario Bros.</td>\n",
       "      <td>NES</td>\n",
       "      <td>1985.0</td>\n",
       "      <td>Platform</td>\n",
       "      <td>29.08</td>\n",
       "      <td>3.58</td>\n",
       "      <td>6.81</td>\n",
       "      <td>0.77</td>\n",
       "      <td>NaN</td>\n",
       "      <td>NaN</td>\n",
       "      <td>NaN</td>\n",
       "    </tr>\n",
       "    <tr>\n",
       "      <th>2</th>\n",
       "      <td>Mario Kart Wii</td>\n",
       "      <td>Wii</td>\n",
       "      <td>2008.0</td>\n",
       "      <td>Racing</td>\n",
       "      <td>15.68</td>\n",
       "      <td>12.76</td>\n",
       "      <td>3.79</td>\n",
       "      <td>3.29</td>\n",
       "      <td>82.0</td>\n",
       "      <td>8.3</td>\n",
       "      <td>E</td>\n",
       "    </tr>\n",
       "    <tr>\n",
       "      <th>3</th>\n",
       "      <td>Wii Sports Resort</td>\n",
       "      <td>Wii</td>\n",
       "      <td>2009.0</td>\n",
       "      <td>Sports</td>\n",
       "      <td>15.61</td>\n",
       "      <td>10.93</td>\n",
       "      <td>3.28</td>\n",
       "      <td>2.95</td>\n",
       "      <td>80.0</td>\n",
       "      <td>8</td>\n",
       "      <td>E</td>\n",
       "    </tr>\n",
       "    <tr>\n",
       "      <th>4</th>\n",
       "      <td>Pokemon Red/Pokemon Blue</td>\n",
       "      <td>GB</td>\n",
       "      <td>1996.0</td>\n",
       "      <td>Role-Playing</td>\n",
       "      <td>11.27</td>\n",
       "      <td>8.89</td>\n",
       "      <td>10.22</td>\n",
       "      <td>1.00</td>\n",
       "      <td>NaN</td>\n",
       "      <td>NaN</td>\n",
       "      <td>NaN</td>\n",
       "    </tr>\n",
       "  </tbody>\n",
       "</table>\n",
       "</div>"
      ],
      "text/plain": [
       "                       name platform  year_of_release         genre  na_sales  \\\n",
       "0                Wii Sports      Wii           2006.0        Sports     41.36   \n",
       "1         Super Mario Bros.      NES           1985.0      Platform     29.08   \n",
       "2            Mario Kart Wii      Wii           2008.0        Racing     15.68   \n",
       "3         Wii Sports Resort      Wii           2009.0        Sports     15.61   \n",
       "4  Pokemon Red/Pokemon Blue       GB           1996.0  Role-Playing     11.27   \n",
       "\n",
       "   eu_sales  jp_sales  other_sales  critic_score user_score rating  \n",
       "0     28.96      3.77         8.45          76.0          8      E  \n",
       "1      3.58      6.81         0.77           NaN        NaN    NaN  \n",
       "2     12.76      3.79         3.29          82.0        8.3      E  \n",
       "3     10.93      3.28         2.95          80.0          8      E  \n",
       "4      8.89     10.22         1.00           NaN        NaN    NaN  "
      ]
     },
     "execution_count": 4,
     "metadata": {},
     "output_type": "execute_result"
    }
   ],
   "source": [
    "games.columns = games.columns.str.lower()\n",
    "games.head()"
   ]
  },
  {
   "cell_type": "markdown",
   "metadata": {},
   "source": [
    "### Преобразую данные в нужные типы."
   ]
  },
  {
   "cell_type": "code",
   "execution_count": 5,
   "metadata": {},
   "outputs": [
    {
     "data": {
      "text/plain": [
       "array(['8', nan, '8.3', '8.5', '6.6', '8.4', '8.6', '7.7', '6.3', '7.4',\n",
       "       '8.2', '9', '7.9', '8.1', '8.7', '7.1', '3.4', '5.3', '4.8', '3.2',\n",
       "       '8.9', '6.4', '7.8', '7.5', '2.6', '7.2', '9.2', '7', '7.3', '4.3',\n",
       "       '7.6', '5.7', '5', '9.1', '6.5', 'tbd', '8.8', '6.9', '9.4', '6.8',\n",
       "       '6.1', '6.7', '5.4', '4', '4.9', '4.5', '9.3', '6.2', '4.2', '6',\n",
       "       '3.7', '4.1', '5.8', '5.6', '5.5', '4.4', '4.6', '5.9', '3.9',\n",
       "       '3.1', '2.9', '5.2', '3.3', '4.7', '5.1', '3.5', '2.5', '1.9', '3',\n",
       "       '2.7', '2.2', '2', '9.5', '2.1', '3.6', '2.8', '1.8', '3.8', '0',\n",
       "       '1.6', '9.6', '2.4', '1.7', '1.1', '0.3', '1.5', '0.7', '1.2',\n",
       "       '2.3', '0.5', '1.3', '0.2', '0.6', '1.4', '0.9', '1', '9.7'],\n",
       "      dtype=object)"
      ]
     },
     "execution_count": 5,
     "metadata": {},
     "output_type": "execute_result"
    }
   ],
   "source": [
    "#при смене тип данных на float код отобразил ошибку \"could not convert string to float: 'tbd' \". тогда давайте посмотрим что за tbd\n",
    "games['user_score'].unique()"
   ]
  },
  {
   "cell_type": "markdown",
   "metadata": {},
   "source": [
    "посколько нигде у нас не отображено, что это означает, проверю в скольких строках данное значение, что понимать заменить tbd значением nan или можно удалить"
   ]
  },
  {
   "cell_type": "code",
   "execution_count": 6,
   "metadata": {},
   "outputs": [
    {
     "data": {
      "text/html": [
       "<div>\n",
       "<style scoped>\n",
       "    .dataframe tbody tr th:only-of-type {\n",
       "        vertical-align: middle;\n",
       "    }\n",
       "\n",
       "    .dataframe tbody tr th {\n",
       "        vertical-align: top;\n",
       "    }\n",
       "\n",
       "    .dataframe thead th {\n",
       "        text-align: right;\n",
       "    }\n",
       "</style>\n",
       "<table border=\"1\" class=\"dataframe\">\n",
       "  <thead>\n",
       "    <tr style=\"text-align: right;\">\n",
       "      <th></th>\n",
       "      <th>name</th>\n",
       "      <th>platform</th>\n",
       "      <th>year_of_release</th>\n",
       "      <th>genre</th>\n",
       "      <th>na_sales</th>\n",
       "      <th>eu_sales</th>\n",
       "      <th>jp_sales</th>\n",
       "      <th>other_sales</th>\n",
       "      <th>critic_score</th>\n",
       "      <th>user_score</th>\n",
       "      <th>rating</th>\n",
       "    </tr>\n",
       "  </thead>\n",
       "  <tbody>\n",
       "    <tr>\n",
       "      <th>119</th>\n",
       "      <td>Zumba Fitness</td>\n",
       "      <td>Wii</td>\n",
       "      <td>2010.0</td>\n",
       "      <td>Sports</td>\n",
       "      <td>3.45</td>\n",
       "      <td>2.59</td>\n",
       "      <td>0.0</td>\n",
       "      <td>0.66</td>\n",
       "      <td>NaN</td>\n",
       "      <td>tbd</td>\n",
       "      <td>E</td>\n",
       "    </tr>\n",
       "    <tr>\n",
       "      <th>301</th>\n",
       "      <td>Namco Museum: 50th Anniversary</td>\n",
       "      <td>PS2</td>\n",
       "      <td>2005.0</td>\n",
       "      <td>Misc</td>\n",
       "      <td>2.08</td>\n",
       "      <td>1.35</td>\n",
       "      <td>0.0</td>\n",
       "      <td>0.54</td>\n",
       "      <td>61.0</td>\n",
       "      <td>tbd</td>\n",
       "      <td>E10+</td>\n",
       "    </tr>\n",
       "    <tr>\n",
       "      <th>520</th>\n",
       "      <td>Zumba Fitness 2</td>\n",
       "      <td>Wii</td>\n",
       "      <td>2011.0</td>\n",
       "      <td>Sports</td>\n",
       "      <td>1.51</td>\n",
       "      <td>1.03</td>\n",
       "      <td>0.0</td>\n",
       "      <td>0.27</td>\n",
       "      <td>NaN</td>\n",
       "      <td>tbd</td>\n",
       "      <td>T</td>\n",
       "    </tr>\n",
       "    <tr>\n",
       "      <th>645</th>\n",
       "      <td>uDraw Studio</td>\n",
       "      <td>Wii</td>\n",
       "      <td>2010.0</td>\n",
       "      <td>Misc</td>\n",
       "      <td>1.65</td>\n",
       "      <td>0.57</td>\n",
       "      <td>0.0</td>\n",
       "      <td>0.20</td>\n",
       "      <td>71.0</td>\n",
       "      <td>tbd</td>\n",
       "      <td>E</td>\n",
       "    </tr>\n",
       "    <tr>\n",
       "      <th>657</th>\n",
       "      <td>Frogger's Adventures: Temple of the Frog</td>\n",
       "      <td>GBA</td>\n",
       "      <td>NaN</td>\n",
       "      <td>Adventure</td>\n",
       "      <td>2.15</td>\n",
       "      <td>0.18</td>\n",
       "      <td>0.0</td>\n",
       "      <td>0.07</td>\n",
       "      <td>73.0</td>\n",
       "      <td>tbd</td>\n",
       "      <td>E</td>\n",
       "    </tr>\n",
       "    <tr>\n",
       "      <th>...</th>\n",
       "      <td>...</td>\n",
       "      <td>...</td>\n",
       "      <td>...</td>\n",
       "      <td>...</td>\n",
       "      <td>...</td>\n",
       "      <td>...</td>\n",
       "      <td>...</td>\n",
       "      <td>...</td>\n",
       "      <td>...</td>\n",
       "      <td>...</td>\n",
       "      <td>...</td>\n",
       "    </tr>\n",
       "    <tr>\n",
       "      <th>16695</th>\n",
       "      <td>Planet Monsters</td>\n",
       "      <td>GBA</td>\n",
       "      <td>2001.0</td>\n",
       "      <td>Action</td>\n",
       "      <td>0.01</td>\n",
       "      <td>0.00</td>\n",
       "      <td>0.0</td>\n",
       "      <td>0.00</td>\n",
       "      <td>67.0</td>\n",
       "      <td>tbd</td>\n",
       "      <td>E</td>\n",
       "    </tr>\n",
       "    <tr>\n",
       "      <th>16697</th>\n",
       "      <td>Bust-A-Move 3000</td>\n",
       "      <td>GC</td>\n",
       "      <td>2003.0</td>\n",
       "      <td>Puzzle</td>\n",
       "      <td>0.01</td>\n",
       "      <td>0.00</td>\n",
       "      <td>0.0</td>\n",
       "      <td>0.00</td>\n",
       "      <td>53.0</td>\n",
       "      <td>tbd</td>\n",
       "      <td>E</td>\n",
       "    </tr>\n",
       "    <tr>\n",
       "      <th>16698</th>\n",
       "      <td>Mega Brain Boost</td>\n",
       "      <td>DS</td>\n",
       "      <td>2008.0</td>\n",
       "      <td>Puzzle</td>\n",
       "      <td>0.01</td>\n",
       "      <td>0.00</td>\n",
       "      <td>0.0</td>\n",
       "      <td>0.00</td>\n",
       "      <td>48.0</td>\n",
       "      <td>tbd</td>\n",
       "      <td>E</td>\n",
       "    </tr>\n",
       "    <tr>\n",
       "      <th>16704</th>\n",
       "      <td>Plushees</td>\n",
       "      <td>DS</td>\n",
       "      <td>2008.0</td>\n",
       "      <td>Simulation</td>\n",
       "      <td>0.01</td>\n",
       "      <td>0.00</td>\n",
       "      <td>0.0</td>\n",
       "      <td>0.00</td>\n",
       "      <td>NaN</td>\n",
       "      <td>tbd</td>\n",
       "      <td>E</td>\n",
       "    </tr>\n",
       "    <tr>\n",
       "      <th>16706</th>\n",
       "      <td>Men in Black II: Alien Escape</td>\n",
       "      <td>GC</td>\n",
       "      <td>2003.0</td>\n",
       "      <td>Shooter</td>\n",
       "      <td>0.01</td>\n",
       "      <td>0.00</td>\n",
       "      <td>0.0</td>\n",
       "      <td>0.00</td>\n",
       "      <td>NaN</td>\n",
       "      <td>tbd</td>\n",
       "      <td>T</td>\n",
       "    </tr>\n",
       "  </tbody>\n",
       "</table>\n",
       "<p>2424 rows × 11 columns</p>\n",
       "</div>"
      ],
      "text/plain": [
       "                                           name platform  year_of_release  \\\n",
       "119                               Zumba Fitness      Wii           2010.0   \n",
       "301              Namco Museum: 50th Anniversary      PS2           2005.0   \n",
       "520                             Zumba Fitness 2      Wii           2011.0   \n",
       "645                                uDraw Studio      Wii           2010.0   \n",
       "657    Frogger's Adventures: Temple of the Frog      GBA              NaN   \n",
       "...                                         ...      ...              ...   \n",
       "16695                           Planet Monsters      GBA           2001.0   \n",
       "16697                          Bust-A-Move 3000       GC           2003.0   \n",
       "16698                          Mega Brain Boost       DS           2008.0   \n",
       "16704                                  Plushees       DS           2008.0   \n",
       "16706             Men in Black II: Alien Escape       GC           2003.0   \n",
       "\n",
       "            genre  na_sales  eu_sales  jp_sales  other_sales  critic_score  \\\n",
       "119        Sports      3.45      2.59       0.0         0.66           NaN   \n",
       "301          Misc      2.08      1.35       0.0         0.54          61.0   \n",
       "520        Sports      1.51      1.03       0.0         0.27           NaN   \n",
       "645          Misc      1.65      0.57       0.0         0.20          71.0   \n",
       "657     Adventure      2.15      0.18       0.0         0.07          73.0   \n",
       "...           ...       ...       ...       ...          ...           ...   \n",
       "16695      Action      0.01      0.00       0.0         0.00          67.0   \n",
       "16697      Puzzle      0.01      0.00       0.0         0.00          53.0   \n",
       "16698      Puzzle      0.01      0.00       0.0         0.00          48.0   \n",
       "16704  Simulation      0.01      0.00       0.0         0.00           NaN   \n",
       "16706     Shooter      0.01      0.00       0.0         0.00           NaN   \n",
       "\n",
       "      user_score rating  \n",
       "119          tbd      E  \n",
       "301          tbd   E10+  \n",
       "520          tbd      T  \n",
       "645          tbd      E  \n",
       "657          tbd      E  \n",
       "...          ...    ...  \n",
       "16695        tbd      E  \n",
       "16697        tbd      E  \n",
       "16698        tbd      E  \n",
       "16704        tbd      E  \n",
       "16706        tbd      T  \n",
       "\n",
       "[2424 rows x 11 columns]"
      ]
     },
     "execution_count": 6,
     "metadata": {},
     "output_type": "execute_result"
    }
   ],
   "source": [
    "games[games['user_score'] == 'tbd']"
   ]
  },
  {
   "cell_type": "code",
   "execution_count": 7,
   "metadata": {},
   "outputs": [
    {
     "data": {
      "text/plain": [
       "0    8.0\n",
       "1    NaN\n",
       "2    8.3\n",
       "3    8.0\n",
       "4    NaN\n",
       "5    NaN\n",
       "6    8.5\n",
       "7    6.6\n",
       "8    8.4\n",
       "9    NaN\n",
       "Name: user_score, dtype: float64"
      ]
     },
     "execution_count": 7,
     "metadata": {},
     "output_type": "execute_result"
    }
   ],
   "source": [
    "#строк с данным значением 2424, тогда заменю их на nan \n",
    "games['user_score'] = games['user_score'].replace('tbd', np.NaN)\n",
    "games['user_score'] = games['user_score'].astype('float')\n",
    "games['user_score'].head(10)"
   ]
  },
  {
   "cell_type": "code",
   "execution_count": 8,
   "metadata": {},
   "outputs": [
    {
     "name": "stdout",
     "output_type": "stream",
     "text": [
      "<class 'pandas.core.frame.DataFrame'>\n",
      "RangeIndex: 16715 entries, 0 to 16714\n",
      "Data columns (total 11 columns):\n",
      " #   Column           Non-Null Count  Dtype  \n",
      "---  ------           --------------  -----  \n",
      " 0   name             16713 non-null  object \n",
      " 1   platform         16715 non-null  object \n",
      " 2   year_of_release  16446 non-null  float64\n",
      " 3   genre            16713 non-null  object \n",
      " 4   na_sales         16715 non-null  float64\n",
      " 5   eu_sales         16715 non-null  float64\n",
      " 6   jp_sales         16715 non-null  float64\n",
      " 7   other_sales      16715 non-null  float64\n",
      " 8   critic_score     8137 non-null   float64\n",
      " 9   user_score       7590 non-null   float64\n",
      " 10  rating           9949 non-null   object \n",
      "dtypes: float64(7), object(4)\n",
      "memory usage: 1.4+ MB\n"
     ]
    }
   ],
   "source": [
    "games.info()"
   ]
  },
  {
   "cell_type": "markdown",
   "metadata": {},
   "source": [
    "от tbd избавилась и поменяла тип на float"
   ]
  },
  {
   "cell_type": "code",
   "execution_count": 9,
   "metadata": {},
   "outputs": [
    {
     "data": {
      "text/plain": [
       "0"
      ]
     },
     "execution_count": 9,
     "metadata": {},
     "output_type": "execute_result"
    }
   ],
   "source": [
    "#Также проверю на наличие явных дубликатов\n",
    "games.duplicated().sum()"
   ]
  },
  {
   "cell_type": "code",
   "execution_count": 10,
   "metadata": {},
   "outputs": [
    {
     "data": {
      "text/plain": [
       "2"
      ]
     },
     "execution_count": 10,
     "metadata": {},
     "output_type": "execute_result"
    }
   ],
   "source": [
    "#Явных дубликатов нет. Перейду к неявным дубликатам.\n",
    "games[['name', 'platform', 'year_of_release']].duplicated().sum()"
   ]
  },
  {
   "cell_type": "code",
   "execution_count": 11,
   "metadata": {},
   "outputs": [
    {
     "name": "stdout",
     "output_type": "stream",
     "text": [
      "<class 'pandas.core.frame.DataFrame'>\n",
      "RangeIndex: 16715 entries, 0 to 16714\n",
      "Data columns (total 11 columns):\n",
      " #   Column           Non-Null Count  Dtype  \n",
      "---  ------           --------------  -----  \n",
      " 0   name             16713 non-null  object \n",
      " 1   platform         16715 non-null  object \n",
      " 2   year_of_release  16446 non-null  float64\n",
      " 3   genre            16713 non-null  object \n",
      " 4   na_sales         16715 non-null  float64\n",
      " 5   eu_sales         16715 non-null  float64\n",
      " 6   jp_sales         16715 non-null  float64\n",
      " 7   other_sales      16715 non-null  float64\n",
      " 8   critic_score     8137 non-null   float64\n",
      " 9   user_score       7590 non-null   float64\n",
      " 10  rating           9949 non-null   object \n",
      "dtypes: float64(7), object(4)\n",
      "memory usage: 1.4+ MB\n"
     ]
    }
   ],
   "source": [
    "#удалю совпадение и приступлю к обработке пропусков\n",
    "games.loc[:, 'name':'year_of_release'].drop_duplicates()\n",
    "games.info()"
   ]
  },
  {
   "cell_type": "markdown",
   "metadata": {},
   "source": [
    "### Обработаю пропуски, если они имеются.**"
   ]
  },
  {
   "cell_type": "code",
   "execution_count": 12,
   "metadata": {},
   "outputs": [
    {
     "data": {
      "text/plain": [
       "name                  2\n",
       "platform              0\n",
       "year_of_release     269\n",
       "genre                 2\n",
       "na_sales              0\n",
       "eu_sales              0\n",
       "jp_sales              0\n",
       "other_sales           0\n",
       "critic_score       8578\n",
       "user_score         9125\n",
       "rating             6766\n",
       "dtype: int64"
      ]
     },
     "execution_count": 12,
     "metadata": {},
     "output_type": "execute_result"
    }
   ],
   "source": [
    "#проверю в каких стоблцах имеются пропуски\n",
    "games.isna().sum()"
   ]
  },
  {
   "cell_type": "markdown",
   "metadata": {},
   "source": [
    "в столбце name 2 пропуска, их можно удалить, тк слишком мало и на общие данные можно сказать не повлияют\n"
   ]
  },
  {
   "cell_type": "code",
   "execution_count": 13,
   "metadata": {},
   "outputs": [
    {
     "name": "stdout",
     "output_type": "stream",
     "text": [
      "<class 'pandas.core.frame.DataFrame'>\n",
      "Int64Index: 16713 entries, 0 to 16714\n",
      "Data columns (total 11 columns):\n",
      " #   Column           Non-Null Count  Dtype  \n",
      "---  ------           --------------  -----  \n",
      " 0   name             16713 non-null  object \n",
      " 1   platform         16713 non-null  object \n",
      " 2   year_of_release  16444 non-null  float64\n",
      " 3   genre            16713 non-null  object \n",
      " 4   na_sales         16713 non-null  float64\n",
      " 5   eu_sales         16713 non-null  float64\n",
      " 6   jp_sales         16713 non-null  float64\n",
      " 7   other_sales      16713 non-null  float64\n",
      " 8   critic_score     8137 non-null   float64\n",
      " 9   user_score       7590 non-null   float64\n",
      " 10  rating           9949 non-null   object \n",
      "dtypes: float64(7), object(4)\n",
      "memory usage: 1.5+ MB\n"
     ]
    }
   ],
   "source": [
    "games = games.dropna(subset=['name'])\n",
    "games.info()"
   ]
  },
  {
   "cell_type": "markdown",
   "metadata": {},
   "source": [
    "Далее посмотрим столбецы year_of_release. Год выхода игры не заполнить медианной или средней, как так для каждой игры он определенный. От общего числа значений, пропусков не так много, поэтому я их удалю.\n",
    "\n",
    "Перейдем к стоблцам critic_score и  user_score, так как они похожи по значению. Заменить средней или медианной также не можем, поскольку вдруг в момент выхода игры не было требования оценки игры. Поэтому оставлю как есть."
   ]
  },
  {
   "cell_type": "markdown",
   "metadata": {},
   "source": [
    "И перейдем к последнему столбцу rating. Заполнить данные средней, медианной или иными значения не получится, поэтому оставляем как есть."
   ]
  },
  {
   "cell_type": "markdown",
   "metadata": {},
   "source": [
    "### Посчитаю суммарные продажи во всех регионах и запишу их в отдельный столбец."
   ]
  },
  {
   "cell_type": "code",
   "execution_count": 14,
   "metadata": {},
   "outputs": [
    {
     "data": {
      "text/html": [
       "<div>\n",
       "<style scoped>\n",
       "    .dataframe tbody tr th:only-of-type {\n",
       "        vertical-align: middle;\n",
       "    }\n",
       "\n",
       "    .dataframe tbody tr th {\n",
       "        vertical-align: top;\n",
       "    }\n",
       "\n",
       "    .dataframe thead th {\n",
       "        text-align: right;\n",
       "    }\n",
       "</style>\n",
       "<table border=\"1\" class=\"dataframe\">\n",
       "  <thead>\n",
       "    <tr style=\"text-align: right;\">\n",
       "      <th></th>\n",
       "      <th>name</th>\n",
       "      <th>platform</th>\n",
       "      <th>year_of_release</th>\n",
       "      <th>genre</th>\n",
       "      <th>na_sales</th>\n",
       "      <th>eu_sales</th>\n",
       "      <th>jp_sales</th>\n",
       "      <th>other_sales</th>\n",
       "      <th>critic_score</th>\n",
       "      <th>user_score</th>\n",
       "      <th>rating</th>\n",
       "      <th>total_sales</th>\n",
       "    </tr>\n",
       "  </thead>\n",
       "  <tbody>\n",
       "    <tr>\n",
       "      <th>0</th>\n",
       "      <td>Wii Sports</td>\n",
       "      <td>Wii</td>\n",
       "      <td>2006.0</td>\n",
       "      <td>Sports</td>\n",
       "      <td>41.36</td>\n",
       "      <td>28.96</td>\n",
       "      <td>3.77</td>\n",
       "      <td>8.45</td>\n",
       "      <td>76.0</td>\n",
       "      <td>8.0</td>\n",
       "      <td>E</td>\n",
       "      <td>82.54</td>\n",
       "    </tr>\n",
       "    <tr>\n",
       "      <th>1</th>\n",
       "      <td>Super Mario Bros.</td>\n",
       "      <td>NES</td>\n",
       "      <td>1985.0</td>\n",
       "      <td>Platform</td>\n",
       "      <td>29.08</td>\n",
       "      <td>3.58</td>\n",
       "      <td>6.81</td>\n",
       "      <td>0.77</td>\n",
       "      <td>NaN</td>\n",
       "      <td>NaN</td>\n",
       "      <td>NaN</td>\n",
       "      <td>40.24</td>\n",
       "    </tr>\n",
       "    <tr>\n",
       "      <th>2</th>\n",
       "      <td>Mario Kart Wii</td>\n",
       "      <td>Wii</td>\n",
       "      <td>2008.0</td>\n",
       "      <td>Racing</td>\n",
       "      <td>15.68</td>\n",
       "      <td>12.76</td>\n",
       "      <td>3.79</td>\n",
       "      <td>3.29</td>\n",
       "      <td>82.0</td>\n",
       "      <td>8.3</td>\n",
       "      <td>E</td>\n",
       "      <td>35.52</td>\n",
       "    </tr>\n",
       "    <tr>\n",
       "      <th>3</th>\n",
       "      <td>Wii Sports Resort</td>\n",
       "      <td>Wii</td>\n",
       "      <td>2009.0</td>\n",
       "      <td>Sports</td>\n",
       "      <td>15.61</td>\n",
       "      <td>10.93</td>\n",
       "      <td>3.28</td>\n",
       "      <td>2.95</td>\n",
       "      <td>80.0</td>\n",
       "      <td>8.0</td>\n",
       "      <td>E</td>\n",
       "      <td>32.77</td>\n",
       "    </tr>\n",
       "    <tr>\n",
       "      <th>4</th>\n",
       "      <td>Pokemon Red/Pokemon Blue</td>\n",
       "      <td>GB</td>\n",
       "      <td>1996.0</td>\n",
       "      <td>Role-Playing</td>\n",
       "      <td>11.27</td>\n",
       "      <td>8.89</td>\n",
       "      <td>10.22</td>\n",
       "      <td>1.00</td>\n",
       "      <td>NaN</td>\n",
       "      <td>NaN</td>\n",
       "      <td>NaN</td>\n",
       "      <td>31.38</td>\n",
       "    </tr>\n",
       "    <tr>\n",
       "      <th>5</th>\n",
       "      <td>Tetris</td>\n",
       "      <td>GB</td>\n",
       "      <td>1989.0</td>\n",
       "      <td>Puzzle</td>\n",
       "      <td>23.20</td>\n",
       "      <td>2.26</td>\n",
       "      <td>4.22</td>\n",
       "      <td>0.58</td>\n",
       "      <td>NaN</td>\n",
       "      <td>NaN</td>\n",
       "      <td>NaN</td>\n",
       "      <td>30.26</td>\n",
       "    </tr>\n",
       "    <tr>\n",
       "      <th>6</th>\n",
       "      <td>New Super Mario Bros.</td>\n",
       "      <td>DS</td>\n",
       "      <td>2006.0</td>\n",
       "      <td>Platform</td>\n",
       "      <td>11.28</td>\n",
       "      <td>9.14</td>\n",
       "      <td>6.50</td>\n",
       "      <td>2.88</td>\n",
       "      <td>89.0</td>\n",
       "      <td>8.5</td>\n",
       "      <td>E</td>\n",
       "      <td>29.80</td>\n",
       "    </tr>\n",
       "    <tr>\n",
       "      <th>7</th>\n",
       "      <td>Wii Play</td>\n",
       "      <td>Wii</td>\n",
       "      <td>2006.0</td>\n",
       "      <td>Misc</td>\n",
       "      <td>13.96</td>\n",
       "      <td>9.18</td>\n",
       "      <td>2.93</td>\n",
       "      <td>2.84</td>\n",
       "      <td>58.0</td>\n",
       "      <td>6.6</td>\n",
       "      <td>E</td>\n",
       "      <td>28.91</td>\n",
       "    </tr>\n",
       "    <tr>\n",
       "      <th>8</th>\n",
       "      <td>New Super Mario Bros. Wii</td>\n",
       "      <td>Wii</td>\n",
       "      <td>2009.0</td>\n",
       "      <td>Platform</td>\n",
       "      <td>14.44</td>\n",
       "      <td>6.94</td>\n",
       "      <td>4.70</td>\n",
       "      <td>2.24</td>\n",
       "      <td>87.0</td>\n",
       "      <td>8.4</td>\n",
       "      <td>E</td>\n",
       "      <td>28.32</td>\n",
       "    </tr>\n",
       "    <tr>\n",
       "      <th>9</th>\n",
       "      <td>Duck Hunt</td>\n",
       "      <td>NES</td>\n",
       "      <td>1984.0</td>\n",
       "      <td>Shooter</td>\n",
       "      <td>26.93</td>\n",
       "      <td>0.63</td>\n",
       "      <td>0.28</td>\n",
       "      <td>0.47</td>\n",
       "      <td>NaN</td>\n",
       "      <td>NaN</td>\n",
       "      <td>NaN</td>\n",
       "      <td>28.31</td>\n",
       "    </tr>\n",
       "  </tbody>\n",
       "</table>\n",
       "</div>"
      ],
      "text/plain": [
       "                        name platform  year_of_release         genre  \\\n",
       "0                 Wii Sports      Wii           2006.0        Sports   \n",
       "1          Super Mario Bros.      NES           1985.0      Platform   \n",
       "2             Mario Kart Wii      Wii           2008.0        Racing   \n",
       "3          Wii Sports Resort      Wii           2009.0        Sports   \n",
       "4   Pokemon Red/Pokemon Blue       GB           1996.0  Role-Playing   \n",
       "5                     Tetris       GB           1989.0        Puzzle   \n",
       "6      New Super Mario Bros.       DS           2006.0      Platform   \n",
       "7                   Wii Play      Wii           2006.0          Misc   \n",
       "8  New Super Mario Bros. Wii      Wii           2009.0      Platform   \n",
       "9                  Duck Hunt      NES           1984.0       Shooter   \n",
       "\n",
       "   na_sales  eu_sales  jp_sales  other_sales  critic_score  user_score rating  \\\n",
       "0     41.36     28.96      3.77         8.45          76.0         8.0      E   \n",
       "1     29.08      3.58      6.81         0.77           NaN         NaN    NaN   \n",
       "2     15.68     12.76      3.79         3.29          82.0         8.3      E   \n",
       "3     15.61     10.93      3.28         2.95          80.0         8.0      E   \n",
       "4     11.27      8.89     10.22         1.00           NaN         NaN    NaN   \n",
       "5     23.20      2.26      4.22         0.58           NaN         NaN    NaN   \n",
       "6     11.28      9.14      6.50         2.88          89.0         8.5      E   \n",
       "7     13.96      9.18      2.93         2.84          58.0         6.6      E   \n",
       "8     14.44      6.94      4.70         2.24          87.0         8.4      E   \n",
       "9     26.93      0.63      0.28         0.47           NaN         NaN    NaN   \n",
       "\n",
       "   total_sales  \n",
       "0        82.54  \n",
       "1        40.24  \n",
       "2        35.52  \n",
       "3        32.77  \n",
       "4        31.38  \n",
       "5        30.26  \n",
       "6        29.80  \n",
       "7        28.91  \n",
       "8        28.32  \n",
       "9        28.31  "
      ]
     },
     "execution_count": 14,
     "metadata": {},
     "output_type": "execute_result"
    }
   ],
   "source": [
    "games['total_sales'] = games['na_sales'] + games['eu_sales'] + games['jp_sales'] + games['other_sales']\n",
    "games.head(10)"
   ]
  },
  {
   "cell_type": "markdown",
   "metadata": {},
   "source": [
    "ВЫВОД: там, где это было возможно, пропуски были заменены. Что касается остальных пропусков, для их заполнения у меня недостаточно данных. Поэтому, лучше будем работать с меньшим количеством данных но хорошего качества. В остальном же, ошибки в данных устранены. Данные подготовлены к дальнейшему анализу.\n",
    "\n",
    "Пропуски могли возникнуть как в следствии человечеаского фактора, например год выхода игры, так и допустим в следствии того, что по некоторым играм пока нет информции (по оценкам допустим), может игроки или критики не передавали данную информацию."
   ]
  },
  {
   "cell_type": "code",
   "execution_count": 15,
   "metadata": {},
   "outputs": [
    {
     "name": "stdout",
     "output_type": "stream",
     "text": [
      "<class 'pandas.core.frame.DataFrame'>\n",
      "Int64Index: 16713 entries, 0 to 16714\n",
      "Data columns (total 12 columns):\n",
      " #   Column           Non-Null Count  Dtype  \n",
      "---  ------           --------------  -----  \n",
      " 0   name             16713 non-null  object \n",
      " 1   platform         16713 non-null  object \n",
      " 2   year_of_release  16444 non-null  float64\n",
      " 3   genre            16713 non-null  object \n",
      " 4   na_sales         16713 non-null  float64\n",
      " 5   eu_sales         16713 non-null  float64\n",
      " 6   jp_sales         16713 non-null  float64\n",
      " 7   other_sales      16713 non-null  float64\n",
      " 8   critic_score     8137 non-null   float64\n",
      " 9   user_score       7590 non-null   float64\n",
      " 10  rating           9949 non-null   object \n",
      " 11  total_sales      16713 non-null  float64\n",
      "dtypes: float64(8), object(4)\n",
      "memory usage: 1.7+ MB\n",
      "None\n",
      "-------------------------\n",
      "name [' Beyblade Burst' ' Fire Emblem Fates' \" Frozen: Olaf's Quest\" ...\n",
      " 'uDraw Studio: Instant Artist' 'wwe Smackdown vs. Raw 2006'\n",
      " '¡Shin Chan Flipa en colores!']\n",
      "name : кол-во NaN 0 , процент NaN 0.0 %\n",
      "-------------------------\n",
      "platform ['2600' '3DO' '3DS' 'DC' 'DS' 'GB' 'GBA' 'GC' 'GEN' 'GG' 'N64' 'NES' 'NG'\n",
      " 'PC' 'PCFX' 'PS' 'PS2' 'PS3' 'PS4' 'PSP' 'PSV' 'SAT' 'SCD' 'SNES' 'TG16'\n",
      " 'WS' 'Wii' 'WiiU' 'X360' 'XB' 'XOne']\n",
      "platform : кол-во NaN 0 , процент NaN 0.0 %\n",
      "-------------------------\n",
      "year_of_release [1980. 1981. 1982. 1983. 1984. 1985. 1986. 1987. 1988. 1989. 1990. 1991.\n",
      " 1992. 1993. 1994. 1995. 1996. 1997. 1998. 1999. 2000. 2001. 2002. 2003.\n",
      " 2004. 2005. 2006. 2007. 2008. 2009. 2010. 2011. 2012. 2013. 2014. 2015.\n",
      " 2016.   nan]\n",
      "year_of_release : кол-во NaN 269 , процент NaN 1.61 %\n",
      "-------------------------\n",
      "genre ['Action' 'Adventure' 'Fighting' 'Misc' 'Platform' 'Puzzle' 'Racing'\n",
      " 'Role-Playing' 'Shooter' 'Simulation' 'Sports' 'Strategy']\n",
      "genre : кол-во NaN 0 , процент NaN 0.0 %\n",
      "-------------------------\n",
      "critic_score [13. 17. 19. 20. 21. 22. 23. 24. 25. 26. 27. 28. 29. 30. 31. 32. 33. 34.\n",
      " 35. 36. 37. 38. 39. 40. 41. 42. 43. 44. 45. 46. 47. 48. 49. 50. 51. 52.\n",
      " 53. 54. 55. 56. 57. 58. 59. 60. 61. 62. 63. 64. 65. 66. 67. 68. 69. 70.\n",
      " 71. 72. 73. 74. 75. 76. 77. 78. 79. 80. 81. 82. 83. 84. 85. 86. 87. 88.\n",
      " 89. 90. 91. 92. 93. 94. 95. 96. 97. 98. nan]\n",
      "critic_score : кол-во NaN 8576 , процент NaN 51.31 %\n",
      "-------------------------\n",
      "user_score [0.  0.2 0.3 0.5 0.6 0.7 0.9 1.  1.1 1.2 1.3 1.4 1.5 1.6 1.7 1.8 1.9 2.\n",
      " 2.1 2.2 2.3 2.4 2.5 2.6 2.7 2.8 2.9 3.  3.1 3.2 3.3 3.4 3.5 3.6 3.7 3.8\n",
      " 3.9 4.  4.1 4.2 4.3 4.4 4.5 4.6 4.7 4.8 4.9 5.  5.1 5.2 5.3 5.4 5.5 5.6\n",
      " 5.7 5.8 5.9 6.  6.1 6.2 6.3 6.4 6.5 6.6 6.7 6.8 6.9 7.  7.1 7.2 7.3 7.4\n",
      " 7.5 7.6 7.7 7.8 7.9 8.  8.1 8.2 8.3 8.4 8.5 8.6 8.7 8.8 8.9 9.  9.1 9.2\n",
      " 9.3 9.4 9.5 9.6 9.7 nan]\n",
      "user_score : кол-во NaN 9123 , процент NaN 54.59 %\n",
      "-------------------------\n",
      "rating ['AO' 'E' 'E10+' 'EC' 'K-A' 'M' 'RP' 'T' nan]\n",
      "rating : кол-во NaN 6764 , процент NaN 40.47 %\n"
     ]
    }
   ],
   "source": [
    "# Посмотрим, что осталось\n",
    "temp = games.copy() \n",
    "list_c = ['name', 'platform', 'year_of_release', 'genre', 'critic_score', 'user_score', 'rating']\n",
    "print(temp.info())\n",
    "for col_l in list_c:\n",
    "  print('-'* 25)\n",
    "  print(col_l, temp[col_l].sort_values().unique())\n",
    "  print(col_l,': кол-во NaN',temp[col_l].isna().sum(),\n",
    "        ', процент NaN', round(temp[col_l].isna().mean()*100,2),'%') "
   ]
  },
  {
   "cell_type": "markdown",
   "metadata": {},
   "source": [
    "## Шаг 3. Проведение исследовательского анализа данных."
   ]
  },
  {
   "cell_type": "markdown",
   "metadata": {},
   "source": [
    "### Посмотрю сколько игр выпускалось в разные годы и насколько важны данные за все периоды."
   ]
  },
  {
   "cell_type": "code",
   "execution_count": 16,
   "metadata": {},
   "outputs": [
    {
     "data": {
      "text/html": [
       "<div>\n",
       "<style scoped>\n",
       "    .dataframe tbody tr th:only-of-type {\n",
       "        vertical-align: middle;\n",
       "    }\n",
       "\n",
       "    .dataframe tbody tr th {\n",
       "        vertical-align: top;\n",
       "    }\n",
       "\n",
       "    .dataframe thead th {\n",
       "        text-align: right;\n",
       "    }\n",
       "</style>\n",
       "<table border=\"1\" class=\"dataframe\">\n",
       "  <thead>\n",
       "    <tr style=\"text-align: right;\">\n",
       "      <th></th>\n",
       "      <th>games_count</th>\n",
       "    </tr>\n",
       "    <tr>\n",
       "      <th>year_of_release</th>\n",
       "      <th></th>\n",
       "    </tr>\n",
       "  </thead>\n",
       "  <tbody>\n",
       "    <tr>\n",
       "      <th>1980.0</th>\n",
       "      <td>9</td>\n",
       "    </tr>\n",
       "    <tr>\n",
       "      <th>1981.0</th>\n",
       "      <td>46</td>\n",
       "    </tr>\n",
       "    <tr>\n",
       "      <th>1982.0</th>\n",
       "      <td>36</td>\n",
       "    </tr>\n",
       "    <tr>\n",
       "      <th>1983.0</th>\n",
       "      <td>17</td>\n",
       "    </tr>\n",
       "    <tr>\n",
       "      <th>1984.0</th>\n",
       "      <td>14</td>\n",
       "    </tr>\n",
       "    <tr>\n",
       "      <th>1985.0</th>\n",
       "      <td>14</td>\n",
       "    </tr>\n",
       "    <tr>\n",
       "      <th>1986.0</th>\n",
       "      <td>21</td>\n",
       "    </tr>\n",
       "    <tr>\n",
       "      <th>1987.0</th>\n",
       "      <td>16</td>\n",
       "    </tr>\n",
       "    <tr>\n",
       "      <th>1988.0</th>\n",
       "      <td>15</td>\n",
       "    </tr>\n",
       "    <tr>\n",
       "      <th>1989.0</th>\n",
       "      <td>17</td>\n",
       "    </tr>\n",
       "    <tr>\n",
       "      <th>1990.0</th>\n",
       "      <td>16</td>\n",
       "    </tr>\n",
       "    <tr>\n",
       "      <th>1991.0</th>\n",
       "      <td>41</td>\n",
       "    </tr>\n",
       "    <tr>\n",
       "      <th>1992.0</th>\n",
       "      <td>43</td>\n",
       "    </tr>\n",
       "    <tr>\n",
       "      <th>1993.0</th>\n",
       "      <td>60</td>\n",
       "    </tr>\n",
       "    <tr>\n",
       "      <th>1994.0</th>\n",
       "      <td>121</td>\n",
       "    </tr>\n",
       "    <tr>\n",
       "      <th>1995.0</th>\n",
       "      <td>219</td>\n",
       "    </tr>\n",
       "    <tr>\n",
       "      <th>1996.0</th>\n",
       "      <td>263</td>\n",
       "    </tr>\n",
       "    <tr>\n",
       "      <th>1997.0</th>\n",
       "      <td>289</td>\n",
       "    </tr>\n",
       "    <tr>\n",
       "      <th>1998.0</th>\n",
       "      <td>379</td>\n",
       "    </tr>\n",
       "    <tr>\n",
       "      <th>1999.0</th>\n",
       "      <td>338</td>\n",
       "    </tr>\n",
       "    <tr>\n",
       "      <th>2000.0</th>\n",
       "      <td>350</td>\n",
       "    </tr>\n",
       "    <tr>\n",
       "      <th>2001.0</th>\n",
       "      <td>482</td>\n",
       "    </tr>\n",
       "    <tr>\n",
       "      <th>2002.0</th>\n",
       "      <td>829</td>\n",
       "    </tr>\n",
       "    <tr>\n",
       "      <th>2003.0</th>\n",
       "      <td>775</td>\n",
       "    </tr>\n",
       "    <tr>\n",
       "      <th>2004.0</th>\n",
       "      <td>762</td>\n",
       "    </tr>\n",
       "    <tr>\n",
       "      <th>2005.0</th>\n",
       "      <td>939</td>\n",
       "    </tr>\n",
       "    <tr>\n",
       "      <th>2006.0</th>\n",
       "      <td>1006</td>\n",
       "    </tr>\n",
       "    <tr>\n",
       "      <th>2007.0</th>\n",
       "      <td>1197</td>\n",
       "    </tr>\n",
       "    <tr>\n",
       "      <th>2008.0</th>\n",
       "      <td>1427</td>\n",
       "    </tr>\n",
       "    <tr>\n",
       "      <th>2009.0</th>\n",
       "      <td>1426</td>\n",
       "    </tr>\n",
       "    <tr>\n",
       "      <th>2010.0</th>\n",
       "      <td>1255</td>\n",
       "    </tr>\n",
       "    <tr>\n",
       "      <th>2011.0</th>\n",
       "      <td>1136</td>\n",
       "    </tr>\n",
       "    <tr>\n",
       "      <th>2012.0</th>\n",
       "      <td>653</td>\n",
       "    </tr>\n",
       "    <tr>\n",
       "      <th>2013.0</th>\n",
       "      <td>544</td>\n",
       "    </tr>\n",
       "    <tr>\n",
       "      <th>2014.0</th>\n",
       "      <td>581</td>\n",
       "    </tr>\n",
       "    <tr>\n",
       "      <th>2015.0</th>\n",
       "      <td>606</td>\n",
       "    </tr>\n",
       "    <tr>\n",
       "      <th>2016.0</th>\n",
       "      <td>502</td>\n",
       "    </tr>\n",
       "  </tbody>\n",
       "</table>\n",
       "</div>"
      ],
      "text/plain": [
       "                 games_count\n",
       "year_of_release             \n",
       "1980.0                     9\n",
       "1981.0                    46\n",
       "1982.0                    36\n",
       "1983.0                    17\n",
       "1984.0                    14\n",
       "1985.0                    14\n",
       "1986.0                    21\n",
       "1987.0                    16\n",
       "1988.0                    15\n",
       "1989.0                    17\n",
       "1990.0                    16\n",
       "1991.0                    41\n",
       "1992.0                    43\n",
       "1993.0                    60\n",
       "1994.0                   121\n",
       "1995.0                   219\n",
       "1996.0                   263\n",
       "1997.0                   289\n",
       "1998.0                   379\n",
       "1999.0                   338\n",
       "2000.0                   350\n",
       "2001.0                   482\n",
       "2002.0                   829\n",
       "2003.0                   775\n",
       "2004.0                   762\n",
       "2005.0                   939\n",
       "2006.0                  1006\n",
       "2007.0                  1197\n",
       "2008.0                  1427\n",
       "2009.0                  1426\n",
       "2010.0                  1255\n",
       "2011.0                  1136\n",
       "2012.0                   653\n",
       "2013.0                   544\n",
       "2014.0                   581\n",
       "2015.0                   606\n",
       "2016.0                   502"
      ]
     },
     "execution_count": 16,
     "metadata": {},
     "output_type": "execute_result"
    }
   ],
   "source": [
    "number_of_games_released = pd.pivot_table(games, index='year_of_release', values='name', aggfunc='count')\n",
    "number_of_games_released.columns = ['games_count']\n",
    "number_of_games_released"
   ]
  },
  {
   "cell_type": "code",
   "execution_count": 17,
   "metadata": {},
   "outputs": [
    {
     "data": {
      "text/plain": [
       "Text(0, 0.5, 'Количество продаж')"
      ]
     },
     "execution_count": 17,
     "metadata": {},
     "output_type": "execute_result"
    },
    {
     "data": {
      "image/png": "[encoded data removed]",
      "text/plain": [
       "<Figure size 432x288 with 1 Axes>"
      ]
     },
     "metadata": {
      "needs_background": "light"
     },
     "output_type": "display_data"
    }
   ],
   "source": [
    "number_of_games_released.plot()\n",
    "plt.title(\"Динамика выпуска игр в разные годы\")\n",
    "plt.xlabel(\"Год релиза\")\n",
    "plt.ylabel(\"Количество продаж\")"
   ]
  },
  {
   "cell_type": "markdown",
   "metadata": {},
   "source": [
    "Исходя из графика можно сказать, что пик выхода игр приходится на 2008-2009 гг., а вот до 1994 г. было игр мало. Возможно, резкий скачек роста игр был связан с выходом разных игровых приставок, а спад скорей всего связан с тем, что цифровые технологие начали стремительно развиваться и игровые приставки перестали пользоваться таким спросом, как ранее"
   ]
  },
  {
   "cell_type": "markdown",
   "metadata": {},
   "source": [
    "### Посмотрю, как менялись продажи по платформам. Выберу платформы с наибольшими суммарными продажами и построю распределение по годам. Посмотрю за какой характерный срок появляются новые и исчезают старые платформы?"
   ]
  },
  {
   "cell_type": "code",
   "execution_count": 18,
   "metadata": {},
   "outputs": [
    {
     "data": {
      "text/html": [
       "<div>\n",
       "<style scoped>\n",
       "    .dataframe tbody tr th:only-of-type {\n",
       "        vertical-align: middle;\n",
       "    }\n",
       "\n",
       "    .dataframe tbody tr th {\n",
       "        vertical-align: top;\n",
       "    }\n",
       "\n",
       "    .dataframe thead th {\n",
       "        text-align: right;\n",
       "    }\n",
       "</style>\n",
       "<table border=\"1\" class=\"dataframe\">\n",
       "  <thead>\n",
       "    <tr style=\"text-align: right;\">\n",
       "      <th></th>\n",
       "      <th>total_sales</th>\n",
       "    </tr>\n",
       "    <tr>\n",
       "      <th>platform</th>\n",
       "      <th></th>\n",
       "    </tr>\n",
       "  </thead>\n",
       "  <tbody>\n",
       "    <tr>\n",
       "      <th>PS2</th>\n",
       "      <td>1255.77</td>\n",
       "    </tr>\n",
       "    <tr>\n",
       "      <th>X360</th>\n",
       "      <td>971.42</td>\n",
       "    </tr>\n",
       "    <tr>\n",
       "      <th>PS3</th>\n",
       "      <td>939.65</td>\n",
       "    </tr>\n",
       "    <tr>\n",
       "      <th>Wii</th>\n",
       "      <td>907.51</td>\n",
       "    </tr>\n",
       "    <tr>\n",
       "      <th>DS</th>\n",
       "      <td>806.12</td>\n",
       "    </tr>\n",
       "    <tr>\n",
       "      <th>PS</th>\n",
       "      <td>730.86</td>\n",
       "    </tr>\n",
       "    <tr>\n",
       "      <th>GBA</th>\n",
       "      <td>317.85</td>\n",
       "    </tr>\n",
       "    <tr>\n",
       "      <th>PS4</th>\n",
       "      <td>314.14</td>\n",
       "    </tr>\n",
       "    <tr>\n",
       "      <th>PSP</th>\n",
       "      <td>294.05</td>\n",
       "    </tr>\n",
       "    <tr>\n",
       "      <th>PC</th>\n",
       "      <td>259.52</td>\n",
       "    </tr>\n",
       "    <tr>\n",
       "      <th>3DS</th>\n",
       "      <td>259.00</td>\n",
       "    </tr>\n",
       "    <tr>\n",
       "      <th>XB</th>\n",
       "      <td>257.74</td>\n",
       "    </tr>\n",
       "    <tr>\n",
       "      <th>GB</th>\n",
       "      <td>255.46</td>\n",
       "    </tr>\n",
       "    <tr>\n",
       "      <th>NES</th>\n",
       "      <td>251.05</td>\n",
       "    </tr>\n",
       "    <tr>\n",
       "      <th>N64</th>\n",
       "      <td>218.68</td>\n",
       "    </tr>\n",
       "    <tr>\n",
       "      <th>SNES</th>\n",
       "      <td>200.04</td>\n",
       "    </tr>\n",
       "    <tr>\n",
       "      <th>GC</th>\n",
       "      <td>198.93</td>\n",
       "    </tr>\n",
       "    <tr>\n",
       "      <th>XOne</th>\n",
       "      <td>159.32</td>\n",
       "    </tr>\n",
       "    <tr>\n",
       "      <th>2600</th>\n",
       "      <td>96.98</td>\n",
       "    </tr>\n",
       "    <tr>\n",
       "      <th>WiiU</th>\n",
       "      <td>82.19</td>\n",
       "    </tr>\n",
       "    <tr>\n",
       "      <th>PSV</th>\n",
       "      <td>54.07</td>\n",
       "    </tr>\n",
       "    <tr>\n",
       "      <th>SAT</th>\n",
       "      <td>33.59</td>\n",
       "    </tr>\n",
       "    <tr>\n",
       "      <th>GEN</th>\n",
       "      <td>28.35</td>\n",
       "    </tr>\n",
       "    <tr>\n",
       "      <th>DC</th>\n",
       "      <td>15.95</td>\n",
       "    </tr>\n",
       "    <tr>\n",
       "      <th>SCD</th>\n",
       "      <td>1.86</td>\n",
       "    </tr>\n",
       "    <tr>\n",
       "      <th>NG</th>\n",
       "      <td>1.44</td>\n",
       "    </tr>\n",
       "    <tr>\n",
       "      <th>WS</th>\n",
       "      <td>1.42</td>\n",
       "    </tr>\n",
       "    <tr>\n",
       "      <th>TG16</th>\n",
       "      <td>0.16</td>\n",
       "    </tr>\n",
       "    <tr>\n",
       "      <th>3DO</th>\n",
       "      <td>0.10</td>\n",
       "    </tr>\n",
       "    <tr>\n",
       "      <th>GG</th>\n",
       "      <td>0.04</td>\n",
       "    </tr>\n",
       "    <tr>\n",
       "      <th>PCFX</th>\n",
       "      <td>0.03</td>\n",
       "    </tr>\n",
       "  </tbody>\n",
       "</table>\n",
       "</div>"
      ],
      "text/plain": [
       "          total_sales\n",
       "platform             \n",
       "PS2           1255.77\n",
       "X360           971.42\n",
       "PS3            939.65\n",
       "Wii            907.51\n",
       "DS             806.12\n",
       "PS             730.86\n",
       "GBA            317.85\n",
       "PS4            314.14\n",
       "PSP            294.05\n",
       "PC             259.52\n",
       "3DS            259.00\n",
       "XB             257.74\n",
       "GB             255.46\n",
       "NES            251.05\n",
       "N64            218.68\n",
       "SNES           200.04\n",
       "GC             198.93\n",
       "XOne           159.32\n",
       "2600            96.98\n",
       "WiiU            82.19\n",
       "PSV             54.07\n",
       "SAT             33.59\n",
       "GEN             28.35\n",
       "DC              15.95\n",
       "SCD              1.86\n",
       "NG               1.44\n",
       "WS               1.42\n",
       "TG16             0.16\n",
       "3DO              0.10\n",
       "GG               0.04\n",
       "PCFX             0.03"
      ]
     },
     "execution_count": 18,
     "metadata": {},
     "output_type": "execute_result"
    }
   ],
   "source": [
    "sales_platform = pd.pivot_table(games, index=['platform'], values='total_sales', aggfunc='sum')\n",
    "sales_platform = sales_platform.sort_values('total_sales',ascending=False)\n",
    "sales_platform"
   ]
  },
  {
   "cell_type": "markdown",
   "metadata": {},
   "source": [
    "Посмотрим на самые популярные игровые платформы в числовом отображении. Из данных можно сказать, что наиболее популярные игровые платформы за весь период это PS2, PS3, X360,  WII, DS, PS. Построим график для графического отображения.\n"
   ]
  },
  {
   "cell_type": "code",
   "execution_count": 19,
   "metadata": {},
   "outputs": [
    {
     "data": {
      "text/plain": [
       "Text(0, 0.5, 'Количество продаж')"
      ]
     },
     "execution_count": 19,
     "metadata": {},
     "output_type": "execute_result"
    },
    {
     "data": {
      "image/png": "[encoded data removed]",
      "text/plain": [
       "<Figure size 936x288 with 1 Axes>"
      ]
     },
     "metadata": {
      "needs_background": "light"
     },
     "output_type": "display_data"
    }
   ],
   "source": [
    "sales_platform = games.pivot_table(index='platform', values='total_sales', aggfunc='sum').sort_values(by='total_sales', ascending=False)\n",
    "plt.figure(figsize=(13,4))\n",
    "sns.barplot(x=sales_platform.index,y=sales_platform['total_sales'])\n",
    "plt.title(\"Продажи по платформам за весь период\")\n",
    "plt.xlabel(\"Название платформы\")\n",
    "plt.ylabel(\"Количество продаж\")"
   ]
  },
  {
   "cell_type": "markdown",
   "metadata": {},
   "source": [
    "Возьмем за топ следующие 6 платформ, так как по следующим значительная разница"
   ]
  },
  {
   "cell_type": "code",
   "execution_count": 20,
   "metadata": {
    "scrolled": false
   },
   "outputs": [
    {
     "data": {
      "image/png": "[encoded data removed]",
      "text/plain": [
       "<Figure size 936x288 with 1 Axes>"
      ]
     },
     "metadata": {
      "needs_background": "light"
     },
     "output_type": "display_data"
    },
    {
     "data": {
      "image/png": "[encoded data removed]",
      "text/plain": [
       "<Figure size 936x288 with 1 Axes>"
      ]
     },
     "metadata": {
      "needs_background": "light"
     },
     "output_type": "display_data"
    },
    {
     "data": {
      "image/png": "[encoded data removed]",
      "text/plain": [
       "<Figure size 936x288 with 1 Axes>"
      ]
     },
     "metadata": {
      "needs_background": "light"
     },
     "output_type": "display_data"
    },
    {
     "data": {
      "image/png": "[encoded data removed]",
      "text/plain": [
       "<Figure size 936x288 with 1 Axes>"
      ]
     },
     "metadata": {
      "needs_background": "light"
     },
     "output_type": "display_data"
    },
    {
     "data": {
      "image/png": "[encoded data removed]",
      "text/plain": [
       "<Figure size 936x288 with 1 Axes>"
      ]
     },
     "metadata": {
      "needs_background": "light"
     },
     "output_type": "display_data"
    },
    {
     "data": {
      "image/png": "[encoded data removed]",
      "text/plain": [
       "<Figure size 936x288 with 1 Axes>"
      ]
     },
     "metadata": {
      "needs_background": "light"
     },
     "output_type": "display_data"
    }
   ],
   "source": [
    "top_platforms = ['PS2', 'X360', 'PS3', 'Wii', 'DS', 'PS']\n",
    "for platform in top_platforms:\n",
    "    games[games['platform'] == platform].pivot_table(index='year_of_release', values='total_sales', aggfunc='sum').plot(\n",
    "        kind='bar', figsize=(13,4))\n",
    "    plt.title(platform)\n",
    "    plt.xlabel(\"Год\")\n",
    "    plt.ylabel(\"Суммарные продажи\")"
   ]
  },
  {
   "cell_type": "markdown",
   "metadata": {},
   "source": [
    "А теперь из графиков сделаем вывод продолжительности \"жизни\" платформ:\n",
    "\n",
    "PS2 - с 2000 до 2011 гг. - 11 лет; \n",
    "\n",
    "Х360  - с 2005 до 2016 гг. - 11 лет; \n",
    "\n",
    "PS3 - с 2006 по 2016 гг. - 10 лет;\n",
    "\n",
    "Wii - с 2006 по 2016 гг. - 10 лет;\n",
    "\n",
    "DS - вышла в 1985, потом вообще нет данных. Может данные не собирали, либо игру сняли с продажи на какое время, не известно. Далее видим,что с 2004 по 2013 г. были продажи, - 9 лет;\n",
    "\n",
    "PS - с 1994 года до 2003 гг. - 9 лет;\n",
    "\n",
    "Таким образом, можно сказать, что в среднем платформа живет 10 лет."
   ]
  },
  {
   "cell_type": "markdown",
   "metadata": {},
   "source": [
    "### Проанализурую актуальный период."
   ]
  },
  {
   "cell_type": "code",
   "execution_count": 21,
   "metadata": {},
   "outputs": [
    {
     "data": {
      "image/png": "[encoded data removed]",
      "text/plain": [
       "<Figure size 1080x504 with 1 Axes>"
      ]
     },
     "metadata": {
      "needs_background": "light"
     },
     "output_type": "display_data"
    }
   ],
   "source": [
    "#построю график продаж для определения актуального периода \n",
    "games.pivot_table(index='year_of_release', values='total_sales', aggfunc = 'sum').plot(grid=True, figsize=(15, 7))\n",
    "plt.title('График продаж')\n",
    "plt.xlabel('Год реализации')\n",
    "plt.ylabel('Количество продаж')\n",
    "plt.show()"
   ]
  },
  {
   "cell_type": "markdown",
   "metadata": {},
   "source": [
    "из графика можно сказать что актуальным периодом можно считать года с 2003 по 2016 гг. Собсвтенно говоря в эти года и вышли наиболее популярные платформы. Возьмем за актуальный период последние 4 года."
   ]
  },
  {
   "cell_type": "markdown",
   "metadata": {},
   "source": [
    "### Отброшу данные за предыдущие периоды"
   ]
  },
  {
   "cell_type": "code",
   "execution_count": 22,
   "metadata": {},
   "outputs": [
    {
     "data": {
      "text/html": [
       "<div>\n",
       "<style scoped>\n",
       "    .dataframe tbody tr th:only-of-type {\n",
       "        vertical-align: middle;\n",
       "    }\n",
       "\n",
       "    .dataframe tbody tr th {\n",
       "        vertical-align: top;\n",
       "    }\n",
       "\n",
       "    .dataframe thead th {\n",
       "        text-align: right;\n",
       "    }\n",
       "</style>\n",
       "<table border=\"1\" class=\"dataframe\">\n",
       "  <thead>\n",
       "    <tr style=\"text-align: right;\">\n",
       "      <th></th>\n",
       "      <th>name</th>\n",
       "      <th>platform</th>\n",
       "      <th>year_of_release</th>\n",
       "      <th>genre</th>\n",
       "      <th>na_sales</th>\n",
       "      <th>eu_sales</th>\n",
       "      <th>jp_sales</th>\n",
       "      <th>other_sales</th>\n",
       "      <th>critic_score</th>\n",
       "      <th>user_score</th>\n",
       "      <th>rating</th>\n",
       "      <th>total_sales</th>\n",
       "    </tr>\n",
       "  </thead>\n",
       "  <tbody>\n",
       "    <tr>\n",
       "      <th>16</th>\n",
       "      <td>Grand Theft Auto V</td>\n",
       "      <td>PS3</td>\n",
       "      <td>2013.0</td>\n",
       "      <td>Action</td>\n",
       "      <td>7.02</td>\n",
       "      <td>9.09</td>\n",
       "      <td>0.98</td>\n",
       "      <td>3.96</td>\n",
       "      <td>97.0</td>\n",
       "      <td>8.2</td>\n",
       "      <td>M</td>\n",
       "      <td>21.05</td>\n",
       "    </tr>\n",
       "    <tr>\n",
       "      <th>23</th>\n",
       "      <td>Grand Theft Auto V</td>\n",
       "      <td>X360</td>\n",
       "      <td>2013.0</td>\n",
       "      <td>Action</td>\n",
       "      <td>9.66</td>\n",
       "      <td>5.14</td>\n",
       "      <td>0.06</td>\n",
       "      <td>1.41</td>\n",
       "      <td>97.0</td>\n",
       "      <td>8.1</td>\n",
       "      <td>M</td>\n",
       "      <td>16.27</td>\n",
       "    </tr>\n",
       "    <tr>\n",
       "      <th>31</th>\n",
       "      <td>Call of Duty: Black Ops 3</td>\n",
       "      <td>PS4</td>\n",
       "      <td>2015.0</td>\n",
       "      <td>Shooter</td>\n",
       "      <td>6.03</td>\n",
       "      <td>5.86</td>\n",
       "      <td>0.36</td>\n",
       "      <td>2.38</td>\n",
       "      <td>NaN</td>\n",
       "      <td>NaN</td>\n",
       "      <td>NaN</td>\n",
       "      <td>14.63</td>\n",
       "    </tr>\n",
       "    <tr>\n",
       "      <th>33</th>\n",
       "      <td>Pokemon X/Pokemon Y</td>\n",
       "      <td>3DS</td>\n",
       "      <td>2013.0</td>\n",
       "      <td>Role-Playing</td>\n",
       "      <td>5.28</td>\n",
       "      <td>4.19</td>\n",
       "      <td>4.35</td>\n",
       "      <td>0.78</td>\n",
       "      <td>NaN</td>\n",
       "      <td>NaN</td>\n",
       "      <td>NaN</td>\n",
       "      <td>14.60</td>\n",
       "    </tr>\n",
       "    <tr>\n",
       "      <th>42</th>\n",
       "      <td>Grand Theft Auto V</td>\n",
       "      <td>PS4</td>\n",
       "      <td>2014.0</td>\n",
       "      <td>Action</td>\n",
       "      <td>3.96</td>\n",
       "      <td>6.31</td>\n",
       "      <td>0.38</td>\n",
       "      <td>1.97</td>\n",
       "      <td>97.0</td>\n",
       "      <td>8.3</td>\n",
       "      <td>M</td>\n",
       "      <td>12.62</td>\n",
       "    </tr>\n",
       "    <tr>\n",
       "      <th>47</th>\n",
       "      <td>Pokemon Omega Ruby/Pokemon Alpha Sapphire</td>\n",
       "      <td>3DS</td>\n",
       "      <td>2014.0</td>\n",
       "      <td>Role-Playing</td>\n",
       "      <td>4.35</td>\n",
       "      <td>3.49</td>\n",
       "      <td>3.10</td>\n",
       "      <td>0.74</td>\n",
       "      <td>NaN</td>\n",
       "      <td>NaN</td>\n",
       "      <td>NaN</td>\n",
       "      <td>11.68</td>\n",
       "    </tr>\n",
       "    <tr>\n",
       "      <th>60</th>\n",
       "      <td>Call of Duty: Ghosts</td>\n",
       "      <td>X360</td>\n",
       "      <td>2013.0</td>\n",
       "      <td>Shooter</td>\n",
       "      <td>6.73</td>\n",
       "      <td>2.56</td>\n",
       "      <td>0.04</td>\n",
       "      <td>0.91</td>\n",
       "      <td>73.0</td>\n",
       "      <td>2.6</td>\n",
       "      <td>M</td>\n",
       "      <td>10.24</td>\n",
       "    </tr>\n",
       "    <tr>\n",
       "      <th>69</th>\n",
       "      <td>Call of Duty: Ghosts</td>\n",
       "      <td>PS3</td>\n",
       "      <td>2013.0</td>\n",
       "      <td>Shooter</td>\n",
       "      <td>4.10</td>\n",
       "      <td>3.63</td>\n",
       "      <td>0.38</td>\n",
       "      <td>1.25</td>\n",
       "      <td>71.0</td>\n",
       "      <td>2.6</td>\n",
       "      <td>M</td>\n",
       "      <td>9.36</td>\n",
       "    </tr>\n",
       "    <tr>\n",
       "      <th>72</th>\n",
       "      <td>Minecraft</td>\n",
       "      <td>X360</td>\n",
       "      <td>2013.0</td>\n",
       "      <td>Misc</td>\n",
       "      <td>5.70</td>\n",
       "      <td>2.65</td>\n",
       "      <td>0.02</td>\n",
       "      <td>0.81</td>\n",
       "      <td>NaN</td>\n",
       "      <td>NaN</td>\n",
       "      <td>NaN</td>\n",
       "      <td>9.18</td>\n",
       "    </tr>\n",
       "    <tr>\n",
       "      <th>77</th>\n",
       "      <td>FIFA 16</td>\n",
       "      <td>PS4</td>\n",
       "      <td>2015.0</td>\n",
       "      <td>Sports</td>\n",
       "      <td>1.12</td>\n",
       "      <td>6.12</td>\n",
       "      <td>0.06</td>\n",
       "      <td>1.28</td>\n",
       "      <td>82.0</td>\n",
       "      <td>4.3</td>\n",
       "      <td>E</td>\n",
       "      <td>8.58</td>\n",
       "    </tr>\n",
       "  </tbody>\n",
       "</table>\n",
       "</div>"
      ],
      "text/plain": [
       "                                         name platform  year_of_release  \\\n",
       "16                         Grand Theft Auto V      PS3           2013.0   \n",
       "23                         Grand Theft Auto V     X360           2013.0   \n",
       "31                  Call of Duty: Black Ops 3      PS4           2015.0   \n",
       "33                        Pokemon X/Pokemon Y      3DS           2013.0   \n",
       "42                         Grand Theft Auto V      PS4           2014.0   \n",
       "47  Pokemon Omega Ruby/Pokemon Alpha Sapphire      3DS           2014.0   \n",
       "60                       Call of Duty: Ghosts     X360           2013.0   \n",
       "69                       Call of Duty: Ghosts      PS3           2013.0   \n",
       "72                                  Minecraft     X360           2013.0   \n",
       "77                                    FIFA 16      PS4           2015.0   \n",
       "\n",
       "           genre  na_sales  eu_sales  jp_sales  other_sales  critic_score  \\\n",
       "16        Action      7.02      9.09      0.98         3.96          97.0   \n",
       "23        Action      9.66      5.14      0.06         1.41          97.0   \n",
       "31       Shooter      6.03      5.86      0.36         2.38           NaN   \n",
       "33  Role-Playing      5.28      4.19      4.35         0.78           NaN   \n",
       "42        Action      3.96      6.31      0.38         1.97          97.0   \n",
       "47  Role-Playing      4.35      3.49      3.10         0.74           NaN   \n",
       "60       Shooter      6.73      2.56      0.04         0.91          73.0   \n",
       "69       Shooter      4.10      3.63      0.38         1.25          71.0   \n",
       "72          Misc      5.70      2.65      0.02         0.81           NaN   \n",
       "77        Sports      1.12      6.12      0.06         1.28          82.0   \n",
       "\n",
       "    user_score rating  total_sales  \n",
       "16         8.2      M        21.05  \n",
       "23         8.1      M        16.27  \n",
       "31         NaN    NaN        14.63  \n",
       "33         NaN    NaN        14.60  \n",
       "42         8.3      M        12.62  \n",
       "47         NaN    NaN        11.68  \n",
       "60         2.6      M        10.24  \n",
       "69         2.6      M         9.36  \n",
       "72         NaN    NaN         9.18  \n",
       "77         4.3      E         8.58  "
      ]
     },
     "execution_count": 22,
     "metadata": {},
     "output_type": "execute_result"
    }
   ],
   "source": [
    "#Создам датасет актуального периода для дальнейшего анализа.\n",
    "current_period = games[games['year_of_release'] > 2012]\n",
    "current_period.head(10)"
   ]
  },
  {
   "cell_type": "code",
   "execution_count": 23,
   "metadata": {},
   "outputs": [
    {
     "data": {
      "text/plain": [
       "<AxesSubplot:>"
      ]
     },
     "execution_count": 23,
     "metadata": {},
     "output_type": "execute_result"
    },
    {
     "data": {
      "image/png": "[encoded data removed]",
      "text/plain": [
       "<Figure size 720x288 with 1 Axes>"
      ]
     },
     "metadata": {
      "needs_background": "light"
     },
     "output_type": "display_data"
    }
   ],
   "source": [
    "current_period['year_of_release'].hist(bins=80,figsize=(10,4))"
   ]
  },
  {
   "cell_type": "markdown",
   "metadata": {},
   "source": [
    "### Какие платформы лидируют по продажам, растут или падают? Выберу несколько потенциально прибыльных платформ."
   ]
  },
  {
   "cell_type": "code",
   "execution_count": 24,
   "metadata": {},
   "outputs": [
    {
     "data": {
      "text/html": [
       "<div>\n",
       "<style scoped>\n",
       "    .dataframe tbody tr th:only-of-type {\n",
       "        vertical-align: middle;\n",
       "    }\n",
       "\n",
       "    .dataframe tbody tr th {\n",
       "        vertical-align: top;\n",
       "    }\n",
       "\n",
       "    .dataframe thead th {\n",
       "        text-align: right;\n",
       "    }\n",
       "</style>\n",
       "<table border=\"1\" class=\"dataframe\">\n",
       "  <thead>\n",
       "    <tr style=\"text-align: right;\">\n",
       "      <th></th>\n",
       "      <th>count</th>\n",
       "      <th>mean</th>\n",
       "      <th>std</th>\n",
       "      <th>min</th>\n",
       "      <th>25%</th>\n",
       "      <th>50%</th>\n",
       "      <th>75%</th>\n",
       "      <th>max</th>\n",
       "    </tr>\n",
       "    <tr>\n",
       "      <th>platform</th>\n",
       "      <th></th>\n",
       "      <th></th>\n",
       "      <th></th>\n",
       "      <th></th>\n",
       "      <th></th>\n",
       "      <th></th>\n",
       "      <th></th>\n",
       "      <th></th>\n",
       "    </tr>\n",
       "  </thead>\n",
       "  <tbody>\n",
       "    <tr>\n",
       "      <th>3DS</th>\n",
       "      <td>303.0</td>\n",
       "      <td>0.472772</td>\n",
       "      <td>1.381347</td>\n",
       "      <td>0.01</td>\n",
       "      <td>0.0400</td>\n",
       "      <td>0.090</td>\n",
       "      <td>0.2800</td>\n",
       "      <td>14.60</td>\n",
       "    </tr>\n",
       "    <tr>\n",
       "      <th>DS</th>\n",
       "      <td>8.0</td>\n",
       "      <td>0.192500</td>\n",
       "      <td>0.172026</td>\n",
       "      <td>0.03</td>\n",
       "      <td>0.0675</td>\n",
       "      <td>0.150</td>\n",
       "      <td>0.2525</td>\n",
       "      <td>0.51</td>\n",
       "    </tr>\n",
       "    <tr>\n",
       "      <th>PC</th>\n",
       "      <td>189.0</td>\n",
       "      <td>0.208624</td>\n",
       "      <td>0.352304</td>\n",
       "      <td>0.01</td>\n",
       "      <td>0.0300</td>\n",
       "      <td>0.080</td>\n",
       "      <td>0.2300</td>\n",
       "      <td>3.05</td>\n",
       "    </tr>\n",
       "    <tr>\n",
       "      <th>PS3</th>\n",
       "      <td>345.0</td>\n",
       "      <td>0.525884</td>\n",
       "      <td>1.451939</td>\n",
       "      <td>0.01</td>\n",
       "      <td>0.0400</td>\n",
       "      <td>0.150</td>\n",
       "      <td>0.5100</td>\n",
       "      <td>21.05</td>\n",
       "    </tr>\n",
       "    <tr>\n",
       "      <th>PS4</th>\n",
       "      <td>392.0</td>\n",
       "      <td>0.801378</td>\n",
       "      <td>1.609456</td>\n",
       "      <td>0.01</td>\n",
       "      <td>0.0600</td>\n",
       "      <td>0.200</td>\n",
       "      <td>0.7300</td>\n",
       "      <td>14.63</td>\n",
       "    </tr>\n",
       "    <tr>\n",
       "      <th>PSP</th>\n",
       "      <td>67.0</td>\n",
       "      <td>0.052239</td>\n",
       "      <td>0.059768</td>\n",
       "      <td>0.01</td>\n",
       "      <td>0.0150</td>\n",
       "      <td>0.020</td>\n",
       "      <td>0.0700</td>\n",
       "      <td>0.24</td>\n",
       "    </tr>\n",
       "    <tr>\n",
       "      <th>PSV</th>\n",
       "      <td>358.0</td>\n",
       "      <td>0.092151</td>\n",
       "      <td>0.153816</td>\n",
       "      <td>0.01</td>\n",
       "      <td>0.0200</td>\n",
       "      <td>0.040</td>\n",
       "      <td>0.1100</td>\n",
       "      <td>1.96</td>\n",
       "    </tr>\n",
       "    <tr>\n",
       "      <th>Wii</th>\n",
       "      <td>23.0</td>\n",
       "      <td>0.593913</td>\n",
       "      <td>0.915432</td>\n",
       "      <td>0.01</td>\n",
       "      <td>0.0450</td>\n",
       "      <td>0.180</td>\n",
       "      <td>0.7550</td>\n",
       "      <td>3.58</td>\n",
       "    </tr>\n",
       "    <tr>\n",
       "      <th>WiiU</th>\n",
       "      <td>115.0</td>\n",
       "      <td>0.562000</td>\n",
       "      <td>1.038778</td>\n",
       "      <td>0.01</td>\n",
       "      <td>0.0600</td>\n",
       "      <td>0.200</td>\n",
       "      <td>0.5950</td>\n",
       "      <td>7.09</td>\n",
       "    </tr>\n",
       "    <tr>\n",
       "      <th>X360</th>\n",
       "      <td>186.0</td>\n",
       "      <td>0.735484</td>\n",
       "      <td>1.663275</td>\n",
       "      <td>0.01</td>\n",
       "      <td>0.0800</td>\n",
       "      <td>0.265</td>\n",
       "      <td>0.7950</td>\n",
       "      <td>16.27</td>\n",
       "    </tr>\n",
       "    <tr>\n",
       "      <th>XOne</th>\n",
       "      <td>247.0</td>\n",
       "      <td>0.645020</td>\n",
       "      <td>1.036139</td>\n",
       "      <td>0.01</td>\n",
       "      <td>0.0600</td>\n",
       "      <td>0.220</td>\n",
       "      <td>0.6850</td>\n",
       "      <td>7.39</td>\n",
       "    </tr>\n",
       "  </tbody>\n",
       "</table>\n",
       "</div>"
      ],
      "text/plain": [
       "          count      mean       std   min     25%    50%     75%    max\n",
       "platform                                                               \n",
       "3DS       303.0  0.472772  1.381347  0.01  0.0400  0.090  0.2800  14.60\n",
       "DS          8.0  0.192500  0.172026  0.03  0.0675  0.150  0.2525   0.51\n",
       "PC        189.0  0.208624  0.352304  0.01  0.0300  0.080  0.2300   3.05\n",
       "PS3       345.0  0.525884  1.451939  0.01  0.0400  0.150  0.5100  21.05\n",
       "PS4       392.0  0.801378  1.609456  0.01  0.0600  0.200  0.7300  14.63\n",
       "PSP        67.0  0.052239  0.059768  0.01  0.0150  0.020  0.0700   0.24\n",
       "PSV       358.0  0.092151  0.153816  0.01  0.0200  0.040  0.1100   1.96\n",
       "Wii        23.0  0.593913  0.915432  0.01  0.0450  0.180  0.7550   3.58\n",
       "WiiU      115.0  0.562000  1.038778  0.01  0.0600  0.200  0.5950   7.09\n",
       "X360      186.0  0.735484  1.663275  0.01  0.0800  0.265  0.7950  16.27\n",
       "XOne      247.0  0.645020  1.036139  0.01  0.0600  0.220  0.6850   7.39"
      ]
     },
     "execution_count": 24,
     "metadata": {},
     "output_type": "execute_result"
    }
   ],
   "source": [
    "#Определю какие платформы были прибыльны за актуальный период. \n",
    "current_period.groupby('platform')['total_sales'].describe()"
   ]
  },
  {
   "cell_type": "markdown",
   "metadata": {},
   "source": [
    "### Построю график «ящик с усами» по глобальным продажам игр в разбивке по платформам."
   ]
  },
  {
   "cell_type": "code",
   "execution_count": 25,
   "metadata": {},
   "outputs": [
    {
     "data": {
      "text/plain": [
       "Text(0, 0.5, 'Глобальные продажи')"
      ]
     },
     "execution_count": 25,
     "metadata": {},
     "output_type": "execute_result"
    },
    {
     "data": {
      "image/png": "[encoded data removed]",
      "text/plain": [
       "<Figure size 432x288 with 1 Axes>"
      ]
     },
     "metadata": {
      "needs_background": "light"
     },
     "output_type": "display_data"
    }
   ],
   "source": [
    "sns.boxplot(data=current_period, x='platform', y='total_sales')\n",
    "plt.ylim(0, 3)\n",
    "plt.title('Ящик с усами', fontsize=15)\n",
    "plt.xlabel('Платформа', fontsize=12)\n",
    "plt.ylabel('Глобальные продажи',fontsize=12)"
   ]
  },
  {
   "cell_type": "markdown",
   "metadata": {},
   "source": [
    "- Исходя из графика видно, что медиана у всех по разная.\n",
    "- Больше всех продаж у WiiU, Wii, X360, XOne, PS4, PS3.\n",
    "- Успех моделей можно связать как с родным регионом консоли, так и допустим с обновленной версией платформы, которая ранее имела успех."
   ]
  },
  {
   "cell_type": "markdown",
   "metadata": {},
   "source": [
    "### Посмотрю, как влияют на продажи внутри одной популярной платформы отзывы пользователей и критиков. Построю диаграмму рассеяния и посчитаю корреляцию между отзывами и продажами."
   ]
  },
  {
   "cell_type": "markdown",
   "metadata": {},
   "source": [
    "Посмотрю, как влияют на продажи внутри платформы отзывы критиков и пользователей. Построю диаграмму рассеяния и посчитаю корреляцию между отзывами и продажами. "
   ]
  },
  {
   "cell_type": "code",
   "execution_count": 26,
   "metadata": {},
   "outputs": [
    {
     "data": {
      "text/plain": [
       "0.4193304819266187"
      ]
     },
     "execution_count": 26,
     "metadata": {},
     "output_type": "execute_result"
    }
   ],
   "source": [
    "#Корреляция между оценками пользователей и продажами \n",
    "wiiu = current_period[current_period['platform']=='WiiU']\n",
    "wiiu['user_score'].corr(wiiu['total_sales'])"
   ]
  },
  {
   "cell_type": "code",
   "execution_count": 27,
   "metadata": {},
   "outputs": [
    {
     "data": {
      "text/plain": [
       "Text(0, 0.5, 'Продажи')"
      ]
     },
     "execution_count": 27,
     "metadata": {},
     "output_type": "execute_result"
    },
    {
     "data": {
      "image/png": "[encoded data removed]",
      "text/plain": [
       "<Figure size 864x432 with 1 Axes>"
      ]
     },
     "metadata": {
      "needs_background": "light"
     },
     "output_type": "display_data"
    }
   ],
   "source": [
    "#Построим диаграмму рассеяния\n",
    "plt.figure(figsize=(12,6))\n",
    "sns.scatterplot(x='user_score', y='total_sales', data=wiiu)\n",
    "plt.title('Диаграмма рассеяния влияния оценки пользователей на продажи для WiiU')\n",
    "plt.xlabel('Оценки')\n",
    "plt.ylabel('Продажи')"
   ]
  },
  {
   "cell_type": "code",
   "execution_count": 28,
   "metadata": {},
   "outputs": [
    {
     "data": {
      "text/plain": [
       "0.3764149065423912"
      ]
     },
     "execution_count": 28,
     "metadata": {},
     "output_type": "execute_result"
    }
   ],
   "source": [
    "#Корреляция между оценками критиков и продажами \n",
    "wiiu = current_period[current_period['platform']=='WiiU']\n",
    "wiiu['critic_score'].corr(wiiu['total_sales'])"
   ]
  },
  {
   "cell_type": "code",
   "execution_count": 29,
   "metadata": {},
   "outputs": [
    {
     "data": {
      "text/plain": [
       "Text(0, 0.5, 'Продажи')"
      ]
     },
     "execution_count": 29,
     "metadata": {},
     "output_type": "execute_result"
    },
    {
     "data": {
      "image/png": "[encoded data removed]",
      "text/plain": [
       "<Figure size 864x432 with 1 Axes>"
      ]
     },
     "metadata": {
      "needs_background": "light"
     },
     "output_type": "display_data"
    }
   ],
   "source": [
    "#Построим диаграмму рассеяния\n",
    "plt.figure(figsize=(12,6))\n",
    "sns.scatterplot(x='critic_score', y='total_sales', data=wiiu)\n",
    "plt.title('Диаграмма рассеяния влияния оценки критиков на продажи для WiiU')\n",
    "plt.xlabel('Оценки')\n",
    "plt.ylabel('Продажи')"
   ]
  },
  {
   "cell_type": "markdown",
   "metadata": {},
   "source": [
    "Диаграмма рассеяния и корреляция отображают прямую связь оценки пользователей и критиков на продажи."
   ]
  },
  {
   "cell_type": "markdown",
   "metadata": {},
   "source": [
    "### Соотнесу выводы с продажами игр на других платформах."
   ]
  },
  {
   "cell_type": "code",
   "execution_count": 30,
   "metadata": {},
   "outputs": [
    {
     "data": {
      "image/png": "[encoded data removed]",
      "text/plain": [
       "<Figure size 432x288 with 1 Axes>"
      ]
     },
     "metadata": {
      "needs_background": "light"
     },
     "output_type": "display_data"
    },
    {
     "data": {
      "image/png": "[encoded data removed]",
      "text/plain": [
       "<Figure size 432x288 with 1 Axes>"
      ]
     },
     "metadata": {
      "needs_background": "light"
     },
     "output_type": "display_data"
    },
    {
     "data": {
      "image/png": "[encoded data removed]",
      "text/plain": [
       "<Figure size 432x288 with 1 Axes>"
      ]
     },
     "metadata": {
      "needs_background": "light"
     },
     "output_type": "display_data"
    },
    {
     "data": {
      "image/png": "[encoded data removed]",
      "text/plain": [
       "<Figure size 432x288 with 1 Axes>"
      ]
     },
     "metadata": {
      "needs_background": "light"
     },
     "output_type": "display_data"
    }
   ],
   "source": [
    "#Напишу функцию, которая будет отрисовывать графики рассеивания:\n",
    "#по оценкам критиков:\n",
    "for pl in ['PS3','X360','PS4','XOne']:\n",
    "    current_period[current_period['platform']== pl].plot.scatter(x = 'critic_score', y = 'total_sales',title=pl)\n",
    "    plt.xlabel('Оценки')\n",
    "    plt.ylabel('Продажи')"
   ]
  },
  {
   "cell_type": "code",
   "execution_count": 31,
   "metadata": {},
   "outputs": [
    {
     "data": {
      "image/png": "[encoded data removed]",
      "text/plain": [
       "<Figure size 432x288 with 1 Axes>"
      ]
     },
     "metadata": {
      "needs_background": "light"
     },
     "output_type": "display_data"
    },
    {
     "data": {
      "image/png": "[encoded data removed]",
      "text/plain": [
       "<Figure size 432x288 with 1 Axes>"
      ]
     },
     "metadata": {
      "needs_background": "light"
     },
     "output_type": "display_data"
    },
    {
     "data": {
      "image/png": "[encoded data removed]",
      "text/plain": [
       "<Figure size 432x288 with 1 Axes>"
      ]
     },
     "metadata": {
      "needs_background": "light"
     },
     "output_type": "display_data"
    },
    {
     "data": {
      "image/png": "[encoded data removed]",
      "text/plain": [
       "<Figure size 432x288 with 1 Axes>"
      ]
     },
     "metadata": {
      "needs_background": "light"
     },
     "output_type": "display_data"
    }
   ],
   "source": [
    "#по оценкам пользователей:\n",
    "for pl in ['PS3','X360','PS4','XOne']:\n",
    "    current_period[current_period['platform']== pl].plot.scatter(x = 'user_score', y = 'total_sales',title=pl)\n",
    "    plt.xlabel('Оценки')\n",
    "    plt.ylabel('Продажи')"
   ]
  },
  {
   "cell_type": "code",
   "execution_count": 32,
   "metadata": {},
   "outputs": [
    {
     "name": "stdout",
     "output_type": "stream",
     "text": [
      "PS3\n",
      "0.3342853393371919\n",
      " \n",
      "X360\n",
      "0.3503445460228664\n",
      " \n",
      "PS4\n",
      "0.40656790206178095\n",
      " \n",
      "XOne\n",
      "0.4169983280084017\n",
      " \n"
     ]
    }
   ],
   "source": [
    "#Напишу функцию, которая будет считать корреляции:\n",
    "#по оценкам критиков:\n",
    "for pl in ['PS3','X360','PS4','XOne']:\n",
    "    print(pl)\n",
    "    print(current_period[current_period['platform']== pl]['critic_score'].corr(current_period[current_period['platform']== pl]['total_sales']))\n",
    "    print(' ')"
   ]
  },
  {
   "cell_type": "code",
   "execution_count": 33,
   "metadata": {},
   "outputs": [
    {
     "name": "stdout",
     "output_type": "stream",
     "text": [
      "PS3\n",
      "0.0023944027357566925\n",
      " \n",
      "X360\n",
      "-0.011742185147181342\n",
      " \n",
      "PS4\n",
      "-0.031957110204556376\n",
      " \n",
      "XOne\n",
      "-0.06892505328279414\n",
      " \n"
     ]
    }
   ],
   "source": [
    "#Напишу функцию, которая будет считать корреляции:\n",
    "#по оценкам пользователей:\n",
    "for pl in ['PS3','X360','PS4','XOne']:\n",
    "    print(pl)\n",
    "    print(current_period[current_period['platform']== pl]['user_score'].corr(current_period[current_period['platform']== pl]['total_sales']))\n",
    "    print(' ')"
   ]
  },
  {
   "cell_type": "markdown",
   "metadata": {},
   "source": [
    "Диаграмма рассеяния отображает, что от оценок и отзывов зависят продажи на платформах PS4 и XOne, то есть чем выше оценка, тем больше продаж, о чем также говорит корреляция. Это может быть связано с тем что, у них более интересные игры и удобные платформы для пользователй. \n",
    "\n",
    "Для PS3 и X360  на графике ярко выраженной тенденции нет, и значение коэффициента корреляции близко к нулю.\n",
    "\n",
    "Но стоит заметить оценкам критиков доверяют намного больше."
   ]
  },
  {
   "cell_type": "markdown",
   "metadata": {},
   "source": [
    "### Посмотрю на общее распределение игр по жанрам. Проверю, выделяются ли жанры с высокими и низкими продажами?\n"
   ]
  },
  {
   "cell_type": "code",
   "execution_count": 34,
   "metadata": {},
   "outputs": [
    {
     "data": {
      "text/html": [
       "<div>\n",
       "<style scoped>\n",
       "    .dataframe tbody tr th:only-of-type {\n",
       "        vertical-align: middle;\n",
       "    }\n",
       "\n",
       "    .dataframe tbody tr th {\n",
       "        vertical-align: top;\n",
       "    }\n",
       "\n",
       "    .dataframe thead th {\n",
       "        text-align: right;\n",
       "    }\n",
       "</style>\n",
       "<table border=\"1\" class=\"dataframe\">\n",
       "  <thead>\n",
       "    <tr style=\"text-align: right;\">\n",
       "      <th></th>\n",
       "      <th>genre</th>\n",
       "      <th>total_sales</th>\n",
       "    </tr>\n",
       "  </thead>\n",
       "  <tbody>\n",
       "    <tr>\n",
       "      <th>0</th>\n",
       "      <td>Action</td>\n",
       "      <td>321.87</td>\n",
       "    </tr>\n",
       "    <tr>\n",
       "      <th>1</th>\n",
       "      <td>Shooter</td>\n",
       "      <td>232.98</td>\n",
       "    </tr>\n",
       "    <tr>\n",
       "      <th>2</th>\n",
       "      <td>Sports</td>\n",
       "      <td>150.65</td>\n",
       "    </tr>\n",
       "    <tr>\n",
       "      <th>3</th>\n",
       "      <td>Role-Playing</td>\n",
       "      <td>145.89</td>\n",
       "    </tr>\n",
       "    <tr>\n",
       "      <th>4</th>\n",
       "      <td>Misc</td>\n",
       "      <td>62.82</td>\n",
       "    </tr>\n",
       "    <tr>\n",
       "      <th>5</th>\n",
       "      <td>Platform</td>\n",
       "      <td>42.63</td>\n",
       "    </tr>\n",
       "    <tr>\n",
       "      <th>6</th>\n",
       "      <td>Racing</td>\n",
       "      <td>39.89</td>\n",
       "    </tr>\n",
       "    <tr>\n",
       "      <th>7</th>\n",
       "      <td>Fighting</td>\n",
       "      <td>35.31</td>\n",
       "    </tr>\n",
       "    <tr>\n",
       "      <th>8</th>\n",
       "      <td>Adventure</td>\n",
       "      <td>23.64</td>\n",
       "    </tr>\n",
       "    <tr>\n",
       "      <th>9</th>\n",
       "      <td>Simulation</td>\n",
       "      <td>21.76</td>\n",
       "    </tr>\n",
       "    <tr>\n",
       "      <th>10</th>\n",
       "      <td>Strategy</td>\n",
       "      <td>10.08</td>\n",
       "    </tr>\n",
       "    <tr>\n",
       "      <th>11</th>\n",
       "      <td>Puzzle</td>\n",
       "      <td>3.17</td>\n",
       "    </tr>\n",
       "  </tbody>\n",
       "</table>\n",
       "</div>"
      ],
      "text/plain": [
       "           genre  total_sales\n",
       "0         Action       321.87\n",
       "1        Shooter       232.98\n",
       "2         Sports       150.65\n",
       "3   Role-Playing       145.89\n",
       "4           Misc        62.82\n",
       "5       Platform        42.63\n",
       "6         Racing        39.89\n",
       "7       Fighting        35.31\n",
       "8      Adventure        23.64\n",
       "9     Simulation        21.76\n",
       "10      Strategy        10.08\n",
       "11        Puzzle         3.17"
      ]
     },
     "execution_count": 34,
     "metadata": {},
     "output_type": "execute_result"
    }
   ],
   "source": [
    "selection_genre = current_period.pivot_table(index='genre', values='total_sales', aggfunc='sum').sort_values(\n",
    "    by='total_sales', ascending=False).reset_index()\n",
    "selection_genre"
   ]
  },
  {
   "cell_type": "markdown",
   "metadata": {},
   "source": [
    "Также нарисую диаграмму распределения игр\n"
   ]
  },
  {
   "cell_type": "code",
   "execution_count": 35,
   "metadata": {},
   "outputs": [
    {
     "data": {
      "text/plain": [
       "Text(0, 0.5, 'Продажи')"
      ]
     },
     "execution_count": 35,
     "metadata": {},
     "output_type": "execute_result"
    },
    {
     "data": {
      "image/png": "[encoded data removed]",
      "text/plain": [
       "<Figure size 720x504 with 1 Axes>"
      ]
     },
     "metadata": {
      "needs_background": "light"
     },
     "output_type": "display_data"
    }
   ],
   "source": [
    "plt.figure(figsize=(10,7))\n",
    "plt.title('Распределение игр по жанрам ')\n",
    "sns.barplot(data=selection_genre, x='genre', y='total_sales')\n",
    "plt.xlabel('Жанры игр')\n",
    "plt.ylabel('Продажи')"
   ]
  },
  {
   "cell_type": "markdown",
   "metadata": {},
   "source": [
    "Добавлю диаграмму размаха для сравнения медианных продаж."
   ]
  },
  {
   "cell_type": "code",
   "execution_count": 36,
   "metadata": {},
   "outputs": [
    {
     "data": {
      "text/plain": [
       "Text(0, 0.5, 'Глобальные продажи')"
      ]
     },
     "execution_count": 36,
     "metadata": {},
     "output_type": "execute_result"
    },
    {
     "data": {
      "image/png": "[encoded data removed]",
      "text/plain": [
       "<Figure size 432x288 with 1 Axes>"
      ]
     },
     "metadata": {
      "needs_background": "light"
     },
     "output_type": "display_data"
    }
   ],
   "source": [
    "sns.boxplot(data=current_period, x='genre', y='total_sales')\n",
    "plt.ylim(0, 3)\n",
    "plt.title('Ящик с усами')\n",
    "plt.xlabel('Платформа', fontsize=20)\n",
    "plt.ylabel('Глобальные продажи',fontsize=12)"
   ]
  },
  {
   "cell_type": "markdown",
   "metadata": {},
   "source": [
    "График нам говорит, что больше всего игр жанра Action, а меньше всего Puzzle. В то время как диаграмма размаха акцентирует наше внимание на игры категории Shooter, значит можем сказать, что именно на нее у клиентов наиболее устойчивый спрос."
   ]
  },
  {
   "cell_type": "markdown",
   "metadata": {},
   "source": [
    "## Составление портрета пользователя каждого региона**"
   ]
  },
  {
   "cell_type": "markdown",
   "metadata": {},
   "source": [
    "### Определите для пользователя каждого региона (NA, EU, JP):"
   ]
  },
  {
   "cell_type": "code",
   "execution_count": 37,
   "metadata": {},
   "outputs": [
    {
     "name": "stdout",
     "output_type": "stream",
     "text": [
      "<class 'pandas.core.frame.DataFrame'>\n",
      "Int64Index: 1309 entries, 16 to 16672\n",
      "Data columns (total 12 columns):\n",
      " #   Column           Non-Null Count  Dtype  \n",
      "---  ------           --------------  -----  \n",
      " 0   name             1309 non-null   object \n",
      " 1   platform         1309 non-null   object \n",
      " 2   year_of_release  1309 non-null   float64\n",
      " 3   genre            1309 non-null   object \n",
      " 4   na_sales         1309 non-null   float64\n",
      " 5   eu_sales         1309 non-null   float64\n",
      " 6   jp_sales         1309 non-null   float64\n",
      " 7   other_sales      1309 non-null   float64\n",
      " 8   critic_score     809 non-null    float64\n",
      " 9   user_score       974 non-null    float64\n",
      " 10  rating           1011 non-null   object \n",
      " 11  total_sales      1309 non-null   float64\n",
      "dtypes: float64(8), object(4)\n",
      "memory usage: 132.9+ KB\n"
     ]
    }
   ],
   "source": [
    "#Самые популярные платформы (топ-5). Опишите различия в долях продаж.\n",
    "na = current_period.query('na_sales > 0')\n",
    "na.info()"
   ]
  },
  {
   "cell_type": "code",
   "execution_count": 38,
   "metadata": {},
   "outputs": [
    {
     "name": "stdout",
     "output_type": "stream",
     "text": [
      "<class 'pandas.core.frame.DataFrame'>\n",
      "Int64Index: 1422 entries, 16 to 16692\n",
      "Data columns (total 12 columns):\n",
      " #   Column           Non-Null Count  Dtype  \n",
      "---  ------           --------------  -----  \n",
      " 0   name             1422 non-null   object \n",
      " 1   platform         1422 non-null   object \n",
      " 2   year_of_release  1422 non-null   float64\n",
      " 3   genre            1422 non-null   object \n",
      " 4   na_sales         1422 non-null   float64\n",
      " 5   eu_sales         1422 non-null   float64\n",
      " 6   jp_sales         1422 non-null   float64\n",
      " 7   other_sales      1422 non-null   float64\n",
      " 8   critic_score     872 non-null    float64\n",
      " 9   user_score       1047 non-null   float64\n",
      " 10  rating           1086 non-null   object \n",
      " 11  total_sales      1422 non-null   float64\n",
      "dtypes: float64(8), object(4)\n",
      "memory usage: 144.4+ KB\n"
     ]
    }
   ],
   "source": [
    "eu = current_period.query('eu_sales > 0')\n",
    "eu.info()"
   ]
  },
  {
   "cell_type": "code",
   "execution_count": 39,
   "metadata": {},
   "outputs": [
    {
     "name": "stdout",
     "output_type": "stream",
     "text": [
      "<class 'pandas.core.frame.DataFrame'>\n",
      "Int64Index: 1187 entries, 16 to 16714\n",
      "Data columns (total 12 columns):\n",
      " #   Column           Non-Null Count  Dtype  \n",
      "---  ------           --------------  -----  \n",
      " 0   name             1187 non-null   object \n",
      " 1   platform         1187 non-null   object \n",
      " 2   year_of_release  1187 non-null   float64\n",
      " 3   genre            1187 non-null   object \n",
      " 4   na_sales         1187 non-null   float64\n",
      " 5   eu_sales         1187 non-null   float64\n",
      " 6   jp_sales         1187 non-null   float64\n",
      " 7   other_sales      1187 non-null   float64\n",
      " 8   critic_score     410 non-null    float64\n",
      " 9   user_score       462 non-null    float64\n",
      " 10  rating           475 non-null    object \n",
      " 11  total_sales      1187 non-null   float64\n",
      "dtypes: float64(8), object(4)\n",
      "memory usage: 120.6+ KB\n"
     ]
    }
   ],
   "source": [
    "jp = current_period.query('jp_sales > 0')\n",
    "jp.info()"
   ]
  },
  {
   "cell_type": "markdown",
   "metadata": {},
   "source": [
    "После подготовки данных, найду популярные платформы для каждого региона"
   ]
  },
  {
   "cell_type": "code",
   "execution_count": 40,
   "metadata": {},
   "outputs": [
    {
     "data": {
      "text/html": [
       "<div>\n",
       "<style scoped>\n",
       "    .dataframe tbody tr th:only-of-type {\n",
       "        vertical-align: middle;\n",
       "    }\n",
       "\n",
       "    .dataframe tbody tr th {\n",
       "        vertical-align: top;\n",
       "    }\n",
       "\n",
       "    .dataframe thead th {\n",
       "        text-align: right;\n",
       "    }\n",
       "</style>\n",
       "<table border=\"1\" class=\"dataframe\">\n",
       "  <thead>\n",
       "    <tr style=\"text-align: right;\">\n",
       "      <th></th>\n",
       "      <th>na_sales</th>\n",
       "    </tr>\n",
       "    <tr>\n",
       "      <th>platform</th>\n",
       "      <th></th>\n",
       "    </tr>\n",
       "  </thead>\n",
       "  <tbody>\n",
       "    <tr>\n",
       "      <th>PS4</th>\n",
       "      <td>108.74</td>\n",
       "    </tr>\n",
       "    <tr>\n",
       "      <th>XOne</th>\n",
       "      <td>93.12</td>\n",
       "    </tr>\n",
       "    <tr>\n",
       "      <th>X360</th>\n",
       "      <td>81.66</td>\n",
       "    </tr>\n",
       "    <tr>\n",
       "      <th>PS3</th>\n",
       "      <td>63.50</td>\n",
       "    </tr>\n",
       "    <tr>\n",
       "      <th>3DS</th>\n",
       "      <td>38.20</td>\n",
       "    </tr>\n",
       "    <tr>\n",
       "      <th>WiiU</th>\n",
       "      <td>29.21</td>\n",
       "    </tr>\n",
       "    <tr>\n",
       "      <th>PC</th>\n",
       "      <td>11.11</td>\n",
       "    </tr>\n",
       "    <tr>\n",
       "      <th>Wii</th>\n",
       "      <td>6.56</td>\n",
       "    </tr>\n",
       "    <tr>\n",
       "      <th>PSV</th>\n",
       "      <td>5.04</td>\n",
       "    </tr>\n",
       "    <tr>\n",
       "      <th>DS</th>\n",
       "      <td>0.57</td>\n",
       "    </tr>\n",
       "  </tbody>\n",
       "</table>\n",
       "</div>"
      ],
      "text/plain": [
       "          na_sales\n",
       "platform          \n",
       "PS4         108.74\n",
       "XOne         93.12\n",
       "X360         81.66\n",
       "PS3          63.50\n",
       "3DS          38.20\n",
       "WiiU         29.21\n",
       "PC           11.11\n",
       "Wii           6.56\n",
       "PSV           5.04\n",
       "DS            0.57"
      ]
     },
     "execution_count": 40,
     "metadata": {},
     "output_type": "execute_result"
    }
   ],
   "source": [
    "na = pd.pivot_table(na, index='platform', values='na_sales',aggfunc='sum').sort_values('na_sales', ascending=False)\n",
    "na"
   ]
  },
  {
   "cell_type": "code",
   "execution_count": 41,
   "metadata": {},
   "outputs": [
    {
     "data": {
      "text/html": [
       "<div>\n",
       "<style scoped>\n",
       "    .dataframe tbody tr th:only-of-type {\n",
       "        vertical-align: middle;\n",
       "    }\n",
       "\n",
       "    .dataframe tbody tr th {\n",
       "        vertical-align: top;\n",
       "    }\n",
       "\n",
       "    .dataframe thead th {\n",
       "        text-align: right;\n",
       "    }\n",
       "</style>\n",
       "<table border=\"1\" class=\"dataframe\">\n",
       "  <thead>\n",
       "    <tr style=\"text-align: right;\">\n",
       "      <th></th>\n",
       "      <th>eu_sales</th>\n",
       "    </tr>\n",
       "    <tr>\n",
       "      <th>platform</th>\n",
       "      <th></th>\n",
       "    </tr>\n",
       "  </thead>\n",
       "  <tbody>\n",
       "    <tr>\n",
       "      <th>PS4</th>\n",
       "      <td>141.09</td>\n",
       "    </tr>\n",
       "    <tr>\n",
       "      <th>PS3</th>\n",
       "      <td>67.81</td>\n",
       "    </tr>\n",
       "    <tr>\n",
       "      <th>XOne</th>\n",
       "      <td>51.59</td>\n",
       "    </tr>\n",
       "    <tr>\n",
       "      <th>X360</th>\n",
       "      <td>42.52</td>\n",
       "    </tr>\n",
       "    <tr>\n",
       "      <th>3DS</th>\n",
       "      <td>30.96</td>\n",
       "    </tr>\n",
       "    <tr>\n",
       "      <th>PC</th>\n",
       "      <td>25.36</td>\n",
       "    </tr>\n",
       "    <tr>\n",
       "      <th>WiiU</th>\n",
       "      <td>19.85</td>\n",
       "    </tr>\n",
       "    <tr>\n",
       "      <th>PSV</th>\n",
       "      <td>6.10</td>\n",
       "    </tr>\n",
       "    <tr>\n",
       "      <th>Wii</th>\n",
       "      <td>5.93</td>\n",
       "    </tr>\n",
       "    <tr>\n",
       "      <th>DS</th>\n",
       "      <td>0.85</td>\n",
       "    </tr>\n",
       "    <tr>\n",
       "      <th>PSP</th>\n",
       "      <td>0.17</td>\n",
       "    </tr>\n",
       "  </tbody>\n",
       "</table>\n",
       "</div>"
      ],
      "text/plain": [
       "          eu_sales\n",
       "platform          \n",
       "PS4         141.09\n",
       "PS3          67.81\n",
       "XOne         51.59\n",
       "X360         42.52\n",
       "3DS          30.96\n",
       "PC           25.36\n",
       "WiiU         19.85\n",
       "PSV           6.10\n",
       "Wii           5.93\n",
       "DS            0.85\n",
       "PSP           0.17"
      ]
     },
     "execution_count": 41,
     "metadata": {},
     "output_type": "execute_result"
    }
   ],
   "source": [
    "eu = pd.pivot_table(eu, index='platform', values='eu_sales',aggfunc='sum').sort_values('eu_sales', ascending=False)\n",
    "eu"
   ]
  },
  {
   "cell_type": "code",
   "execution_count": 42,
   "metadata": {},
   "outputs": [
    {
     "data": {
      "text/html": [
       "<div>\n",
       "<style scoped>\n",
       "    .dataframe tbody tr th:only-of-type {\n",
       "        vertical-align: middle;\n",
       "    }\n",
       "\n",
       "    .dataframe tbody tr th {\n",
       "        vertical-align: top;\n",
       "    }\n",
       "\n",
       "    .dataframe thead th {\n",
       "        text-align: right;\n",
       "    }\n",
       "</style>\n",
       "<table border=\"1\" class=\"dataframe\">\n",
       "  <thead>\n",
       "    <tr style=\"text-align: right;\">\n",
       "      <th></th>\n",
       "      <th>jp_sales</th>\n",
       "    </tr>\n",
       "    <tr>\n",
       "      <th>platform</th>\n",
       "      <th></th>\n",
       "    </tr>\n",
       "  </thead>\n",
       "  <tbody>\n",
       "    <tr>\n",
       "      <th>3DS</th>\n",
       "      <td>67.81</td>\n",
       "    </tr>\n",
       "    <tr>\n",
       "      <th>PS3</th>\n",
       "      <td>23.35</td>\n",
       "    </tr>\n",
       "    <tr>\n",
       "      <th>PSV</th>\n",
       "      <td>18.59</td>\n",
       "    </tr>\n",
       "    <tr>\n",
       "      <th>PS4</th>\n",
       "      <td>15.96</td>\n",
       "    </tr>\n",
       "    <tr>\n",
       "      <th>WiiU</th>\n",
       "      <td>10.88</td>\n",
       "    </tr>\n",
       "    <tr>\n",
       "      <th>PSP</th>\n",
       "      <td>3.29</td>\n",
       "    </tr>\n",
       "    <tr>\n",
       "      <th>X360</th>\n",
       "      <td>0.51</td>\n",
       "    </tr>\n",
       "    <tr>\n",
       "      <th>XOne</th>\n",
       "      <td>0.34</td>\n",
       "    </tr>\n",
       "    <tr>\n",
       "      <th>Wii</th>\n",
       "      <td>0.05</td>\n",
       "    </tr>\n",
       "  </tbody>\n",
       "</table>\n",
       "</div>"
      ],
      "text/plain": [
       "          jp_sales\n",
       "platform          \n",
       "3DS          67.81\n",
       "PS3          23.35\n",
       "PSV          18.59\n",
       "PS4          15.96\n",
       "WiiU         10.88\n",
       "PSP           3.29\n",
       "X360          0.51\n",
       "XOne          0.34\n",
       "Wii           0.05"
      ]
     },
     "execution_count": 42,
     "metadata": {},
     "output_type": "execute_result"
    }
   ],
   "source": [
    "jp = pd.pivot_table(jp, index='platform', values='jp_sales',aggfunc='sum').sort_values('jp_sales', ascending=False)\n",
    "jp"
   ]
  },
  {
   "cell_type": "markdown",
   "metadata": {},
   "source": [
    "Рейтинг платформ:\n",
    "- Топ 5 в Северной Америке: PS4, XOne, X360, PS3 и 3DS\n",
    "- Топ 5 в Европе: PS4, PS3, XOne, X360 и 3DS\n",
    "- Топ 5 в Японии: 3DS, PS3, PSV, PS4 и WiiU\n",
    "\n",
    "Различия по популярности платформ скорей всего зависят от влияния фирмы и местоположения компании. Но во всех рейтингах есть продукция компании Sony. Но популярность XOne и X360 в Америке, и 3DS и Wii в Японии обусловлены тем, что их компании производители являются крупными играками рынка в своем регионе. У европейский рынка нет своих крупных играков по разработке игр, поэтому они ориентируются на общую популярность.\n",
    "\n",
    "Можно сказать, что у компаний хорошие показатели в своем регионе, но значительно отличаются за его пределами."
   ]
  },
  {
   "cell_type": "markdown",
   "metadata": {},
   "source": [
    "### Самые популярные жанры (топ-5). Поясните разницу."
   ]
  },
  {
   "cell_type": "code",
   "execution_count": 43,
   "metadata": {},
   "outputs": [
    {
     "data": {
      "text/plain": [
       "Text(0.5, 1.0, 'Распределение количества игр для NA')"
      ]
     },
     "execution_count": 43,
     "metadata": {},
     "output_type": "execute_result"
    },
    {
     "data": {
      "image/png": "[encoded data removed]",
      "text/plain": [
       "<Figure size 432x432 with 1 Axes>"
      ]
     },
     "metadata": {},
     "output_type": "display_data"
    }
   ],
   "source": [
    "#Построю круговую диаграмму для анализа топовых жанров\n",
    "na_genre = current_period.pivot_table(index='genre', values='na_sales', aggfunc='sum') \\\n",
    "           .sort_values(by='na_sales', ascending=False)[:5]\n",
    "na_genre.plot(subplots=True, kind='pie',autopct='%.1f', figsize=(6,6))\n",
    "plt.title('Распределение количества игр для NA')"
   ]
  },
  {
   "cell_type": "code",
   "execution_count": 44,
   "metadata": {},
   "outputs": [
    {
     "data": {
      "text/plain": [
       "Text(0.5, 1.0, 'Распределение количества игр для EU')"
      ]
     },
     "execution_count": 44,
     "metadata": {},
     "output_type": "execute_result"
    },
    {
     "data": {
      "image/png": "[encoded data removed]",
      "text/plain": [
       "<Figure size 432x432 with 1 Axes>"
      ]
     },
     "metadata": {},
     "output_type": "display_data"
    }
   ],
   "source": [
    "eu_genre = current_period.pivot_table(index='genre', values='eu_sales', aggfunc='sum') \\\n",
    "           .sort_values(by='eu_sales', ascending=False)[:5]\n",
    "eu_genre.plot(subplots=True, kind='pie',autopct='%.1f', figsize=(6,6))\n",
    "plt.title('Распределение количества игр для EU')"
   ]
  },
  {
   "cell_type": "code",
   "execution_count": 45,
   "metadata": {},
   "outputs": [
    {
     "data": {
      "text/plain": [
       "Text(0.5, 1.0, 'Распределение количества игр для JP')"
      ]
     },
     "execution_count": 45,
     "metadata": {},
     "output_type": "execute_result"
    },
    {
     "data": {
      "image/png": "[encoded data removed]",
      "text/plain": [
       "<Figure size 432x432 with 1 Axes>"
      ]
     },
     "metadata": {},
     "output_type": "display_data"
    }
   ],
   "source": [
    "jp_genre = current_period.pivot_table(index='genre', values='jp_sales', aggfunc='sum') \\\n",
    "           .sort_values(by='jp_sales', ascending=False)[:5]\n",
    "jp_genre.plot(subplots=True, kind='pie',autopct='%.1f', figsize=(6,6))\n",
    "plt.title('Распределение количества игр для JP')"
   ]
  },
  {
   "cell_type": "markdown",
   "metadata": {},
   "source": [
    "Рейтинг жанров:\n",
    "\n",
    "- Топ 5 в Северной Америке: Action, Shooter, Sports, Role-Playing и Misc\n",
    "- Топ 5 в Европе: Action, Shooter, Sports, Role-Playing и Racing\n",
    "- Топ 5 в Японии: Role-Playing, Action, Misc, Fighting и Shooter"
   ]
  },
  {
   "cell_type": "markdown",
   "metadata": {},
   "source": [
    "### Влияет ли рейтинг ESRB на продажи в отдельном регионе?"
   ]
  },
  {
   "cell_type": "markdown",
   "metadata": {},
   "source": [
    "Для анализа построю гарфик"
   ]
  },
  {
   "cell_type": "code",
   "execution_count": 46,
   "metadata": {},
   "outputs": [
    {
     "data": {
      "image/png": "[encoded data removed]",
      "text/plain": [
       "<Figure size 432x288 with 1 Axes>"
      ]
     },
     "metadata": {
      "needs_background": "light"
     },
     "output_type": "display_data"
    }
   ],
   "source": [
    "na_rating = current_period.pivot_table(index='rating', values='na_sales', aggfunc='sum').plot.bar()\n",
    "plt.title(\"Распределение рейтингов\")\n",
    "plt.xlabel(\"Название рейтинга\")\n",
    "plt.ylabel(\"Количество продаж\")\n",
    "plt.show()"
   ]
  },
  {
   "cell_type": "code",
   "execution_count": 47,
   "metadata": {},
   "outputs": [
    {
     "data": {
      "image/png": "[encoded data removed]",
      "text/plain": [
       "<Figure size 432x288 with 1 Axes>"
      ]
     },
     "metadata": {
      "needs_background": "light"
     },
     "output_type": "display_data"
    }
   ],
   "source": [
    "eu_rating = current_period.pivot_table(index='rating', values='eu_sales', aggfunc='sum').plot.bar()\n",
    "plt.title(\"Распределение рейтингов\")\n",
    "plt.xlabel(\"Название рейтинга\")\n",
    "plt.ylabel(\"Количество продаж\")\n",
    "plt.show()"
   ]
  },
  {
   "cell_type": "code",
   "execution_count": 48,
   "metadata": {},
   "outputs": [
    {
     "data": {
      "image/png": "[encoded data removed]",
      "text/plain": [
       "<Figure size 432x288 with 1 Axes>"
      ]
     },
     "metadata": {
      "needs_background": "light"
     },
     "output_type": "display_data"
    }
   ],
   "source": [
    "jp_rating = current_period.pivot_table(index='rating', values='jp_sales', aggfunc='sum').plot.bar()\n",
    "plt.title(\"Распределение рейтингов\")\n",
    "plt.xlabel(\"Название рейтинга\")\n",
    "plt.ylabel(\"Количество продаж\")\n",
    "plt.show()"
   ]
  },
  {
   "cell_type": "markdown",
   "metadata": {},
   "source": [
    "В NA и EU почти одинаковое распределение. Большая часть выручки получено с игр 18+. В Японии, на первом месте также категория Е, но также близко находится категория Т(то есть игры 13+)"
   ]
  },
  {
   "cell_type": "markdown",
   "metadata": {},
   "source": [
    "## Проверю гипотезы."
   ]
  },
  {
   "cell_type": "markdown",
   "metadata": {},
   "source": [
    "### Средние пользовательские рейтинги платформ Xbox One и PC одинаковые;"
   ]
  },
  {
   "cell_type": "markdown",
   "metadata": {},
   "source": [
    "Проверим гипотезу:\n",
    "\n",
    "- Н0: средние пользовательские рейтинги платформ Xbox One и PC одинаковые.\n",
    "- Н1: средние пользовательские рейтинги платформ Xbox One и PC различаются."
   ]
  },
  {
   "cell_type": "code",
   "execution_count": 49,
   "metadata": {},
   "outputs": [
    {
     "name": "stdout",
     "output_type": "stream",
     "text": [
      "p-значение: 0.14012658403611647\n",
      "Не получилось отвергнуть нулевую гипотезу\n",
      "Средний пользовательский рейтинг платформы Xbox One = 6.521428571428572\n",
      "Средний пользовательский рейтинг платформы PC = 6.2696774193548395\n"
     ]
    }
   ],
   "source": [
    "rating_xone = current_period[(current_period['platform'] == 'XOne') & (current_period['year_of_release'])]['user_score']\n",
    "rating_pc = current_period[(current_period['platform'] == 'PC') & (current_period['year_of_release'])]['user_score']\n",
    "rating_xone = rating_xone.dropna()\n",
    "rating_pc = rating_pc.dropna()\n",
    "\n",
    "alpha = .05\n",
    "\n",
    "results = st.ttest_ind(rating_xone, rating_pc, alternative='two-sided')\n",
    "\n",
    "print('p-значение:', results.pvalue)\n",
    "\n",
    "if (results.pvalue < alpha):\n",
    "    print(\"Отвергаем нулевую гипотезу\")\n",
    "else:\n",
    "    print(\"Не получилось отвергнуть нулевую гипотезу\")\n",
    "    \n",
    "print(\"Средний пользовательский рейтинг платформы Xbox One =\", rating_xone.mean())\n",
    "print(\"Средний пользовательский рейтинг платформы PC =\", rating_pc.mean())"
   ]
  },
  {
   "cell_type": "markdown",
   "metadata": {},
   "source": [
    "Не получилось отвергнуть нулевую гипотезу - это значит, что Н1 отвергнута, а средние пользовательские рейтинги платформ Xbox One и PC схожи."
   ]
  },
  {
   "cell_type": "markdown",
   "metadata": {},
   "source": [
    "### Средние пользовательские рейтинги жанров Action (англ. «действие», экшен-игры) и Sports (англ. «спортивные соревнования») разные."
   ]
  },
  {
   "cell_type": "markdown",
   "metadata": {},
   "source": [
    "Проверим следующую гипотезу:\n",
    "\n",
    "- Н0: средние пользовательские рейтинги жанров Action и Sports одинаковые.\n",
    "- Н1: средние пользовательские рейтинги жанров Action и Sports разные.   "
   ]
  },
  {
   "cell_type": "code",
   "execution_count": 50,
   "metadata": {},
   "outputs": [
    {
     "name": "stdout",
     "output_type": "stream",
     "text": [
      "p-значение: 1.0517832389140023e-27\n",
      "Отвергаем нулевую гипотезу\n",
      "Средний пользовательский рейтинг жанра Action = 6.837532133676092\n",
      "Средний пользовательский рейтинг жанров Sports  = 5.238124999999999\n"
     ]
    }
   ],
   "source": [
    "rating_action = current_period[(current_period['genre'] == 'Action') & (current_period['year_of_release'])]['user_score']\n",
    "rating_sports = current_period[(current_period['genre'] == 'Sports') & (current_period['year_of_release'])]['user_score']\n",
    "rating_action = rating_action.dropna()\n",
    "rating_sports = rating_sports.dropna()\n",
    "alpha = .05\n",
    "\n",
    "results = st.ttest_ind(rating_action, rating_sports, alternative='two-sided')\n",
    "\n",
    "print('p-значение:', results.pvalue)\n",
    "\n",
    "if (results.pvalue < alpha):\n",
    "    print(\"Отвергаем нулевую гипотезу\")\n",
    "else:\n",
    "    print(\"Не получилось отвергнуть нулевую гипотезу\")\n",
    "    \n",
    "print(\"Средний пользовательский рейтинг жанра Action =\", rating_action.mean())\n",
    "print(\"Средний пользовательский рейтинг жанров Sports  =\", rating_sports.mean())"
   ]
  },
  {
   "cell_type": "markdown",
   "metadata": {},
   "source": [
    "Н0 отвергнута, а это означает, что средние пользовательские рейтинги жанров Action и Sports разные. "
   ]
  },
  {
   "cell_type": "markdown",
   "metadata": {},
   "source": [
    "Когда нулевая гипотеза отвергается, мы отвергаем ее в пользу альтернативой гипотезы, а значит, это говорит о том, что интересующий нас параметр или больше какого-то значения или меньше него (alpha = .05).\n",
    "\n",
    "Данная гипотеза будет о равенстве будет HO, соответственно не отвержение данной гипотезы будет означать равенство есть, а в случае отвержения, мы автоматически принимаем альтернативную о неравенстве."
   ]
  },
  {
   "cell_type": "markdown",
   "metadata": {},
   "source": [
    "## Вывод."
   ]
  },
  {
   "cell_type": "markdown",
   "metadata": {},
   "source": [
    "- Перед тем как сделать анализ данных, я подготовила данные, привели к правильным данным столбцы, привели к нижнему регистру столбцы и привели к правильным типам данных необходимые столбцы.\n",
    "- Заменили tbd на nan для проведения дальнейшего анализа.\n",
    "- Проведя анализ, выявила, что спрос на игры и игровые приставки начал расти с 1994 года. А с 2008 года, после того как массово начали создавать мобильные приложения и мобильные игры, пошел спад.\n",
    "- За весь период самые популярные оказались следующие приставки: PS2, X360, PS3, WII, DS, PS.\n",
    "- Также мной было выявлено, что средняя продолжительность жизни игровой приставки составляет 10 лет. Пик продаж наступает примерно через 5 лет после выпуска консоли\n",
    "- Проведя анализ оценок пользователей и критиков выявила, что оценки критиков и пользователей взаимосвязаны с продажами самих игр. Получается, чем больше оценка критиков или пользователей, тем лучше продажа игры.\n",
    "- А ещё, определила, что самый популярный жанр за все время это Action, а на последнем месте Strategy,\n",
    "\n",
    "После мной был составлен портрет пользователей каждого региона.\n",
    "- В Северной Америки:\n",
    "   - Популярными жанры: Аction, Sports, Shooter. \n",
    "   - Игровые приставки: PS2, X360, Wii, PS3, PS. \n",
    "   - По рейтингу игр: E, M, T.\n",
    "- В Европе:\n",
    "   - Популярными жанры: Аction, Sports, Shooter.\n",
    "   - Игровые приставки: PS2, PS3, X360, Wii, PS. \n",
    "   - По рейтингу: E, M, T. Но игр с рейтингом М покупают чаще, чем в Северной Америке.\n",
    "- В Японии:\n",
    "   - Популярными жанры: Role-Playing, Action и Sports.\n",
    "   - Игровые приставки: DS, PS, PS2, SNES, 3DS \n",
    "   - По рейтингу: E, M, T. Но игры категории Т достаточно популярны.\n",
    "   \n",
    "Для прогноза продаж лучше брать данные за последний год, тк технологии развиваются, а вкусы людей могут меняться очень быстро. Соответственно, для 2017 года большую часть прибыли будут приносить игры жанра Action, Sports, для платформ PS2-PS4, DS и Х360, с рейтингом от 17 и выше.\n",
    "\n",
    "Также, по проведенному анализу можно сказать, что влияние на итоговую выручку оказывают, в большинстве случаев, оценки критиков. Оценки пользователей таким \"влиянием\" на выручку похвастаться не могут."
   ]
  }
 ],
 "metadata": {
  "ExecuteTimeLog": [
   {
    "duration": 43,
    "start_time": "2024-03-04T18:05:32.730Z"
   },
   {
    "duration": 6,
    "start_time": "2024-03-04T18:06:11.311Z"
   },
   {
    "duration": 1003,
    "start_time": "2024-03-04T18:07:11.028Z"
   },
   {
    "duration": 98,
    "start_time": "2024-03-04T18:07:14.300Z"
   },
   {
    "duration": 16,
    "start_time": "2024-03-04T18:20:50.930Z"
   },
   {
    "duration": 58,
    "start_time": "2024-03-04T18:26:34.711Z"
   },
   {
    "duration": 8,
    "start_time": "2024-03-04T18:38:57.471Z"
   },
   {
    "duration": 7,
    "start_time": "2024-03-04T18:59:11.135Z"
   },
   {
    "duration": 7,
    "start_time": "2024-03-04T19:02:50.311Z"
   },
   {
    "duration": 554,
    "start_time": "2024-03-04T19:09:48.462Z"
   },
   {
    "duration": 73,
    "start_time": "2024-03-04T19:10:10.852Z"
   },
   {
    "duration": 553,
    "start_time": "2024-03-04T19:12:24.193Z"
   },
   {
    "duration": 1094,
    "start_time": "2024-03-04T19:12:53.168Z"
   },
   {
    "duration": 1101,
    "start_time": "2024-03-04T19:13:05.662Z"
   },
   {
    "duration": 1086,
    "start_time": "2024-03-04T19:14:13.884Z"
   },
   {
    "duration": 8,
    "start_time": "2024-03-04T19:20:20.416Z"
   },
   {
    "duration": 8,
    "start_time": "2024-03-04T19:21:11.885Z"
   },
   {
    "duration": 11,
    "start_time": "2024-03-05T15:26:58.992Z"
   },
   {
    "duration": 11,
    "start_time": "2024-03-05T15:41:00.241Z"
   },
   {
    "duration": 10,
    "start_time": "2024-03-05T15:41:19.340Z"
   },
   {
    "duration": 11,
    "start_time": "2024-03-05T15:45:27.865Z"
   },
   {
    "duration": 6,
    "start_time": "2024-03-05T15:45:55.694Z"
   },
   {
    "duration": 6,
    "start_time": "2024-03-05T16:47:34.990Z"
   },
   {
    "duration": 1069,
    "start_time": "2024-03-05T16:47:44.195Z"
   },
   {
    "duration": 61,
    "start_time": "2024-03-05T16:47:45.265Z"
   },
   {
    "duration": 11,
    "start_time": "2024-03-05T16:47:45.327Z"
   },
   {
    "duration": 31,
    "start_time": "2024-03-05T16:47:45.339Z"
   },
   {
    "duration": 22,
    "start_time": "2024-03-05T16:47:45.372Z"
   },
   {
    "duration": 31,
    "start_time": "2024-03-05T16:47:45.395Z"
   },
   {
    "duration": 3,
    "start_time": "2024-03-05T16:47:55.346Z"
   },
   {
    "duration": 1044,
    "start_time": "2024-03-05T16:48:06.100Z"
   },
   {
    "duration": 63,
    "start_time": "2024-03-05T16:48:07.145Z"
   },
   {
    "duration": 13,
    "start_time": "2024-03-05T16:48:07.209Z"
   },
   {
    "duration": 11,
    "start_time": "2024-03-05T16:48:07.223Z"
   },
   {
    "duration": 5,
    "start_time": "2024-03-05T16:48:07.236Z"
   },
   {
    "duration": 7,
    "start_time": "2024-03-05T16:48:07.242Z"
   },
   {
    "duration": 8,
    "start_time": "2024-03-05T16:50:44.595Z"
   },
   {
    "duration": 8,
    "start_time": "2024-03-05T16:50:59.516Z"
   },
   {
    "duration": 1025,
    "start_time": "2024-03-05T16:51:04.517Z"
   },
   {
    "duration": 61,
    "start_time": "2024-03-05T16:51:05.544Z"
   },
   {
    "duration": 11,
    "start_time": "2024-03-05T16:51:05.608Z"
   },
   {
    "duration": 11,
    "start_time": "2024-03-05T16:51:05.620Z"
   },
   {
    "duration": 5,
    "start_time": "2024-03-05T16:51:05.632Z"
   },
   {
    "duration": 21,
    "start_time": "2024-03-05T16:51:05.638Z"
   },
   {
    "duration": 88,
    "start_time": "2024-03-05T16:54:56.665Z"
   },
   {
    "duration": 81,
    "start_time": "2024-03-05T17:30:43.174Z"
   },
   {
    "duration": 7,
    "start_time": "2024-03-05T17:30:51.625Z"
   },
   {
    "duration": 8,
    "start_time": "2024-03-05T17:31:57.024Z"
   },
   {
    "duration": 6,
    "start_time": "2024-03-05T17:32:08.190Z"
   },
   {
    "duration": 7,
    "start_time": "2024-03-05T17:33:59.781Z"
   },
   {
    "duration": 7,
    "start_time": "2024-03-05T17:34:57.717Z"
   },
   {
    "duration": 7,
    "start_time": "2024-03-05T17:35:12.890Z"
   },
   {
    "duration": 8,
    "start_time": "2024-03-05T17:35:31.224Z"
   },
   {
    "duration": 8,
    "start_time": "2024-03-05T17:36:02.038Z"
   },
   {
    "duration": 6,
    "start_time": "2024-03-05T17:37:34.293Z"
   },
   {
    "duration": 73,
    "start_time": "2024-03-05T17:39:05.186Z"
   },
   {
    "duration": 7,
    "start_time": "2024-03-05T18:18:08.590Z"
   },
   {
    "duration": 71,
    "start_time": "2024-03-05T18:20:17.694Z"
   },
   {
    "duration": 10,
    "start_time": "2024-03-05T18:23:09.656Z"
   },
   {
    "duration": 63,
    "start_time": "2024-03-05T18:23:31.274Z"
   },
   {
    "duration": 6,
    "start_time": "2024-03-05T18:23:35.745Z"
   },
   {
    "duration": 9,
    "start_time": "2024-03-05T18:24:12.308Z"
   },
   {
    "duration": 9,
    "start_time": "2024-03-05T18:24:20.782Z"
   },
   {
    "duration": 9,
    "start_time": "2024-03-05T18:26:43.744Z"
   },
   {
    "duration": 5,
    "start_time": "2024-03-05T18:26:55.375Z"
   },
   {
    "duration": 8,
    "start_time": "2024-03-05T18:29:53.359Z"
   },
   {
    "duration": 4,
    "start_time": "2024-03-05T18:30:02.176Z"
   },
   {
    "duration": 1052,
    "start_time": "2024-03-05T18:30:36.001Z"
   },
   {
    "duration": 60,
    "start_time": "2024-03-05T18:30:37.054Z"
   },
   {
    "duration": 11,
    "start_time": "2024-03-05T18:30:37.115Z"
   },
   {
    "duration": 16,
    "start_time": "2024-03-05T18:30:37.128Z"
   },
   {
    "duration": 5,
    "start_time": "2024-03-05T18:30:37.145Z"
   },
   {
    "duration": 23,
    "start_time": "2024-03-05T18:30:37.151Z"
   },
   {
    "duration": 11,
    "start_time": "2024-03-05T18:30:37.176Z"
   },
   {
    "duration": 10,
    "start_time": "2024-03-05T18:30:37.202Z"
   },
   {
    "duration": 5,
    "start_time": "2024-03-05T18:30:37.213Z"
   },
   {
    "duration": 9,
    "start_time": "2024-03-05T18:30:53.561Z"
   },
   {
    "duration": 13,
    "start_time": "2024-03-05T18:32:21.637Z"
   },
   {
    "duration": 9,
    "start_time": "2024-03-05T18:46:34.197Z"
   },
   {
    "duration": 1138,
    "start_time": "2024-03-05T18:56:31.584Z"
   },
   {
    "duration": 1093,
    "start_time": "2024-03-05T18:56:39.684Z"
   },
   {
    "duration": 5,
    "start_time": "2024-03-05T18:57:10.789Z"
   },
   {
    "duration": 15,
    "start_time": "2024-03-05T19:00:29.318Z"
   },
   {
    "duration": 8,
    "start_time": "2024-03-05T19:04:01.152Z"
   },
   {
    "duration": 8,
    "start_time": "2024-03-05T19:04:14.503Z"
   },
   {
    "duration": 268,
    "start_time": "2024-03-05T19:04:26.920Z"
   },
   {
    "duration": 240,
    "start_time": "2024-03-05T19:04:40.584Z"
   },
   {
    "duration": 268,
    "start_time": "2024-03-05T19:04:50.901Z"
   },
   {
    "duration": 247,
    "start_time": "2024-03-05T19:04:59.751Z"
   },
   {
    "duration": 288,
    "start_time": "2024-03-05T19:05:29.956Z"
   },
   {
    "duration": 1104,
    "start_time": "2024-03-05T19:11:51.081Z"
   },
   {
    "duration": 62,
    "start_time": "2024-03-05T19:11:52.187Z"
   },
   {
    "duration": 12,
    "start_time": "2024-03-05T19:11:52.250Z"
   },
   {
    "duration": 11,
    "start_time": "2024-03-05T19:11:52.263Z"
   },
   {
    "duration": 25,
    "start_time": "2024-03-05T19:11:52.276Z"
   },
   {
    "duration": 50,
    "start_time": "2024-03-05T19:11:52.302Z"
   },
   {
    "duration": 14,
    "start_time": "2024-03-05T19:11:52.354Z"
   },
   {
    "duration": 10,
    "start_time": "2024-03-05T19:11:52.370Z"
   },
   {
    "duration": 26,
    "start_time": "2024-03-05T19:11:52.381Z"
   },
   {
    "duration": 9,
    "start_time": "2024-03-05T19:11:52.408Z"
   },
   {
    "duration": 15,
    "start_time": "2024-03-05T19:11:52.419Z"
   },
   {
    "duration": 1062,
    "start_time": "2024-03-05T19:12:15.301Z"
   },
   {
    "duration": 63,
    "start_time": "2024-03-05T19:12:16.364Z"
   },
   {
    "duration": 11,
    "start_time": "2024-03-05T19:12:16.428Z"
   },
   {
    "duration": 28,
    "start_time": "2024-03-05T19:12:16.440Z"
   },
   {
    "duration": 14,
    "start_time": "2024-03-05T19:12:16.469Z"
   },
   {
    "duration": 23,
    "start_time": "2024-03-05T19:12:16.484Z"
   },
   {
    "duration": 35,
    "start_time": "2024-03-05T19:12:16.509Z"
   },
   {
    "duration": 9,
    "start_time": "2024-03-05T19:12:16.545Z"
   },
   {
    "duration": 21,
    "start_time": "2024-03-05T19:12:16.555Z"
   },
   {
    "duration": 10,
    "start_time": "2024-03-05T19:12:16.577Z"
   },
   {
    "duration": 15,
    "start_time": "2024-03-05T19:12:16.588Z"
   },
   {
    "duration": 91,
    "start_time": "2024-03-05T19:12:16.604Z"
   },
   {
    "duration": 267,
    "start_time": "2024-03-05T19:12:25.286Z"
   },
   {
    "duration": 1384,
    "start_time": "2024-03-05T19:17:35.638Z"
   },
   {
    "duration": 257,
    "start_time": "2024-03-05T19:17:49.029Z"
   },
   {
    "duration": 999,
    "start_time": "2024-03-06T10:17:40.434Z"
   },
   {
    "duration": 59,
    "start_time": "2024-03-06T10:17:41.435Z"
   },
   {
    "duration": 11,
    "start_time": "2024-03-06T10:17:41.495Z"
   },
   {
    "duration": 11,
    "start_time": "2024-03-06T10:17:41.508Z"
   },
   {
    "duration": 29,
    "start_time": "2024-03-06T10:17:41.521Z"
   },
   {
    "duration": 25,
    "start_time": "2024-03-06T10:17:41.551Z"
   },
   {
    "duration": 11,
    "start_time": "2024-03-06T10:17:41.578Z"
   },
   {
    "duration": 8,
    "start_time": "2024-03-06T10:17:41.590Z"
   },
   {
    "duration": 12,
    "start_time": "2024-03-06T10:17:41.599Z"
   },
   {
    "duration": 10,
    "start_time": "2024-03-06T10:17:41.613Z"
   },
   {
    "duration": 16,
    "start_time": "2024-03-06T10:17:41.624Z"
   },
   {
    "duration": 283,
    "start_time": "2024-03-06T10:17:41.641Z"
   },
   {
    "duration": 9,
    "start_time": "2024-03-06T10:17:51.488Z"
   },
   {
    "duration": 11,
    "start_time": "2024-03-06T10:18:44.244Z"
   },
   {
    "duration": 4,
    "start_time": "2024-03-06T10:19:02.619Z"
   },
   {
    "duration": 5,
    "start_time": "2024-03-06T10:19:14.040Z"
   },
   {
    "duration": 11,
    "start_time": "2024-03-06T10:19:16.193Z"
   },
   {
    "duration": 1003,
    "start_time": "2024-03-06T10:22:45.738Z"
   },
   {
    "duration": 60,
    "start_time": "2024-03-06T10:22:46.743Z"
   },
   {
    "duration": 11,
    "start_time": "2024-03-06T10:22:46.804Z"
   },
   {
    "duration": 11,
    "start_time": "2024-03-06T10:22:46.817Z"
   },
   {
    "duration": 17,
    "start_time": "2024-03-06T10:22:46.830Z"
   },
   {
    "duration": 27,
    "start_time": "2024-03-06T10:22:46.848Z"
   },
   {
    "duration": 16,
    "start_time": "2024-03-06T10:22:46.876Z"
   },
   {
    "duration": 21,
    "start_time": "2024-03-06T10:22:46.893Z"
   },
   {
    "duration": 8,
    "start_time": "2024-03-06T10:22:46.915Z"
   },
   {
    "duration": 12,
    "start_time": "2024-03-06T10:22:46.925Z"
   },
   {
    "duration": 8,
    "start_time": "2024-03-06T10:22:46.938Z"
   },
   {
    "duration": 19,
    "start_time": "2024-03-06T10:22:46.948Z"
   },
   {
    "duration": 283,
    "start_time": "2024-03-06T10:22:46.968Z"
   },
   {
    "duration": 11241,
    "start_time": "2024-03-06T10:22:47.253Z"
   },
   {
    "duration": 11401,
    "start_time": "2024-03-06T10:23:08.038Z"
   },
   {
    "duration": 11251,
    "start_time": "2024-03-06T10:23:30.539Z"
   },
   {
    "duration": 93,
    "start_time": "2024-03-06T10:24:33.070Z"
   },
   {
    "duration": 214,
    "start_time": "2024-03-06T10:24:41.869Z"
   },
   {
    "duration": 143,
    "start_time": "2024-03-06T10:24:58.365Z"
   },
   {
    "duration": 337,
    "start_time": "2024-03-06T10:26:03.570Z"
   },
   {
    "duration": 11126,
    "start_time": "2024-03-06T10:26:48.655Z"
   },
   {
    "duration": 11234,
    "start_time": "2024-03-06T10:27:14.087Z"
   },
   {
    "duration": 72,
    "start_time": "2024-03-06T10:28:17.987Z"
   },
   {
    "duration": 11156,
    "start_time": "2024-03-06T10:28:23.990Z"
   },
   {
    "duration": 11145,
    "start_time": "2024-03-06T10:28:45.871Z"
   },
   {
    "duration": 11413,
    "start_time": "2024-03-06T10:30:09.746Z"
   },
   {
    "duration": 11240,
    "start_time": "2024-03-06T10:30:35.055Z"
   },
   {
    "duration": 187,
    "start_time": "2024-03-06T10:31:32.473Z"
   },
   {
    "duration": 1295,
    "start_time": "2024-03-06T10:32:27.305Z"
   },
   {
    "duration": 110,
    "start_time": "2024-03-06T10:40:55.224Z"
   },
   {
    "duration": 16,
    "start_time": "2024-03-06T10:41:35.307Z"
   },
   {
    "duration": 80,
    "start_time": "2024-03-06T10:44:56.640Z"
   },
   {
    "duration": 13,
    "start_time": "2024-03-06T10:45:05.843Z"
   },
   {
    "duration": 1301,
    "start_time": "2024-03-06T10:45:32.692Z"
   },
   {
    "duration": 17,
    "start_time": "2024-03-06T10:46:26.260Z"
   },
   {
    "duration": 8,
    "start_time": "2024-03-06T10:54:10.163Z"
   },
   {
    "duration": 16,
    "start_time": "2024-03-06T10:55:34.230Z"
   },
   {
    "duration": 6758,
    "start_time": "2024-03-06T10:56:50.368Z"
   },
   {
    "duration": 14,
    "start_time": "2024-03-06T10:57:11.539Z"
   },
   {
    "duration": 1199,
    "start_time": "2024-03-06T10:57:28.722Z"
   },
   {
    "duration": 1155,
    "start_time": "2024-03-06T10:57:39.523Z"
   },
   {
    "duration": 1136,
    "start_time": "2024-03-06T10:58:31.938Z"
   },
   {
    "duration": 1142,
    "start_time": "2024-03-06T10:58:38.980Z"
   },
   {
    "duration": 1283,
    "start_time": "2024-03-06T10:59:25.696Z"
   },
   {
    "duration": 1157,
    "start_time": "2024-03-06T10:59:56.903Z"
   },
   {
    "duration": 1233,
    "start_time": "2024-03-06T11:01:56.721Z"
   },
   {
    "duration": 1267,
    "start_time": "2024-03-06T11:06:59.016Z"
   },
   {
    "duration": 16,
    "start_time": "2024-03-06T11:14:24.957Z"
   },
   {
    "duration": 19,
    "start_time": "2024-03-06T11:15:03.497Z"
   },
   {
    "duration": 154,
    "start_time": "2024-03-06T11:15:12.314Z"
   },
   {
    "duration": 11,
    "start_time": "2024-03-06T11:15:29.814Z"
   },
   {
    "duration": 185,
    "start_time": "2024-03-06T11:15:57.661Z"
   },
   {
    "duration": 11,
    "start_time": "2024-03-06T11:16:09.001Z"
   },
   {
    "duration": 256,
    "start_time": "2024-03-06T11:18:51.481Z"
   },
   {
    "duration": 12,
    "start_time": "2024-03-06T11:18:57.398Z"
   },
   {
    "duration": 241,
    "start_time": "2024-03-06T11:19:50.417Z"
   },
   {
    "duration": 235,
    "start_time": "2024-03-06T11:20:12.414Z"
   },
   {
    "duration": 78,
    "start_time": "2024-03-06T11:20:51.981Z"
   },
   {
    "duration": 88,
    "start_time": "2024-03-06T11:21:01.381Z"
   },
   {
    "duration": 75,
    "start_time": "2024-03-06T11:21:07.413Z"
   },
   {
    "duration": 76,
    "start_time": "2024-03-06T11:23:05.290Z"
   },
   {
    "duration": 85,
    "start_time": "2024-03-06T11:23:30.856Z"
   },
   {
    "duration": 66,
    "start_time": "2024-03-06T11:23:43.067Z"
   },
   {
    "duration": 85,
    "start_time": "2024-03-06T11:25:06.149Z"
   },
   {
    "duration": 69,
    "start_time": "2024-03-06T11:25:15.313Z"
   },
   {
    "duration": 105,
    "start_time": "2024-03-06T11:31:13.940Z"
   },
   {
    "duration": 104,
    "start_time": "2024-03-06T11:31:59.738Z"
   },
   {
    "duration": 129,
    "start_time": "2024-03-06T11:38:14.790Z"
   },
   {
    "duration": 13,
    "start_time": "2024-03-06T11:39:07.366Z"
   },
   {
    "duration": 13,
    "start_time": "2024-03-06T11:39:15.550Z"
   },
   {
    "duration": 182,
    "start_time": "2024-03-06T11:39:22.780Z"
   },
   {
    "duration": 231,
    "start_time": "2024-03-06T11:41:50.034Z"
   },
   {
    "duration": 10,
    "start_time": "2024-03-06T11:56:31.557Z"
   },
   {
    "duration": 12,
    "start_time": "2024-03-06T11:57:44.962Z"
   },
   {
    "duration": 14,
    "start_time": "2024-03-06T11:57:55.394Z"
   },
   {
    "duration": 12,
    "start_time": "2024-03-06T11:59:31.531Z"
   },
   {
    "duration": 13,
    "start_time": "2024-03-06T11:59:43.678Z"
   },
   {
    "duration": 12,
    "start_time": "2024-03-06T12:01:08.852Z"
   },
   {
    "duration": 13,
    "start_time": "2024-03-06T12:01:56.544Z"
   },
   {
    "duration": 14,
    "start_time": "2024-03-06T12:03:15.128Z"
   },
   {
    "duration": 13,
    "start_time": "2024-03-06T12:03:43.063Z"
   },
   {
    "duration": 13,
    "start_time": "2024-03-06T12:11:52.348Z"
   },
   {
    "duration": 3,
    "start_time": "2024-03-06T12:16:33.092Z"
   },
   {
    "duration": 2,
    "start_time": "2024-03-06T12:16:41.122Z"
   },
   {
    "duration": 7,
    "start_time": "2024-03-06T12:17:04.954Z"
   },
   {
    "duration": 914,
    "start_time": "2024-03-06T12:18:24.274Z"
   },
   {
    "duration": 935,
    "start_time": "2024-03-06T12:20:39.226Z"
   },
   {
    "duration": 246,
    "start_time": "2024-03-06T12:21:31.559Z"
   },
   {
    "duration": 158,
    "start_time": "2024-03-06T12:21:37.487Z"
   },
   {
    "duration": 932,
    "start_time": "2024-03-06T12:21:57.139Z"
   },
   {
    "duration": 947,
    "start_time": "2024-03-06T12:22:23.031Z"
   },
   {
    "duration": 1027,
    "start_time": "2024-03-06T12:22:31.512Z"
   },
   {
    "duration": 931,
    "start_time": "2024-03-06T12:33:01.301Z"
   },
   {
    "duration": 106,
    "start_time": "2024-03-06T15:16:39.429Z"
   },
   {
    "duration": 71,
    "start_time": "2024-03-06T15:17:10.365Z"
   },
   {
    "duration": 236,
    "start_time": "2024-03-06T15:17:35.836Z"
   },
   {
    "duration": 153,
    "start_time": "2024-03-06T15:17:58.128Z"
   },
   {
    "duration": 278,
    "start_time": "2024-03-06T15:18:06.945Z"
   },
   {
    "duration": 146,
    "start_time": "2024-03-06T15:18:18.420Z"
   },
   {
    "duration": 152,
    "start_time": "2024-03-06T15:18:32.261Z"
   },
   {
    "duration": 203,
    "start_time": "2024-03-06T15:19:29.062Z"
   },
   {
    "duration": 167,
    "start_time": "2024-03-06T15:19:41.254Z"
   },
   {
    "duration": 180,
    "start_time": "2024-03-06T15:26:29.512Z"
   },
   {
    "duration": 86,
    "start_time": "2024-03-06T15:35:15.061Z"
   },
   {
    "duration": 8,
    "start_time": "2024-03-06T15:38:22.072Z"
   },
   {
    "duration": 7,
    "start_time": "2024-03-06T15:38:34.503Z"
   },
   {
    "duration": 73,
    "start_time": "2024-03-06T15:41:12.053Z"
   },
   {
    "duration": 17,
    "start_time": "2024-03-06T15:41:18.936Z"
   },
   {
    "duration": 29,
    "start_time": "2024-03-06T15:42:13.469Z"
   },
   {
    "duration": 17,
    "start_time": "2024-03-06T15:47:46.172Z"
   },
   {
    "duration": 273,
    "start_time": "2024-03-06T15:48:20.340Z"
   },
   {
    "duration": 175,
    "start_time": "2024-03-06T15:49:17.240Z"
   },
   {
    "duration": 26,
    "start_time": "2024-03-06T15:50:08.119Z"
   },
   {
    "duration": 7,
    "start_time": "2024-03-06T15:50:36.211Z"
   },
   {
    "duration": 8,
    "start_time": "2024-03-06T15:51:30.302Z"
   },
   {
    "duration": 35,
    "start_time": "2024-03-06T15:51:44.554Z"
   },
   {
    "duration": 201,
    "start_time": "2024-03-06T16:02:03.193Z"
   },
   {
    "duration": 7,
    "start_time": "2024-03-06T16:02:25.690Z"
   },
   {
    "duration": 7,
    "start_time": "2024-03-06T16:02:51.481Z"
   },
   {
    "duration": 183,
    "start_time": "2024-03-06T16:03:42.458Z"
   },
   {
    "duration": 94,
    "start_time": "2024-03-06T16:03:56.190Z"
   },
   {
    "duration": 184,
    "start_time": "2024-03-06T16:04:01.758Z"
   },
   {
    "duration": 86,
    "start_time": "2024-03-06T16:15:44.105Z"
   },
   {
    "duration": 86,
    "start_time": "2024-03-06T16:16:40.222Z"
   },
   {
    "duration": 84,
    "start_time": "2024-03-06T16:16:49.721Z"
   },
   {
    "duration": 1057,
    "start_time": "2024-03-06T16:17:38.291Z"
   },
   {
    "duration": 61,
    "start_time": "2024-03-06T16:17:39.350Z"
   },
   {
    "duration": 12,
    "start_time": "2024-03-06T16:17:39.412Z"
   },
   {
    "duration": 10,
    "start_time": "2024-03-06T16:17:39.427Z"
   },
   {
    "duration": 6,
    "start_time": "2024-03-06T16:17:39.439Z"
   },
   {
    "duration": 23,
    "start_time": "2024-03-06T16:17:39.446Z"
   },
   {
    "duration": 8,
    "start_time": "2024-03-06T16:17:39.470Z"
   },
   {
    "duration": 30,
    "start_time": "2024-03-06T16:17:39.479Z"
   },
   {
    "duration": 6,
    "start_time": "2024-03-06T16:17:39.511Z"
   },
   {
    "duration": 10,
    "start_time": "2024-03-06T16:17:39.519Z"
   },
   {
    "duration": 8,
    "start_time": "2024-03-06T16:17:39.530Z"
   },
   {
    "duration": 15,
    "start_time": "2024-03-06T16:17:39.539Z"
   },
   {
    "duration": 280,
    "start_time": "2024-03-06T16:17:39.555Z"
   },
   {
    "duration": 222,
    "start_time": "2024-03-06T16:17:39.836Z"
   },
   {
    "duration": 12,
    "start_time": "2024-03-06T16:17:40.059Z"
   },
   {
    "duration": 954,
    "start_time": "2024-03-06T16:17:40.072Z"
   },
   {
    "duration": 236,
    "start_time": "2024-03-06T16:17:41.028Z"
   },
   {
    "duration": 15,
    "start_time": "2024-03-06T16:17:41.266Z"
   },
   {
    "duration": 180,
    "start_time": "2024-03-06T16:17:41.282Z"
   },
   {
    "duration": 35,
    "start_time": "2024-03-06T16:17:41.463Z"
   },
   {
    "duration": 164,
    "start_time": "2024-03-06T16:17:41.502Z"
   },
   {
    "duration": 90,
    "start_time": "2024-03-06T16:19:23.359Z"
   },
   {
    "duration": 87,
    "start_time": "2024-03-06T16:29:16.475Z"
   },
   {
    "duration": 9,
    "start_time": "2024-03-06T16:31:16.062Z"
   },
   {
    "duration": 229,
    "start_time": "2024-03-06T16:31:38.550Z"
   },
   {
    "duration": 10,
    "start_time": "2024-03-06T16:33:27.124Z"
   },
   {
    "duration": 35,
    "start_time": "2024-03-06T16:38:51.581Z"
   },
   {
    "duration": 93,
    "start_time": "2024-03-06T16:42:20.692Z"
   },
   {
    "duration": 69,
    "start_time": "2024-03-06T16:44:05.910Z"
   },
   {
    "duration": 158,
    "start_time": "2024-03-06T16:44:12.227Z"
   },
   {
    "duration": 11,
    "start_time": "2024-03-06T16:44:53.484Z"
   },
   {
    "duration": 144,
    "start_time": "2024-03-06T16:45:06.926Z"
   },
   {
    "duration": 85,
    "start_time": "2024-03-06T16:45:17.476Z"
   },
   {
    "duration": 69,
    "start_time": "2024-03-06T16:45:26.226Z"
   },
   {
    "duration": 13,
    "start_time": "2024-03-06T16:48:41.875Z"
   },
   {
    "duration": 12,
    "start_time": "2024-03-06T16:49:02.342Z"
   },
   {
    "duration": 11,
    "start_time": "2024-03-06T16:49:20.832Z"
   },
   {
    "duration": 1072,
    "start_time": "2024-03-06T17:11:37.491Z"
   },
   {
    "duration": 60,
    "start_time": "2024-03-06T17:11:38.565Z"
   },
   {
    "duration": 11,
    "start_time": "2024-03-06T17:11:38.626Z"
   },
   {
    "duration": 32,
    "start_time": "2024-03-06T17:11:38.639Z"
   },
   {
    "duration": 16,
    "start_time": "2024-03-06T17:11:38.672Z"
   },
   {
    "duration": 38,
    "start_time": "2024-03-06T17:11:38.689Z"
   },
   {
    "duration": 7,
    "start_time": "2024-03-06T17:11:38.728Z"
   },
   {
    "duration": 29,
    "start_time": "2024-03-06T17:11:38.736Z"
   },
   {
    "duration": 8,
    "start_time": "2024-03-06T17:11:38.766Z"
   },
   {
    "duration": 17,
    "start_time": "2024-03-06T17:11:38.776Z"
   },
   {
    "duration": 8,
    "start_time": "2024-03-06T17:11:38.794Z"
   },
   {
    "duration": 15,
    "start_time": "2024-03-06T17:11:38.803Z"
   },
   {
    "duration": 264,
    "start_time": "2024-03-06T17:11:38.820Z"
   },
   {
    "duration": 228,
    "start_time": "2024-03-06T17:11:39.086Z"
   },
   {
    "duration": 13,
    "start_time": "2024-03-06T17:11:39.315Z"
   },
   {
    "duration": 939,
    "start_time": "2024-03-06T17:11:39.329Z"
   },
   {
    "duration": 256,
    "start_time": "2024-03-06T17:11:40.270Z"
   },
   {
    "duration": 15,
    "start_time": "2024-03-06T17:11:40.527Z"
   },
   {
    "duration": 177,
    "start_time": "2024-03-06T17:11:40.544Z"
   },
   {
    "duration": 36,
    "start_time": "2024-03-06T17:11:40.723Z"
   },
   {
    "duration": 243,
    "start_time": "2024-03-06T17:11:40.761Z"
   },
   {
    "duration": 280,
    "start_time": "2024-03-06T17:11:41.005Z"
   },
   {
    "duration": 1208,
    "start_time": "2024-03-06T17:17:10.674Z"
   },
   {
    "duration": 1098,
    "start_time": "2024-03-06T17:17:32.876Z"
   },
   {
    "duration": 1196,
    "start_time": "2024-03-06T17:18:29.744Z"
   },
   {
    "duration": 14,
    "start_time": "2024-03-06T17:21:23.578Z"
   },
   {
    "duration": 7,
    "start_time": "2024-03-06T17:22:11.879Z"
   },
   {
    "duration": 4,
    "start_time": "2024-03-06T17:22:25.360Z"
   },
   {
    "duration": 172,
    "start_time": "2024-03-06T17:22:41.401Z"
   },
   {
    "duration": 75,
    "start_time": "2024-03-06T17:23:07.694Z"
   },
   {
    "duration": 1133,
    "start_time": "2024-03-06T17:23:22.464Z"
   },
   {
    "duration": 71,
    "start_time": "2024-03-06T17:25:16.312Z"
   },
   {
    "duration": 70,
    "start_time": "2024-03-06T17:26:28.814Z"
   },
   {
    "duration": 9,
    "start_time": "2024-03-06T17:26:39.231Z"
   },
   {
    "duration": 6,
    "start_time": "2024-03-06T17:32:45.260Z"
   },
   {
    "duration": 8,
    "start_time": "2024-03-06T17:33:07.576Z"
   },
   {
    "duration": 6,
    "start_time": "2024-03-06T17:33:14.484Z"
   },
   {
    "duration": 65,
    "start_time": "2024-03-06T17:34:06.721Z"
   },
   {
    "duration": 122,
    "start_time": "2024-03-06T17:35:37.605Z"
   },
   {
    "duration": 176,
    "start_time": "2024-03-06T17:37:48.054Z"
   },
   {
    "duration": 11,
    "start_time": "2024-03-06T17:39:21.307Z"
   },
   {
    "duration": 113,
    "start_time": "2024-03-06T17:40:31.611Z"
   },
   {
    "duration": 10,
    "start_time": "2024-03-06T18:10:52.828Z"
   },
   {
    "duration": 8,
    "start_time": "2024-03-06T18:11:33.606Z"
   },
   {
    "duration": 599,
    "start_time": "2024-03-06T18:11:47.405Z"
   },
   {
    "duration": 610,
    "start_time": "2024-03-06T18:12:15.571Z"
   },
   {
    "duration": 97,
    "start_time": "2024-03-06T18:15:48.008Z"
   },
   {
    "duration": 14,
    "start_time": "2024-03-06T18:16:01.998Z"
   },
   {
    "duration": 16,
    "start_time": "2024-03-06T18:16:37.607Z"
   },
   {
    "duration": 289,
    "start_time": "2024-03-06T18:24:38.082Z"
   },
   {
    "duration": 286,
    "start_time": "2024-03-06T18:25:33.700Z"
   },
   {
    "duration": 15,
    "start_time": "2024-03-06T18:33:14.541Z"
   },
   {
    "duration": 28,
    "start_time": "2024-03-06T18:33:38.707Z"
   },
   {
    "duration": 35,
    "start_time": "2024-03-06T18:33:58.472Z"
   },
   {
    "duration": 12,
    "start_time": "2024-03-06T18:36:08.239Z"
   },
   {
    "duration": 6,
    "start_time": "2024-03-06T18:36:12.639Z"
   },
   {
    "duration": 14,
    "start_time": "2024-03-06T18:36:29.948Z"
   },
   {
    "duration": 118,
    "start_time": "2024-03-06T18:36:37.492Z"
   },
   {
    "duration": 209,
    "start_time": "2024-03-06T18:37:50.196Z"
   },
   {
    "duration": 9,
    "start_time": "2024-03-06T18:39:08.369Z"
   },
   {
    "duration": 558,
    "start_time": "2024-03-06T18:39:16.839Z"
   },
   {
    "duration": 11,
    "start_time": "2024-03-06T18:40:45.942Z"
   },
   {
    "duration": 591,
    "start_time": "2024-03-06T18:41:28.071Z"
   },
   {
    "duration": 9,
    "start_time": "2024-03-06T18:42:45.820Z"
   },
   {
    "duration": 11,
    "start_time": "2024-03-06T18:43:30.570Z"
   },
   {
    "duration": 16,
    "start_time": "2024-03-06T18:44:35.205Z"
   },
   {
    "duration": 15,
    "start_time": "2024-03-06T18:48:13.704Z"
   },
   {
    "duration": 225,
    "start_time": "2024-03-06T18:48:26.803Z"
   },
   {
    "duration": 7,
    "start_time": "2024-03-06T18:57:43.534Z"
   },
   {
    "duration": 7,
    "start_time": "2024-03-06T18:58:15.587Z"
   },
   {
    "duration": 12,
    "start_time": "2024-03-06T18:58:29.069Z"
   },
   {
    "duration": 290,
    "start_time": "2024-03-06T18:59:43.656Z"
   },
   {
    "duration": 160,
    "start_time": "2024-03-06T18:59:54.302Z"
   },
   {
    "duration": 70,
    "start_time": "2024-03-06T19:04:05.402Z"
   },
   {
    "duration": 14,
    "start_time": "2024-03-06T19:36:12.452Z"
   },
   {
    "duration": 10,
    "start_time": "2024-03-06T19:36:31.534Z"
   },
   {
    "duration": 12,
    "start_time": "2024-03-06T19:37:00.731Z"
   },
   {
    "duration": 16,
    "start_time": "2024-03-06T19:37:05.400Z"
   },
   {
    "duration": 11,
    "start_time": "2024-03-06T19:37:22.917Z"
   },
   {
    "duration": 11,
    "start_time": "2024-03-06T19:37:51.915Z"
   },
   {
    "duration": 12,
    "start_time": "2024-03-06T19:40:02.624Z"
   },
   {
    "duration": 12,
    "start_time": "2024-03-06T19:40:29.921Z"
   },
   {
    "duration": 11,
    "start_time": "2024-03-06T19:40:58.593Z"
   },
   {
    "duration": 72,
    "start_time": "2024-03-06T19:43:28.244Z"
   },
   {
    "duration": 12,
    "start_time": "2024-03-06T19:43:39.164Z"
   },
   {
    "duration": 11,
    "start_time": "2024-03-06T19:43:43.642Z"
   },
   {
    "duration": 11,
    "start_time": "2024-03-06T19:47:56.763Z"
   },
   {
    "duration": 11,
    "start_time": "2024-03-06T19:48:32.215Z"
   },
   {
    "duration": 6,
    "start_time": "2024-03-06T19:49:19.632Z"
   },
   {
    "duration": 10,
    "start_time": "2024-03-06T19:49:25.931Z"
   },
   {
    "duration": 10,
    "start_time": "2024-03-06T19:51:24.573Z"
   },
   {
    "duration": 100,
    "start_time": "2024-03-06T19:54:16.569Z"
   },
   {
    "duration": 107,
    "start_time": "2024-03-06T19:54:26.305Z"
   },
   {
    "duration": 395,
    "start_time": "2024-03-06T19:55:02.689Z"
   },
   {
    "duration": 101,
    "start_time": "2024-03-06T19:55:29.620Z"
   },
   {
    "duration": 391,
    "start_time": "2024-03-06T19:55:42.573Z"
   },
   {
    "duration": 180,
    "start_time": "2024-03-06T19:56:47.187Z"
   },
   {
    "duration": 111,
    "start_time": "2024-03-06T19:56:56.521Z"
   },
   {
    "duration": 143,
    "start_time": "2024-03-06T19:58:44.872Z"
   },
   {
    "duration": 151,
    "start_time": "2024-03-06T19:59:21.956Z"
   },
   {
    "duration": 156,
    "start_time": "2024-03-06T20:02:39.395Z"
   },
   {
    "duration": 11,
    "start_time": "2024-03-06T20:06:39.811Z"
   },
   {
    "duration": 12,
    "start_time": "2024-03-06T20:06:58.529Z"
   },
   {
    "duration": 13,
    "start_time": "2024-03-06T20:12:00.543Z"
   },
   {
    "duration": 123,
    "start_time": "2024-03-06T20:12:44.544Z"
   },
   {
    "duration": 132,
    "start_time": "2024-03-06T20:13:28.027Z"
   },
   {
    "duration": 128,
    "start_time": "2024-03-06T20:13:40.894Z"
   },
   {
    "duration": 68,
    "start_time": "2024-03-06T20:44:31.193Z"
   },
   {
    "duration": 76,
    "start_time": "2024-03-06T20:47:03.988Z"
   },
   {
    "duration": 11,
    "start_time": "2024-03-06T20:47:27.023Z"
   },
   {
    "duration": 19,
    "start_time": "2024-03-06T20:47:43.939Z"
   },
   {
    "duration": 11,
    "start_time": "2024-03-06T20:48:36.407Z"
   },
   {
    "duration": 12,
    "start_time": "2024-03-07T09:14:27.268Z"
   },
   {
    "duration": 7,
    "start_time": "2024-03-07T09:14:56.205Z"
   },
   {
    "duration": 11,
    "start_time": "2024-03-07T09:47:00.374Z"
   },
   {
    "duration": 9,
    "start_time": "2024-03-07T09:47:07.732Z"
   },
   {
    "duration": 10,
    "start_time": "2024-03-07T09:47:12.816Z"
   },
   {
    "duration": 4,
    "start_time": "2024-03-07T09:47:22.772Z"
   },
   {
    "duration": 10,
    "start_time": "2024-03-07T09:48:00.422Z"
   },
   {
    "duration": 8,
    "start_time": "2024-03-07T09:50:04.918Z"
   },
   {
    "duration": 7,
    "start_time": "2024-03-07T09:51:41.334Z"
   },
   {
    "duration": 2,
    "start_time": "2024-03-07T09:52:41.283Z"
   },
   {
    "duration": 5,
    "start_time": "2024-03-07T09:52:49.387Z"
   },
   {
    "duration": 8,
    "start_time": "2024-03-07T09:59:15.384Z"
   },
   {
    "duration": 10,
    "start_time": "2024-03-07T09:59:48.421Z"
   },
   {
    "duration": 9,
    "start_time": "2024-03-07T10:00:00.640Z"
   },
   {
    "duration": 7,
    "start_time": "2024-03-07T10:00:43.268Z"
   },
   {
    "duration": 5,
    "start_time": "2024-03-07T10:00:45.572Z"
   },
   {
    "duration": 9,
    "start_time": "2024-03-07T10:00:50.519Z"
   },
   {
    "duration": 8,
    "start_time": "2024-03-07T10:01:01.742Z"
   },
   {
    "duration": 7,
    "start_time": "2024-03-07T10:01:11.689Z"
   },
   {
    "duration": 10,
    "start_time": "2024-03-07T10:01:54.801Z"
   },
   {
    "duration": 9,
    "start_time": "2024-03-07T10:02:04.318Z"
   },
   {
    "duration": 80,
    "start_time": "2024-03-07T10:03:25.773Z"
   },
   {
    "duration": 89,
    "start_time": "2024-03-07T10:04:52.702Z"
   },
   {
    "duration": 92,
    "start_time": "2024-03-07T10:06:00.424Z"
   },
   {
    "duration": 4,
    "start_time": "2024-03-07T10:06:08.356Z"
   },
   {
    "duration": 98,
    "start_time": "2024-03-07T10:43:29.789Z"
   },
   {
    "duration": 1145,
    "start_time": "2024-03-07T12:22:34.937Z"
   },
   {
    "duration": 72,
    "start_time": "2024-03-07T12:22:36.083Z"
   },
   {
    "duration": 14,
    "start_time": "2024-03-07T12:22:36.156Z"
   },
   {
    "duration": 16,
    "start_time": "2024-03-07T12:22:36.172Z"
   },
   {
    "duration": 8,
    "start_time": "2024-03-07T12:22:36.190Z"
   },
   {
    "duration": 39,
    "start_time": "2024-03-07T12:22:36.199Z"
   },
   {
    "duration": 9,
    "start_time": "2024-03-07T12:22:36.239Z"
   },
   {
    "duration": 15,
    "start_time": "2024-03-07T12:22:36.250Z"
   },
   {
    "duration": 16,
    "start_time": "2024-03-07T12:22:36.266Z"
   },
   {
    "duration": 14,
    "start_time": "2024-03-07T12:22:36.283Z"
   },
   {
    "duration": 9,
    "start_time": "2024-03-07T12:22:36.298Z"
   },
   {
    "duration": 18,
    "start_time": "2024-03-07T12:22:36.309Z"
   },
   {
    "duration": 361,
    "start_time": "2024-03-07T12:22:36.329Z"
   },
   {
    "duration": 290,
    "start_time": "2024-03-07T12:22:36.693Z"
   },
   {
    "duration": 15,
    "start_time": "2024-03-07T12:22:36.985Z"
   },
   {
    "duration": 1166,
    "start_time": "2024-03-07T12:22:37.002Z"
   },
   {
    "duration": 325,
    "start_time": "2024-03-07T12:22:38.169Z"
   },
   {
    "duration": 18,
    "start_time": "2024-03-07T12:22:38.495Z"
   },
   {
    "duration": 266,
    "start_time": "2024-03-07T12:22:38.515Z"
   },
   {
    "duration": 43,
    "start_time": "2024-03-07T12:22:38.783Z"
   },
   {
    "duration": 293,
    "start_time": "2024-03-07T12:22:38.828Z"
   },
   {
    "duration": 8,
    "start_time": "2024-03-07T12:22:39.122Z"
   },
   {
    "duration": 166,
    "start_time": "2024-03-07T12:22:39.131Z"
   },
   {
    "duration": 8,
    "start_time": "2024-03-07T12:22:39.299Z"
   },
   {
    "duration": 154,
    "start_time": "2024-03-07T12:22:39.308Z"
   },
   {
    "duration": 733,
    "start_time": "2024-03-07T12:22:39.463Z"
   },
   {
    "duration": 243,
    "start_time": "2024-03-07T12:22:40.198Z"
   },
   {
    "duration": 15,
    "start_time": "2024-03-07T12:22:40.443Z"
   },
   {
    "duration": 297,
    "start_time": "2024-03-07T12:22:40.459Z"
   },
   {
    "duration": 23,
    "start_time": "2024-03-07T12:22:40.757Z"
   },
   {
    "duration": 20,
    "start_time": "2024-03-07T12:22:40.782Z"
   },
   {
    "duration": 12,
    "start_time": "2024-03-07T12:22:40.803Z"
   },
   {
    "duration": 16,
    "start_time": "2024-03-07T12:22:40.817Z"
   },
   {
    "duration": 14,
    "start_time": "2024-03-07T12:22:40.834Z"
   },
   {
    "duration": 40,
    "start_time": "2024-03-07T12:22:40.849Z"
   },
   {
    "duration": 205,
    "start_time": "2024-03-07T12:22:40.890Z"
   },
   {
    "duration": 197,
    "start_time": "2024-03-07T12:22:41.096Z"
   },
   {
    "duration": 193,
    "start_time": "2024-03-07T12:22:41.295Z"
   },
   {
    "duration": 162,
    "start_time": "2024-03-07T12:22:41.489Z"
   },
   {
    "duration": 174,
    "start_time": "2024-03-07T12:22:41.653Z"
   },
   {
    "duration": 174,
    "start_time": "2024-03-07T12:22:41.831Z"
   },
   {
    "duration": 9,
    "start_time": "2024-03-07T12:22:42.007Z"
   },
   {
    "duration": 10,
    "start_time": "2024-03-07T12:22:42.017Z"
   },
   {
    "duration": 23,
    "start_time": "2024-03-07T12:22:42.029Z"
   },
   {
    "duration": 10,
    "start_time": "2024-03-07T12:22:42.054Z"
   },
   {
    "duration": 92,
    "start_time": "2024-03-07T13:21:24.309Z"
   },
   {
    "duration": 44,
    "start_time": "2024-03-07T13:30:17.473Z"
   },
   {
    "duration": 11,
    "start_time": "2024-03-07T13:48:57.923Z"
   },
   {
    "duration": 5,
    "start_time": "2024-03-07T13:50:20.670Z"
   },
   {
    "duration": 1027,
    "start_time": "2024-03-07T18:07:47.032Z"
   },
   {
    "duration": 64,
    "start_time": "2024-03-07T18:07:48.060Z"
   },
   {
    "duration": 11,
    "start_time": "2024-03-07T18:07:48.125Z"
   },
   {
    "duration": 16,
    "start_time": "2024-03-07T18:07:48.137Z"
   },
   {
    "duration": 14,
    "start_time": "2024-03-07T18:07:48.155Z"
   },
   {
    "duration": 20,
    "start_time": "2024-03-07T18:07:48.170Z"
   },
   {
    "duration": 16,
    "start_time": "2024-03-07T18:07:48.191Z"
   },
   {
    "duration": 28,
    "start_time": "2024-03-07T18:07:48.209Z"
   },
   {
    "duration": 10,
    "start_time": "2024-03-07T18:07:48.238Z"
   },
   {
    "duration": 19,
    "start_time": "2024-03-07T18:07:48.249Z"
   },
   {
    "duration": 10,
    "start_time": "2024-03-07T18:07:48.269Z"
   },
   {
    "duration": 16,
    "start_time": "2024-03-07T18:07:48.302Z"
   },
   {
    "duration": 91,
    "start_time": "2024-03-07T18:07:48.319Z"
   },
   {
    "duration": 271,
    "start_time": "2024-03-07T18:07:48.413Z"
   },
   {
    "duration": 238,
    "start_time": "2024-03-07T18:07:48.686Z"
   },
   {
    "duration": 14,
    "start_time": "2024-03-07T18:07:48.925Z"
   },
   {
    "duration": 939,
    "start_time": "2024-03-07T18:07:48.940Z"
   },
   {
    "duration": 27,
    "start_time": "2024-03-07T18:07:49.881Z"
   },
   {
    "duration": 253,
    "start_time": "2024-03-07T18:07:49.910Z"
   },
   {
    "duration": 15,
    "start_time": "2024-03-07T18:07:50.164Z"
   },
   {
    "duration": 204,
    "start_time": "2024-03-07T18:07:50.180Z"
   },
   {
    "duration": 46,
    "start_time": "2024-03-07T18:07:50.386Z"
   },
   {
    "duration": 242,
    "start_time": "2024-03-07T18:07:50.434Z"
   },
   {
    "duration": 7,
    "start_time": "2024-03-07T18:07:50.677Z"
   },
   {
    "duration": 137,
    "start_time": "2024-03-07T18:07:50.685Z"
   },
   {
    "duration": 6,
    "start_time": "2024-03-07T18:07:50.823Z"
   },
   {
    "duration": 130,
    "start_time": "2024-03-07T18:07:50.830Z"
   },
   {
    "duration": 601,
    "start_time": "2024-03-07T18:07:50.962Z"
   },
   {
    "duration": 251,
    "start_time": "2024-03-07T18:07:51.565Z"
   },
   {
    "duration": 14,
    "start_time": "2024-03-07T18:07:51.817Z"
   },
   {
    "duration": 262,
    "start_time": "2024-03-07T18:07:51.833Z"
   },
   {
    "duration": 16,
    "start_time": "2024-03-07T18:07:52.097Z"
   },
   {
    "duration": 13,
    "start_time": "2024-03-07T18:07:52.115Z"
   },
   {
    "duration": 11,
    "start_time": "2024-03-07T18:07:52.130Z"
   },
   {
    "duration": 13,
    "start_time": "2024-03-07T18:07:52.143Z"
   },
   {
    "duration": 54,
    "start_time": "2024-03-07T18:07:52.158Z"
   },
   {
    "duration": 13,
    "start_time": "2024-03-07T18:07:52.214Z"
   },
   {
    "duration": 165,
    "start_time": "2024-03-07T18:07:52.229Z"
   },
   {
    "duration": 159,
    "start_time": "2024-03-07T18:07:52.396Z"
   },
   {
    "duration": 163,
    "start_time": "2024-03-07T18:07:52.556Z"
   },
   {
    "duration": 133,
    "start_time": "2024-03-07T18:07:52.723Z"
   },
   {
    "duration": 143,
    "start_time": "2024-03-07T18:07:52.858Z"
   },
   {
    "duration": 134,
    "start_time": "2024-03-07T18:07:53.003Z"
   },
   {
    "duration": 8,
    "start_time": "2024-03-07T18:07:53.139Z"
   },
   {
    "duration": 25,
    "start_time": "2024-03-07T18:07:53.148Z"
   },
   {
    "duration": 7,
    "start_time": "2024-03-07T18:07:53.174Z"
   },
   {
    "duration": 9,
    "start_time": "2024-03-07T18:07:53.183Z"
   },
   {
    "duration": 20,
    "start_time": "2024-03-07T18:07:53.194Z"
   },
   {
    "duration": 4,
    "start_time": "2024-03-07T18:07:53.216Z"
   },
   {
    "duration": 3,
    "start_time": "2024-03-07T18:13:54.649Z"
   },
   {
    "duration": 1063,
    "start_time": "2024-03-07T19:57:36.674Z"
   },
   {
    "duration": 61,
    "start_time": "2024-03-07T19:57:37.738Z"
   },
   {
    "duration": 12,
    "start_time": "2024-03-07T19:57:37.800Z"
   },
   {
    "duration": 12,
    "start_time": "2024-03-07T19:57:37.814Z"
   },
   {
    "duration": 17,
    "start_time": "2024-03-07T19:57:37.827Z"
   },
   {
    "duration": 19,
    "start_time": "2024-03-07T19:57:37.846Z"
   },
   {
    "duration": 14,
    "start_time": "2024-03-07T19:57:37.867Z"
   },
   {
    "duration": 27,
    "start_time": "2024-03-07T19:57:37.883Z"
   },
   {
    "duration": 7,
    "start_time": "2024-03-07T19:57:37.911Z"
   },
   {
    "duration": 13,
    "start_time": "2024-03-07T19:57:37.920Z"
   },
   {
    "duration": 9,
    "start_time": "2024-03-07T19:57:37.934Z"
   },
   {
    "duration": 15,
    "start_time": "2024-03-07T19:57:37.944Z"
   },
   {
    "duration": 97,
    "start_time": "2024-03-07T19:57:37.960Z"
   },
   {
    "duration": 278,
    "start_time": "2024-03-07T19:57:38.058Z"
   },
   {
    "duration": 229,
    "start_time": "2024-03-07T19:57:38.338Z"
   },
   {
    "duration": 13,
    "start_time": "2024-03-07T19:57:38.568Z"
   },
   {
    "duration": 979,
    "start_time": "2024-03-07T19:57:38.582Z"
   },
   {
    "duration": 20,
    "start_time": "2024-03-07T19:57:39.563Z"
   },
   {
    "duration": 273,
    "start_time": "2024-03-07T19:57:39.585Z"
   },
   {
    "duration": 16,
    "start_time": "2024-03-07T19:57:39.859Z"
   },
   {
    "duration": 205,
    "start_time": "2024-03-07T19:57:39.877Z"
   },
   {
    "duration": 42,
    "start_time": "2024-03-07T19:57:40.083Z"
   },
   {
    "duration": 267,
    "start_time": "2024-03-07T19:57:40.127Z"
   },
   {
    "duration": 9,
    "start_time": "2024-03-07T19:57:40.396Z"
   },
   {
    "duration": 142,
    "start_time": "2024-03-07T19:57:40.406Z"
   },
   {
    "duration": 6,
    "start_time": "2024-03-07T19:57:40.550Z"
   },
   {
    "duration": 129,
    "start_time": "2024-03-07T19:57:40.557Z"
   },
   {
    "duration": 592,
    "start_time": "2024-03-07T19:57:40.690Z"
   },
   {
    "duration": 241,
    "start_time": "2024-03-07T19:57:41.283Z"
   },
   {
    "duration": 13,
    "start_time": "2024-03-07T19:57:41.525Z"
   },
   {
    "duration": 239,
    "start_time": "2024-03-07T19:57:41.539Z"
   },
   {
    "duration": 12,
    "start_time": "2024-03-07T19:57:41.779Z"
   },
   {
    "duration": 11,
    "start_time": "2024-03-07T19:57:41.802Z"
   },
   {
    "duration": 11,
    "start_time": "2024-03-07T19:57:41.815Z"
   },
   {
    "duration": 15,
    "start_time": "2024-03-07T19:57:41.827Z"
   },
   {
    "duration": 25,
    "start_time": "2024-03-07T19:57:41.843Z"
   },
   {
    "duration": 32,
    "start_time": "2024-03-07T19:57:41.870Z"
   },
   {
    "duration": 156,
    "start_time": "2024-03-07T19:57:41.904Z"
   },
   {
    "duration": 162,
    "start_time": "2024-03-07T19:57:42.061Z"
   },
   {
    "duration": 177,
    "start_time": "2024-03-07T19:57:42.224Z"
   },
   {
    "duration": 148,
    "start_time": "2024-03-07T19:57:42.403Z"
   },
   {
    "duration": 136,
    "start_time": "2024-03-07T19:57:42.553Z"
   },
   {
    "duration": 139,
    "start_time": "2024-03-07T19:57:42.690Z"
   },
   {
    "duration": 7,
    "start_time": "2024-03-07T19:57:42.830Z"
   },
   {
    "duration": 16,
    "start_time": "2024-03-07T19:57:42.838Z"
   },
   {
    "duration": 3,
    "start_time": "2024-03-07T19:57:42.856Z"
   },
   {
    "duration": 8,
    "start_time": "2024-03-07T19:57:42.861Z"
   },
   {
    "duration": 13,
    "start_time": "2024-03-07T19:57:42.870Z"
   },
   {
    "duration": 4,
    "start_time": "2024-03-07T19:57:42.901Z"
   },
   {
    "duration": 13,
    "start_time": "2024-03-07T20:03:50.765Z"
   },
   {
    "duration": 89,
    "start_time": "2024-03-07T20:07:14.383Z"
   },
   {
    "duration": 12,
    "start_time": "2024-03-07T20:10:48.516Z"
   },
   {
    "duration": 11,
    "start_time": "2024-03-07T21:26:24.519Z"
   },
   {
    "duration": 7,
    "start_time": "2024-03-07T21:31:35.449Z"
   },
   {
    "duration": 5,
    "start_time": "2024-03-07T21:31:40.232Z"
   },
   {
    "duration": 1037,
    "start_time": "2024-03-07T21:31:48.992Z"
   },
   {
    "duration": 60,
    "start_time": "2024-03-07T21:31:50.030Z"
   },
   {
    "duration": 11,
    "start_time": "2024-03-07T21:31:50.091Z"
   },
   {
    "duration": 10,
    "start_time": "2024-03-07T21:31:50.103Z"
   },
   {
    "duration": 7,
    "start_time": "2024-03-07T21:31:50.116Z"
   },
   {
    "duration": 27,
    "start_time": "2024-03-07T21:31:50.125Z"
   },
   {
    "duration": 11,
    "start_time": "2024-03-07T21:31:50.154Z"
   },
   {
    "duration": 13,
    "start_time": "2024-03-07T21:31:50.166Z"
   },
   {
    "duration": 30,
    "start_time": "2024-03-07T21:31:50.181Z"
   },
   {
    "duration": 5,
    "start_time": "2024-03-07T21:31:50.212Z"
   },
   {
    "duration": 8,
    "start_time": "2024-03-07T21:31:50.218Z"
   },
   {
    "duration": 21,
    "start_time": "2024-03-07T21:31:50.227Z"
   },
   {
    "duration": 14,
    "start_time": "2024-03-07T21:31:50.249Z"
   },
   {
    "duration": 37,
    "start_time": "2024-03-07T21:31:50.266Z"
   },
   {
    "duration": 67,
    "start_time": "2024-03-07T21:31:50.304Z"
   },
   {
    "duration": 295,
    "start_time": "2024-03-07T21:31:50.373Z"
   },
   {
    "duration": 231,
    "start_time": "2024-03-07T21:31:50.670Z"
   },
   {
    "duration": 13,
    "start_time": "2024-03-07T21:31:50.902Z"
   },
   {
    "duration": 944,
    "start_time": "2024-03-07T21:31:50.916Z"
   },
   {
    "duration": 22,
    "start_time": "2024-03-07T21:31:51.861Z"
   },
   {
    "duration": 257,
    "start_time": "2024-03-07T21:31:51.884Z"
   },
   {
    "duration": 15,
    "start_time": "2024-03-07T21:31:52.143Z"
   },
   {
    "duration": 186,
    "start_time": "2024-03-07T21:31:52.159Z"
   },
   {
    "duration": 35,
    "start_time": "2024-03-07T21:31:52.347Z"
   },
   {
    "duration": 238,
    "start_time": "2024-03-07T21:31:52.383Z"
   },
   {
    "duration": 6,
    "start_time": "2024-03-07T21:31:52.623Z"
   },
   {
    "duration": 150,
    "start_time": "2024-03-07T21:31:52.630Z"
   },
   {
    "duration": 6,
    "start_time": "2024-03-07T21:31:52.781Z"
   },
   {
    "duration": 134,
    "start_time": "2024-03-07T21:31:52.788Z"
   },
   {
    "duration": 569,
    "start_time": "2024-03-07T21:31:52.923Z"
   },
   {
    "duration": 229,
    "start_time": "2024-03-07T21:31:53.493Z"
   },
   {
    "duration": 12,
    "start_time": "2024-03-07T21:31:53.724Z"
   },
   {
    "duration": 234,
    "start_time": "2024-03-07T21:31:53.737Z"
   },
   {
    "duration": 13,
    "start_time": "2024-03-07T21:31:53.972Z"
   },
   {
    "duration": 20,
    "start_time": "2024-03-07T21:31:53.987Z"
   },
   {
    "duration": 10,
    "start_time": "2024-03-07T21:31:54.009Z"
   },
   {
    "duration": 12,
    "start_time": "2024-03-07T21:31:54.020Z"
   },
   {
    "duration": 11,
    "start_time": "2024-03-07T21:31:54.033Z"
   },
   {
    "duration": 11,
    "start_time": "2024-03-07T21:31:54.045Z"
   },
   {
    "duration": 175,
    "start_time": "2024-03-07T21:31:54.058Z"
   },
   {
    "duration": 167,
    "start_time": "2024-03-07T21:31:54.236Z"
   },
   {
    "duration": 157,
    "start_time": "2024-03-07T21:31:54.404Z"
   },
   {
    "duration": 135,
    "start_time": "2024-03-07T21:31:54.562Z"
   },
   {
    "duration": 132,
    "start_time": "2024-03-07T21:31:54.701Z"
   },
   {
    "duration": 133,
    "start_time": "2024-03-07T21:31:54.835Z"
   },
   {
    "duration": 11,
    "start_time": "2024-03-07T21:31:54.969Z"
   },
   {
    "duration": 24,
    "start_time": "2024-03-07T21:31:54.981Z"
   },
   {
    "duration": 4,
    "start_time": "2024-03-07T21:31:55.006Z"
   },
   {
    "duration": 22,
    "start_time": "2024-03-07T21:31:55.011Z"
   },
   {
    "duration": 13,
    "start_time": "2024-03-07T21:31:55.035Z"
   },
   {
    "duration": 15,
    "start_time": "2024-03-07T21:31:55.050Z"
   },
   {
    "duration": 10,
    "start_time": "2024-03-07T21:32:23.595Z"
   },
   {
    "duration": 1209,
    "start_time": "2024-03-07T21:33:38.971Z"
   },
   {
    "duration": 26,
    "start_time": "2024-03-07T21:34:01.085Z"
   },
   {
    "duration": 9,
    "start_time": "2024-03-07T21:34:22.756Z"
   },
   {
    "duration": 9,
    "start_time": "2024-03-07T21:34:36.868Z"
   },
   {
    "duration": 23,
    "start_time": "2024-03-07T21:34:58.785Z"
   },
   {
    "duration": 10,
    "start_time": "2024-03-07T21:35:30.140Z"
   },
   {
    "duration": 8,
    "start_time": "2024-03-07T21:35:40.189Z"
   },
   {
    "duration": 69,
    "start_time": "2024-03-07T21:36:10.751Z"
   },
   {
    "duration": 70,
    "start_time": "2024-03-07T21:37:19.984Z"
   },
   {
    "duration": 10,
    "start_time": "2024-03-07T21:38:40.718Z"
   },
   {
    "duration": 10,
    "start_time": "2024-03-07T21:39:22.340Z"
   },
   {
    "duration": 12,
    "start_time": "2024-03-07T21:40:02.251Z"
   },
   {
    "duration": 16,
    "start_time": "2024-03-07T21:42:13.308Z"
   },
   {
    "duration": 15,
    "start_time": "2024-03-07T21:42:18.249Z"
   },
   {
    "duration": 9,
    "start_time": "2024-03-07T21:42:37.059Z"
   },
   {
    "duration": 82,
    "start_time": "2024-03-07T21:43:25.882Z"
   },
   {
    "duration": 70,
    "start_time": "2024-03-07T21:43:36.819Z"
   },
   {
    "duration": 8,
    "start_time": "2024-03-07T21:43:52.138Z"
   },
   {
    "duration": 10,
    "start_time": "2024-03-07T21:43:56.792Z"
   },
   {
    "duration": 8,
    "start_time": "2024-03-07T21:51:39.849Z"
   },
   {
    "duration": 1069,
    "start_time": "2024-03-07T21:51:50.834Z"
   },
   {
    "duration": 6,
    "start_time": "2024-03-07T21:52:24.800Z"
   },
   {
    "duration": 9,
    "start_time": "2024-03-07T21:52:35.819Z"
   },
   {
    "duration": 5,
    "start_time": "2024-03-07T21:52:43.384Z"
   },
   {
    "duration": 1104,
    "start_time": "2024-03-07T21:52:45.241Z"
   },
   {
    "duration": 1097,
    "start_time": "2024-03-07T21:56:22.086Z"
   },
   {
    "duration": 1029,
    "start_time": "2024-03-07T21:56:54.103Z"
   },
   {
    "duration": 60,
    "start_time": "2024-03-07T21:56:55.134Z"
   },
   {
    "duration": 11,
    "start_time": "2024-03-07T21:56:55.195Z"
   },
   {
    "duration": 10,
    "start_time": "2024-03-07T21:56:55.208Z"
   },
   {
    "duration": 6,
    "start_time": "2024-03-07T21:56:55.220Z"
   },
   {
    "duration": 19,
    "start_time": "2024-03-07T21:56:55.228Z"
   },
   {
    "duration": 8,
    "start_time": "2024-03-07T21:56:55.248Z"
   },
   {
    "duration": 12,
    "start_time": "2024-03-07T21:56:55.257Z"
   },
   {
    "duration": 39,
    "start_time": "2024-03-07T21:56:55.270Z"
   },
   {
    "duration": 15,
    "start_time": "2024-03-07T21:56:55.311Z"
   },
   {
    "duration": 20,
    "start_time": "2024-03-07T21:56:55.327Z"
   },
   {
    "duration": 7,
    "start_time": "2024-03-07T21:56:55.349Z"
   },
   {
    "duration": 8,
    "start_time": "2024-03-07T21:56:55.357Z"
   },
   {
    "duration": 36,
    "start_time": "2024-03-07T21:56:55.366Z"
   },
   {
    "duration": 10,
    "start_time": "2024-03-07T21:56:55.403Z"
   },
   {
    "duration": 1207,
    "start_time": "2024-03-07T21:56:55.414Z"
   },
   {
    "duration": 0,
    "start_time": "2024-03-07T21:56:56.623Z"
   },
   {
    "duration": 0,
    "start_time": "2024-03-07T21:56:56.624Z"
   },
   {
    "duration": 0,
    "start_time": "2024-03-07T21:56:56.625Z"
   },
   {
    "duration": 0,
    "start_time": "2024-03-07T21:56:56.626Z"
   },
   {
    "duration": 0,
    "start_time": "2024-03-07T21:56:56.627Z"
   },
   {
    "duration": 0,
    "start_time": "2024-03-07T21:56:56.628Z"
   },
   {
    "duration": 0,
    "start_time": "2024-03-07T21:56:56.629Z"
   },
   {
    "duration": 0,
    "start_time": "2024-03-07T21:56:56.630Z"
   },
   {
    "duration": 0,
    "start_time": "2024-03-07T21:56:56.632Z"
   },
   {
    "duration": 0,
    "start_time": "2024-03-07T21:56:56.633Z"
   },
   {
    "duration": 0,
    "start_time": "2024-03-07T21:56:56.634Z"
   },
   {
    "duration": 0,
    "start_time": "2024-03-07T21:56:56.635Z"
   },
   {
    "duration": 0,
    "start_time": "2024-03-07T21:56:56.636Z"
   },
   {
    "duration": 0,
    "start_time": "2024-03-07T21:56:56.638Z"
   },
   {
    "duration": 0,
    "start_time": "2024-03-07T21:56:56.639Z"
   },
   {
    "duration": 0,
    "start_time": "2024-03-07T21:56:56.640Z"
   },
   {
    "duration": 0,
    "start_time": "2024-03-07T21:56:56.641Z"
   },
   {
    "duration": 0,
    "start_time": "2024-03-07T21:56:56.641Z"
   },
   {
    "duration": 0,
    "start_time": "2024-03-07T21:56:56.642Z"
   },
   {
    "duration": 0,
    "start_time": "2024-03-07T21:56:56.643Z"
   },
   {
    "duration": 0,
    "start_time": "2024-03-07T21:56:56.644Z"
   },
   {
    "duration": 0,
    "start_time": "2024-03-07T21:56:56.644Z"
   },
   {
    "duration": 0,
    "start_time": "2024-03-07T21:56:56.645Z"
   },
   {
    "duration": 0,
    "start_time": "2024-03-07T21:56:56.646Z"
   },
   {
    "duration": 0,
    "start_time": "2024-03-07T21:56:56.647Z"
   },
   {
    "duration": 0,
    "start_time": "2024-03-07T21:56:56.648Z"
   },
   {
    "duration": 0,
    "start_time": "2024-03-07T21:56:56.649Z"
   },
   {
    "duration": 0,
    "start_time": "2024-03-07T21:56:56.650Z"
   },
   {
    "duration": 0,
    "start_time": "2024-03-07T21:56:56.651Z"
   },
   {
    "duration": 0,
    "start_time": "2024-03-07T21:56:56.652Z"
   },
   {
    "duration": 0,
    "start_time": "2024-03-07T21:56:56.653Z"
   },
   {
    "duration": 0,
    "start_time": "2024-03-07T21:56:56.654Z"
   },
   {
    "duration": 0,
    "start_time": "2024-03-07T21:56:56.655Z"
   },
   {
    "duration": 0,
    "start_time": "2024-03-07T21:56:56.656Z"
   },
   {
    "duration": 0,
    "start_time": "2024-03-07T21:56:56.657Z"
   },
   {
    "duration": 0,
    "start_time": "2024-03-07T21:56:56.658Z"
   },
   {
    "duration": 0,
    "start_time": "2024-03-07T21:56:56.658Z"
   },
   {
    "duration": 0,
    "start_time": "2024-03-07T21:56:56.659Z"
   },
   {
    "duration": 1066,
    "start_time": "2024-03-07T21:58:15.323Z"
   },
   {
    "duration": 1126,
    "start_time": "2024-03-07T21:59:53.215Z"
   },
   {
    "duration": 1397,
    "start_time": "2024-03-07T21:59:59.150Z"
   },
   {
    "duration": 10,
    "start_time": "2024-03-08T10:14:42.544Z"
   },
   {
    "duration": 5,
    "start_time": "2024-03-08T10:14:50.044Z"
   },
   {
    "duration": 1063,
    "start_time": "2024-03-08T10:14:56.149Z"
   },
   {
    "duration": 1004,
    "start_time": "2024-03-08T10:20:57.239Z"
   },
   {
    "duration": 61,
    "start_time": "2024-03-08T10:20:58.244Z"
   },
   {
    "duration": 12,
    "start_time": "2024-03-08T10:20:58.307Z"
   },
   {
    "duration": 14,
    "start_time": "2024-03-08T10:20:58.321Z"
   },
   {
    "duration": 13,
    "start_time": "2024-03-08T10:20:58.337Z"
   },
   {
    "duration": 25,
    "start_time": "2024-03-08T10:20:58.351Z"
   },
   {
    "duration": 7,
    "start_time": "2024-03-08T10:20:58.377Z"
   },
   {
    "duration": 26,
    "start_time": "2024-03-08T10:20:58.386Z"
   },
   {
    "duration": 13,
    "start_time": "2024-03-08T10:20:58.413Z"
   },
   {
    "duration": 22,
    "start_time": "2024-03-08T10:20:58.428Z"
   },
   {
    "duration": 21,
    "start_time": "2024-03-08T10:20:58.451Z"
   },
   {
    "duration": 10,
    "start_time": "2024-03-08T10:20:58.473Z"
   },
   {
    "duration": 24,
    "start_time": "2024-03-08T10:20:58.484Z"
   },
   {
    "duration": 6,
    "start_time": "2024-03-08T10:20:58.510Z"
   },
   {
    "duration": 8,
    "start_time": "2024-03-08T10:20:58.517Z"
   },
   {
    "duration": 1203,
    "start_time": "2024-03-08T10:20:58.526Z"
   },
   {
    "duration": 0,
    "start_time": "2024-03-08T10:20:59.732Z"
   },
   {
    "duration": 1,
    "start_time": "2024-03-08T10:20:59.733Z"
   },
   {
    "duration": 0,
    "start_time": "2024-03-08T10:20:59.735Z"
   },
   {
    "duration": 0,
    "start_time": "2024-03-08T10:20:59.736Z"
   },
   {
    "duration": 0,
    "start_time": "2024-03-08T10:20:59.737Z"
   },
   {
    "duration": 0,
    "start_time": "2024-03-08T10:20:59.738Z"
   },
   {
    "duration": 0,
    "start_time": "2024-03-08T10:20:59.739Z"
   },
   {
    "duration": 0,
    "start_time": "2024-03-08T10:20:59.741Z"
   },
   {
    "duration": 0,
    "start_time": "2024-03-08T10:20:59.743Z"
   },
   {
    "duration": 0,
    "start_time": "2024-03-08T10:20:59.743Z"
   },
   {
    "duration": 0,
    "start_time": "2024-03-08T10:20:59.744Z"
   },
   {
    "duration": 0,
    "start_time": "2024-03-08T10:20:59.745Z"
   },
   {
    "duration": 0,
    "start_time": "2024-03-08T10:20:59.746Z"
   },
   {
    "duration": 0,
    "start_time": "2024-03-08T10:20:59.747Z"
   },
   {
    "duration": 0,
    "start_time": "2024-03-08T10:20:59.748Z"
   },
   {
    "duration": 0,
    "start_time": "2024-03-08T10:20:59.749Z"
   },
   {
    "duration": 0,
    "start_time": "2024-03-08T10:20:59.750Z"
   },
   {
    "duration": 0,
    "start_time": "2024-03-08T10:20:59.751Z"
   },
   {
    "duration": 0,
    "start_time": "2024-03-08T10:20:59.752Z"
   },
   {
    "duration": 0,
    "start_time": "2024-03-08T10:20:59.752Z"
   },
   {
    "duration": 0,
    "start_time": "2024-03-08T10:20:59.753Z"
   },
   {
    "duration": 0,
    "start_time": "2024-03-08T10:20:59.754Z"
   },
   {
    "duration": 0,
    "start_time": "2024-03-08T10:20:59.755Z"
   },
   {
    "duration": 0,
    "start_time": "2024-03-08T10:20:59.756Z"
   },
   {
    "duration": 0,
    "start_time": "2024-03-08T10:20:59.757Z"
   },
   {
    "duration": 0,
    "start_time": "2024-03-08T10:20:59.758Z"
   },
   {
    "duration": 0,
    "start_time": "2024-03-08T10:20:59.759Z"
   },
   {
    "duration": 0,
    "start_time": "2024-03-08T10:20:59.760Z"
   },
   {
    "duration": 0,
    "start_time": "2024-03-08T10:20:59.760Z"
   },
   {
    "duration": 0,
    "start_time": "2024-03-08T10:20:59.761Z"
   },
   {
    "duration": 0,
    "start_time": "2024-03-08T10:20:59.762Z"
   },
   {
    "duration": 0,
    "start_time": "2024-03-08T10:20:59.763Z"
   },
   {
    "duration": 0,
    "start_time": "2024-03-08T10:20:59.764Z"
   },
   {
    "duration": 0,
    "start_time": "2024-03-08T10:20:59.765Z"
   },
   {
    "duration": 0,
    "start_time": "2024-03-08T10:20:59.766Z"
   },
   {
    "duration": 0,
    "start_time": "2024-03-08T10:20:59.766Z"
   },
   {
    "duration": 0,
    "start_time": "2024-03-08T10:20:59.767Z"
   },
   {
    "duration": 0,
    "start_time": "2024-03-08T10:20:59.768Z"
   },
   {
    "duration": 2,
    "start_time": "2024-03-08T10:21:17.109Z"
   },
   {
    "duration": 55,
    "start_time": "2024-03-08T10:21:18.985Z"
   },
   {
    "duration": 11,
    "start_time": "2024-03-08T10:21:25.544Z"
   },
   {
    "duration": 12,
    "start_time": "2024-03-08T10:21:35.429Z"
   },
   {
    "duration": 5,
    "start_time": "2024-03-08T10:21:41.980Z"
   },
   {
    "duration": 27,
    "start_time": "2024-03-08T10:21:43.998Z"
   },
   {
    "duration": 8,
    "start_time": "2024-03-08T10:21:47.940Z"
   },
   {
    "duration": 12,
    "start_time": "2024-03-08T10:21:54.935Z"
   },
   {
    "duration": 13,
    "start_time": "2024-03-08T10:22:01.726Z"
   },
   {
    "duration": 10,
    "start_time": "2024-03-08T10:22:05.446Z"
   },
   {
    "duration": 22,
    "start_time": "2024-03-08T10:22:45.466Z"
   },
   {
    "duration": 8,
    "start_time": "2024-03-08T10:23:38.044Z"
   },
   {
    "duration": 15,
    "start_time": "2024-03-08T10:23:47.964Z"
   },
   {
    "duration": 9,
    "start_time": "2024-03-08T10:23:58.767Z"
   },
   {
    "duration": 14,
    "start_time": "2024-03-08T10:24:53.394Z"
   },
   {
    "duration": 16,
    "start_time": "2024-03-08T10:25:30.548Z"
   },
   {
    "duration": 14,
    "start_time": "2024-03-08T10:25:45.560Z"
   },
   {
    "duration": 15,
    "start_time": "2024-03-08T10:27:20.545Z"
   },
   {
    "duration": 9,
    "start_time": "2024-03-08T10:27:35.611Z"
   },
   {
    "duration": 335,
    "start_time": "2024-03-08T10:28:36.851Z"
   },
   {
    "duration": 198,
    "start_time": "2024-03-08T10:29:04.462Z"
   },
   {
    "duration": 193,
    "start_time": "2024-03-08T10:29:17.819Z"
   },
   {
    "duration": 14,
    "start_time": "2024-03-08T10:30:07.248Z"
   },
   {
    "duration": 14,
    "start_time": "2024-03-08T10:32:56.961Z"
   },
   {
    "duration": 22,
    "start_time": "2024-03-08T10:33:50.062Z"
   },
   {
    "duration": 10,
    "start_time": "2024-03-08T10:34:13.596Z"
   },
   {
    "duration": 23,
    "start_time": "2024-03-08T10:34:23.813Z"
   },
   {
    "duration": 25,
    "start_time": "2024-03-08T10:34:39.993Z"
   },
   {
    "duration": 14,
    "start_time": "2024-03-08T10:35:03.612Z"
   },
   {
    "duration": 6,
    "start_time": "2024-03-08T10:35:12.567Z"
   },
   {
    "duration": 5,
    "start_time": "2024-03-08T10:35:13.729Z"
   },
   {
    "duration": 1252,
    "start_time": "2024-03-08T10:35:15.867Z"
   },
   {
    "duration": 17,
    "start_time": "2024-03-08T10:35:31.178Z"
   },
   {
    "duration": 5,
    "start_time": "2024-03-08T10:35:34.289Z"
   },
   {
    "duration": 6,
    "start_time": "2024-03-08T10:35:35.499Z"
   },
   {
    "duration": 1078,
    "start_time": "2024-03-08T10:35:37.681Z"
   },
   {
    "duration": 12,
    "start_time": "2024-03-08T10:35:53.749Z"
   },
   {
    "duration": 11,
    "start_time": "2024-03-08T10:36:14.314Z"
   },
   {
    "duration": 1123,
    "start_time": "2024-03-08T10:36:22.050Z"
   },
   {
    "duration": 58,
    "start_time": "2024-03-08T10:36:30.877Z"
   },
   {
    "duration": 12,
    "start_time": "2024-03-08T10:36:36.181Z"
   },
   {
    "duration": 11,
    "start_time": "2024-03-08T10:36:40.872Z"
   },
   {
    "duration": 5,
    "start_time": "2024-03-08T10:36:47.173Z"
   },
   {
    "duration": 17,
    "start_time": "2024-03-08T10:36:48.953Z"
   },
   {
    "duration": 7,
    "start_time": "2024-03-08T10:36:55.046Z"
   },
   {
    "duration": 11,
    "start_time": "2024-03-08T10:36:58.153Z"
   },
   {
    "duration": 14,
    "start_time": "2024-03-08T10:37:01.473Z"
   },
   {
    "duration": 10,
    "start_time": "2024-03-08T10:37:03.000Z"
   },
   {
    "duration": 16,
    "start_time": "2024-03-08T10:37:04.364Z"
   },
   {
    "duration": 9,
    "start_time": "2024-03-08T10:37:07.754Z"
   },
   {
    "duration": 15,
    "start_time": "2024-03-08T10:37:09.598Z"
   },
   {
    "duration": 9,
    "start_time": "2024-03-08T10:37:12.346Z"
   },
   {
    "duration": 16,
    "start_time": "2024-03-08T10:37:19.667Z"
   },
   {
    "duration": 258,
    "start_time": "2024-03-08T11:10:58.716Z"
   },
   {
    "duration": 35,
    "start_time": "2024-03-08T11:12:58.282Z"
   },
   {
    "duration": 7,
    "start_time": "2024-03-08T11:14:40.731Z"
   },
   {
    "duration": 13,
    "start_time": "2024-03-08T11:14:51.726Z"
   },
   {
    "duration": 115,
    "start_time": "2024-03-08T11:15:26.065Z"
   },
   {
    "duration": 128,
    "start_time": "2024-03-08T11:15:49.563Z"
   },
   {
    "duration": 125,
    "start_time": "2024-03-08T11:16:36.369Z"
   },
   {
    "duration": 72,
    "start_time": "2024-03-08T11:18:31.170Z"
   },
   {
    "duration": 33,
    "start_time": "2024-03-08T11:18:43.031Z"
   },
   {
    "duration": 33,
    "start_time": "2024-03-08T11:19:16.184Z"
   },
   {
    "duration": 7,
    "start_time": "2024-03-08T11:21:49.997Z"
   },
   {
    "duration": 13,
    "start_time": "2024-03-08T11:21:56.689Z"
   },
   {
    "duration": 118,
    "start_time": "2024-03-08T11:24:48.650Z"
   },
   {
    "duration": 128,
    "start_time": "2024-03-08T11:25:07.151Z"
   },
   {
    "duration": 7,
    "start_time": "2024-03-08T11:25:19.190Z"
   },
   {
    "duration": 7,
    "start_time": "2024-03-08T11:25:25.035Z"
   },
   {
    "duration": 7,
    "start_time": "2024-03-08T11:25:39.556Z"
   },
   {
    "duration": 15,
    "start_time": "2024-03-08T11:27:23.578Z"
   },
   {
    "duration": 293,
    "start_time": "2024-03-08T11:27:36.876Z"
   },
   {
    "duration": 81,
    "start_time": "2024-03-08T11:28:18.038Z"
   },
   {
    "duration": 263,
    "start_time": "2024-03-08T11:30:30.142Z"
   },
   {
    "duration": 73,
    "start_time": "2024-03-08T11:30:54.548Z"
   },
   {
    "duration": 104,
    "start_time": "2024-03-08T11:31:01.881Z"
   },
   {
    "duration": 253,
    "start_time": "2024-03-08T11:31:08.859Z"
   },
   {
    "duration": 212,
    "start_time": "2024-03-08T11:32:17.367Z"
   },
   {
    "duration": 14,
    "start_time": "2024-03-08T11:32:49.657Z"
   },
   {
    "duration": 328,
    "start_time": "2024-03-08T11:33:01.415Z"
   },
   {
    "duration": 411,
    "start_time": "2024-03-08T11:33:11.356Z"
   },
   {
    "duration": 246,
    "start_time": "2024-03-08T11:33:50.577Z"
   },
   {
    "duration": 957,
    "start_time": "2024-03-08T11:34:21.133Z"
   },
   {
    "duration": 14,
    "start_time": "2024-03-08T11:36:06.501Z"
   },
   {
    "duration": 13,
    "start_time": "2024-03-08T11:38:12.668Z"
   },
   {
    "duration": 15,
    "start_time": "2024-03-08T11:38:33.585Z"
   },
   {
    "duration": 256,
    "start_time": "2024-03-08T11:40:03.532Z"
   },
   {
    "duration": 258,
    "start_time": "2024-03-08T11:41:07.737Z"
   },
   {
    "duration": 348,
    "start_time": "2024-03-08T11:41:45.097Z"
   },
   {
    "duration": 253,
    "start_time": "2024-03-08T11:42:19.422Z"
   },
   {
    "duration": 1117,
    "start_time": "2024-03-08T11:42:41.333Z"
   },
   {
    "duration": 1132,
    "start_time": "2024-03-08T11:43:04.099Z"
   },
   {
    "duration": 4932,
    "start_time": "2024-03-08T11:43:16.524Z"
   },
   {
    "duration": 8,
    "start_time": "2024-03-08T11:47:20.708Z"
   },
   {
    "duration": 54,
    "start_time": "2024-03-08T11:47:36.718Z"
   },
   {
    "duration": 61,
    "start_time": "2024-03-08T11:48:29.509Z"
   },
   {
    "duration": 1010,
    "start_time": "2024-03-08T12:58:20.841Z"
   },
   {
    "duration": 61,
    "start_time": "2024-03-08T12:58:21.853Z"
   },
   {
    "duration": 13,
    "start_time": "2024-03-08T12:58:21.915Z"
   },
   {
    "duration": 21,
    "start_time": "2024-03-08T12:58:21.930Z"
   },
   {
    "duration": 5,
    "start_time": "2024-03-08T12:58:21.952Z"
   },
   {
    "duration": 20,
    "start_time": "2024-03-08T12:58:21.959Z"
   },
   {
    "duration": 27,
    "start_time": "2024-03-08T12:58:21.980Z"
   },
   {
    "duration": 26,
    "start_time": "2024-03-08T12:58:22.008Z"
   },
   {
    "duration": 12,
    "start_time": "2024-03-08T12:58:22.035Z"
   },
   {
    "duration": 8,
    "start_time": "2024-03-08T12:58:22.049Z"
   },
   {
    "duration": 20,
    "start_time": "2024-03-08T12:58:22.058Z"
   },
   {
    "duration": 23,
    "start_time": "2024-03-08T12:58:22.079Z"
   },
   {
    "duration": 13,
    "start_time": "2024-03-08T12:58:22.103Z"
   },
   {
    "duration": 8,
    "start_time": "2024-03-08T12:58:22.117Z"
   },
   {
    "duration": 14,
    "start_time": "2024-03-08T12:58:22.126Z"
   },
   {
    "duration": 85,
    "start_time": "2024-03-08T12:58:22.142Z"
   },
   {
    "duration": 14,
    "start_time": "2024-03-08T12:58:22.228Z"
   },
   {
    "duration": 159,
    "start_time": "2024-03-08T12:58:22.243Z"
   },
   {
    "duration": 13,
    "start_time": "2024-03-08T12:58:22.403Z"
   },
   {
    "duration": 274,
    "start_time": "2024-03-08T12:58:22.417Z"
   },
   {
    "duration": 920,
    "start_time": "2024-03-08T12:58:22.692Z"
   },
   {
    "duration": 20,
    "start_time": "2024-03-08T12:58:23.613Z"
   },
   {
    "duration": 16,
    "start_time": "2024-03-08T13:04:10.860Z"
   },
   {
    "duration": 194,
    "start_time": "2024-03-08T13:04:10.878Z"
   },
   {
    "duration": 48,
    "start_time": "2024-03-08T13:04:11.074Z"
   },
   {
    "duration": 260,
    "start_time": "2024-03-08T13:04:11.124Z"
   },
   {
    "duration": 14,
    "start_time": "2024-03-08T13:04:11.388Z"
   },
   {
    "duration": 12,
    "start_time": "2024-03-08T13:11:18.842Z"
   },
   {
    "duration": 17,
    "start_time": "2024-03-08T13:13:15.774Z"
   },
   {
    "duration": 429,
    "start_time": "2024-03-08T13:14:00.903Z"
   },
   {
    "duration": 1175,
    "start_time": "2024-03-08T13:16:39.657Z"
   },
   {
    "duration": 27,
    "start_time": "2024-03-08T13:16:56.301Z"
   },
   {
    "duration": 5071,
    "start_time": "2024-03-08T13:17:32.696Z"
   },
   {
    "duration": 1032,
    "start_time": "2024-03-08T13:17:43.915Z"
   },
   {
    "duration": 62,
    "start_time": "2024-03-08T13:17:44.949Z"
   },
   {
    "duration": 13,
    "start_time": "2024-03-08T13:17:45.012Z"
   },
   {
    "duration": 30,
    "start_time": "2024-03-08T13:17:45.027Z"
   },
   {
    "duration": 31,
    "start_time": "2024-03-08T13:17:45.059Z"
   },
   {
    "duration": 63,
    "start_time": "2024-03-08T13:17:45.091Z"
   },
   {
    "duration": 26,
    "start_time": "2024-03-08T13:17:45.156Z"
   },
   {
    "duration": 26,
    "start_time": "2024-03-08T13:17:45.183Z"
   },
   {
    "duration": 62,
    "start_time": "2024-03-08T13:17:45.211Z"
   },
   {
    "duration": 23,
    "start_time": "2024-03-08T13:17:45.274Z"
   },
   {
    "duration": 74,
    "start_time": "2024-03-08T13:17:45.298Z"
   },
   {
    "duration": 13,
    "start_time": "2024-03-08T13:17:45.373Z"
   },
   {
    "duration": 47,
    "start_time": "2024-03-08T13:17:45.388Z"
   },
   {
    "duration": 12,
    "start_time": "2024-03-08T13:17:45.439Z"
   },
   {
    "duration": 29,
    "start_time": "2024-03-08T13:17:45.452Z"
   },
   {
    "duration": 60,
    "start_time": "2024-03-08T13:17:45.482Z"
   },
   {
    "duration": 14,
    "start_time": "2024-03-08T13:17:45.544Z"
   },
   {
    "duration": 159,
    "start_time": "2024-03-08T13:17:45.560Z"
   },
   {
    "duration": 13,
    "start_time": "2024-03-08T13:17:45.720Z"
   },
   {
    "duration": 269,
    "start_time": "2024-03-08T13:17:45.734Z"
   },
   {
    "duration": 949,
    "start_time": "2024-03-08T13:17:46.005Z"
   },
   {
    "duration": 21,
    "start_time": "2024-03-08T13:17:46.955Z"
   },
   {
    "duration": 2070,
    "start_time": "2024-03-08T13:17:46.978Z"
   },
   {
    "duration": 0,
    "start_time": "2024-03-08T13:17:49.050Z"
   },
   {
    "duration": 0,
    "start_time": "2024-03-08T13:17:49.050Z"
   },
   {
    "duration": 0,
    "start_time": "2024-03-08T13:17:49.052Z"
   },
   {
    "duration": 0,
    "start_time": "2024-03-08T13:17:49.053Z"
   },
   {
    "duration": 0,
    "start_time": "2024-03-08T13:17:49.054Z"
   },
   {
    "duration": 0,
    "start_time": "2024-03-08T13:17:49.055Z"
   },
   {
    "duration": 0,
    "start_time": "2024-03-08T13:17:49.056Z"
   },
   {
    "duration": 0,
    "start_time": "2024-03-08T13:17:49.057Z"
   },
   {
    "duration": 0,
    "start_time": "2024-03-08T13:17:49.059Z"
   },
   {
    "duration": 0,
    "start_time": "2024-03-08T13:17:49.060Z"
   },
   {
    "duration": 0,
    "start_time": "2024-03-08T13:17:49.061Z"
   },
   {
    "duration": 0,
    "start_time": "2024-03-08T13:17:49.062Z"
   },
   {
    "duration": 0,
    "start_time": "2024-03-08T13:17:49.063Z"
   },
   {
    "duration": 0,
    "start_time": "2024-03-08T13:17:49.064Z"
   },
   {
    "duration": 0,
    "start_time": "2024-03-08T13:17:49.065Z"
   },
   {
    "duration": 0,
    "start_time": "2024-03-08T13:17:49.067Z"
   },
   {
    "duration": 0,
    "start_time": "2024-03-08T13:17:49.068Z"
   },
   {
    "duration": 0,
    "start_time": "2024-03-08T13:17:49.069Z"
   },
   {
    "duration": 0,
    "start_time": "2024-03-08T13:17:49.070Z"
   },
   {
    "duration": 0,
    "start_time": "2024-03-08T13:17:49.071Z"
   },
   {
    "duration": 0,
    "start_time": "2024-03-08T13:17:49.072Z"
   },
   {
    "duration": 0,
    "start_time": "2024-03-08T13:17:49.073Z"
   },
   {
    "duration": 0,
    "start_time": "2024-03-08T13:17:49.074Z"
   },
   {
    "duration": 0,
    "start_time": "2024-03-08T13:17:49.075Z"
   },
   {
    "duration": 0,
    "start_time": "2024-03-08T13:17:49.077Z"
   },
   {
    "duration": 0,
    "start_time": "2024-03-08T13:17:49.078Z"
   },
   {
    "duration": 0,
    "start_time": "2024-03-08T13:17:49.079Z"
   },
   {
    "duration": 0,
    "start_time": "2024-03-08T13:17:49.080Z"
   },
   {
    "duration": 0,
    "start_time": "2024-03-08T13:17:49.081Z"
   },
   {
    "duration": 0,
    "start_time": "2024-03-08T13:17:49.081Z"
   },
   {
    "duration": 0,
    "start_time": "2024-03-08T13:17:49.082Z"
   },
   {
    "duration": 8,
    "start_time": "2024-03-08T13:37:40.032Z"
   },
   {
    "duration": 18,
    "start_time": "2024-03-08T13:38:16.097Z"
   },
   {
    "duration": 9,
    "start_time": "2024-03-08T13:38:23.173Z"
   },
   {
    "duration": 17,
    "start_time": "2024-03-08T13:38:34.972Z"
   },
   {
    "duration": 7,
    "start_time": "2024-03-08T13:39:36.073Z"
   },
   {
    "duration": 144,
    "start_time": "2024-03-08T13:40:27.468Z"
   },
   {
    "duration": 165,
    "start_time": "2024-03-08T13:41:39.576Z"
   },
   {
    "duration": 171,
    "start_time": "2024-03-08T13:42:55.222Z"
   },
   {
    "duration": 15,
    "start_time": "2024-03-08T14:39:44.611Z"
   },
   {
    "duration": 15,
    "start_time": "2024-03-08T14:40:15.446Z"
   },
   {
    "duration": 16,
    "start_time": "2024-03-08T14:40:36.484Z"
   },
   {
    "duration": 86,
    "start_time": "2024-03-08T14:41:32.124Z"
   },
   {
    "duration": 73,
    "start_time": "2024-03-08T14:47:04.996Z"
   },
   {
    "duration": 198,
    "start_time": "2024-03-08T14:47:23.434Z"
   },
   {
    "duration": 197,
    "start_time": "2024-03-08T14:48:48.047Z"
   },
   {
    "duration": 109,
    "start_time": "2024-03-08T14:56:58.386Z"
   },
   {
    "duration": 28,
    "start_time": "2024-03-08T14:57:23.993Z"
   },
   {
    "duration": 91,
    "start_time": "2024-03-08T14:57:27.260Z"
   },
   {
    "duration": 89,
    "start_time": "2024-03-08T14:58:47.367Z"
   },
   {
    "duration": 359,
    "start_time": "2024-03-08T14:58:53.622Z"
   },
   {
    "duration": 195,
    "start_time": "2024-03-08T14:59:02.997Z"
   },
   {
    "duration": 202,
    "start_time": "2024-03-08T15:00:04.678Z"
   },
   {
    "duration": 190,
    "start_time": "2024-03-08T15:00:14.872Z"
   },
   {
    "duration": 213,
    "start_time": "2024-03-08T15:00:41.712Z"
   },
   {
    "duration": 277,
    "start_time": "2024-03-08T15:00:49.849Z"
   },
   {
    "duration": 5,
    "start_time": "2024-03-08T15:01:51.522Z"
   },
   {
    "duration": 125,
    "start_time": "2024-03-08T15:02:16.427Z"
   },
   {
    "duration": 132,
    "start_time": "2024-03-08T15:12:30.094Z"
   },
   {
    "duration": 8,
    "start_time": "2024-03-08T15:13:17.679Z"
   },
   {
    "duration": 1180,
    "start_time": "2024-03-08T15:13:30.244Z"
   },
   {
    "duration": 10,
    "start_time": "2024-03-08T15:15:40.467Z"
   },
   {
    "duration": 9,
    "start_time": "2024-03-08T15:20:13.388Z"
   },
   {
    "duration": 8,
    "start_time": "2024-03-08T15:21:05.604Z"
   },
   {
    "duration": 65,
    "start_time": "2024-03-08T15:23:26.909Z"
   },
   {
    "duration": 13,
    "start_time": "2024-03-08T15:25:30.697Z"
   },
   {
    "duration": 5,
    "start_time": "2024-03-08T15:33:40.121Z"
   },
   {
    "duration": 11,
    "start_time": "2024-03-08T15:34:01.001Z"
   },
   {
    "duration": 9,
    "start_time": "2024-03-08T15:34:57.156Z"
   },
   {
    "duration": 7,
    "start_time": "2024-03-08T15:35:25.648Z"
   },
   {
    "duration": 1194,
    "start_time": "2024-03-08T15:36:24.298Z"
   },
   {
    "duration": 113,
    "start_time": "2024-03-08T15:36:42.208Z"
   },
   {
    "duration": 1157,
    "start_time": "2024-03-08T15:49:39.715Z"
   },
   {
    "duration": 107,
    "start_time": "2024-03-08T15:49:59.163Z"
   },
   {
    "duration": 4,
    "start_time": "2024-03-08T15:50:40.603Z"
   },
   {
    "duration": 114,
    "start_time": "2024-03-08T15:50:41.802Z"
   },
   {
    "duration": 106,
    "start_time": "2024-03-08T15:50:51.621Z"
   },
   {
    "duration": 108,
    "start_time": "2024-03-08T15:52:55.571Z"
   },
   {
    "duration": 128,
    "start_time": "2024-03-08T15:53:31.226Z"
   },
   {
    "duration": 10,
    "start_time": "2024-03-08T16:41:24.244Z"
   },
   {
    "duration": 74,
    "start_time": "2024-03-08T16:44:22.840Z"
   },
   {
    "duration": 12,
    "start_time": "2024-03-08T16:44:35.563Z"
   },
   {
    "duration": 15,
    "start_time": "2024-03-08T16:44:56.070Z"
   },
   {
    "duration": 7,
    "start_time": "2024-03-08T16:45:47.104Z"
   },
   {
    "duration": 9,
    "start_time": "2024-03-08T16:46:15.632Z"
   },
   {
    "duration": 10,
    "start_time": "2024-03-08T16:46:38.123Z"
   },
   {
    "duration": 6,
    "start_time": "2024-03-08T16:47:56.141Z"
   },
   {
    "duration": 6,
    "start_time": "2024-03-08T16:48:48.613Z"
   },
   {
    "duration": 120,
    "start_time": "2024-03-08T16:50:49.511Z"
   },
   {
    "duration": 111,
    "start_time": "2024-03-08T16:51:26.517Z"
   },
   {
    "duration": 119,
    "start_time": "2024-03-08T16:51:49.925Z"
   },
   {
    "duration": 134,
    "start_time": "2024-03-08T16:53:11.104Z"
   },
   {
    "duration": 8,
    "start_time": "2024-03-08T16:58:29.029Z"
   },
   {
    "duration": 6,
    "start_time": "2024-03-08T17:05:48.632Z"
   },
   {
    "duration": 6,
    "start_time": "2024-03-08T17:07:31.556Z"
   },
   {
    "duration": 77,
    "start_time": "2024-03-08T17:07:48.742Z"
   },
   {
    "duration": 618,
    "start_time": "2024-03-08T17:09:27.419Z"
   },
   {
    "duration": 13,
    "start_time": "2024-03-08T17:13:49.564Z"
   },
   {
    "duration": 169,
    "start_time": "2024-03-08T17:13:54.289Z"
   },
   {
    "duration": 204,
    "start_time": "2024-03-08T17:14:49.464Z"
   },
   {
    "duration": 155,
    "start_time": "2024-03-08T17:15:20.243Z"
   },
   {
    "duration": 5,
    "start_time": "2024-03-08T17:15:45.072Z"
   },
   {
    "duration": 6,
    "start_time": "2024-03-08T17:15:55.965Z"
   },
   {
    "duration": 617,
    "start_time": "2024-03-08T17:16:18.824Z"
   },
   {
    "duration": 225,
    "start_time": "2024-03-08T17:16:28.602Z"
   },
   {
    "duration": 12,
    "start_time": "2024-03-08T17:16:56.049Z"
   },
   {
    "duration": 161,
    "start_time": "2024-03-08T17:17:10.377Z"
   },
   {
    "duration": 249,
    "start_time": "2024-03-08T17:23:15.084Z"
   },
   {
    "duration": 205,
    "start_time": "2024-03-08T17:23:25.246Z"
   },
   {
    "duration": 216,
    "start_time": "2024-03-08T17:23:32.505Z"
   },
   {
    "duration": 225,
    "start_time": "2024-03-08T17:23:42.951Z"
   },
   {
    "duration": 308,
    "start_time": "2024-03-08T17:23:53.165Z"
   },
   {
    "duration": 211,
    "start_time": "2024-03-08T17:29:48.577Z"
   },
   {
    "duration": 14,
    "start_time": "2024-03-08T17:34:54.611Z"
   },
   {
    "duration": 12,
    "start_time": "2024-03-08T17:35:02.503Z"
   },
   {
    "duration": 11,
    "start_time": "2024-03-08T17:35:12.637Z"
   },
   {
    "duration": 11,
    "start_time": "2024-03-08T17:35:24.837Z"
   },
   {
    "duration": 11,
    "start_time": "2024-03-08T17:35:26.364Z"
   },
   {
    "duration": 13,
    "start_time": "2024-03-08T17:35:27.604Z"
   },
   {
    "duration": 160,
    "start_time": "2024-03-08T17:35:44.103Z"
   },
   {
    "duration": 11,
    "start_time": "2024-03-08T17:44:20.023Z"
   },
   {
    "duration": 171,
    "start_time": "2024-03-08T17:44:43.290Z"
   },
   {
    "duration": 172,
    "start_time": "2024-03-08T17:44:52.048Z"
   },
   {
    "duration": 156,
    "start_time": "2024-03-08T17:45:00.987Z"
   },
   {
    "duration": 83,
    "start_time": "2024-03-08T17:47:16.189Z"
   },
   {
    "duration": 302,
    "start_time": "2024-03-08T18:09:47.396Z"
   },
   {
    "duration": 1045,
    "start_time": "2024-03-08T18:10:34.973Z"
   },
   {
    "duration": 288,
    "start_time": "2024-03-08T18:10:50.576Z"
   },
   {
    "duration": 1241,
    "start_time": "2024-03-08T18:11:00.115Z"
   },
   {
    "duration": 262,
    "start_time": "2024-03-08T18:11:38.531Z"
   },
   {
    "duration": 3,
    "start_time": "2024-03-08T18:14:09.229Z"
   },
   {
    "duration": 298,
    "start_time": "2024-03-08T18:14:15.009Z"
   },
   {
    "duration": 1928,
    "start_time": "2024-03-08T18:14:32.762Z"
   },
   {
    "duration": 420,
    "start_time": "2024-03-08T18:14:42.772Z"
   },
   {
    "duration": 293,
    "start_time": "2024-03-08T18:15:33.830Z"
   },
   {
    "duration": 290,
    "start_time": "2024-03-08T18:16:16.593Z"
   },
   {
    "duration": 304,
    "start_time": "2024-03-08T18:16:34.725Z"
   },
   {
    "duration": 614,
    "start_time": "2024-03-08T18:17:02.121Z"
   },
   {
    "duration": 974,
    "start_time": "2024-03-08T18:17:19.927Z"
   },
   {
    "duration": 77,
    "start_time": "2024-03-08T18:18:01.944Z"
   },
   {
    "duration": 793,
    "start_time": "2024-03-08T18:18:25.769Z"
   },
   {
    "duration": 910,
    "start_time": "2024-03-08T18:18:57.950Z"
   },
   {
    "duration": 859,
    "start_time": "2024-03-08T18:19:58.873Z"
   },
   {
    "duration": 447,
    "start_time": "2024-03-08T18:21:09.826Z"
   },
   {
    "duration": 281,
    "start_time": "2024-03-08T18:21:16.020Z"
   },
   {
    "duration": 308,
    "start_time": "2024-03-08T18:21:31.757Z"
   },
   {
    "duration": 1094,
    "start_time": "2024-03-08T18:28:20.933Z"
   },
   {
    "duration": 274,
    "start_time": "2024-03-08T18:29:29.208Z"
   },
   {
    "duration": 281,
    "start_time": "2024-03-08T18:29:38.052Z"
   },
   {
    "duration": 291,
    "start_time": "2024-03-08T18:29:53.483Z"
   },
   {
    "duration": 1144,
    "start_time": "2024-03-08T18:30:09.368Z"
   },
   {
    "duration": 286,
    "start_time": "2024-03-08T18:30:18.502Z"
   },
   {
    "duration": 1137,
    "start_time": "2024-03-08T18:34:07.205Z"
   },
   {
    "duration": 12,
    "start_time": "2024-03-08T18:34:26.840Z"
   },
   {
    "duration": 16,
    "start_time": "2024-03-08T18:34:46.878Z"
   },
   {
    "duration": 15,
    "start_time": "2024-03-08T18:35:02.021Z"
   },
   {
    "duration": 19,
    "start_time": "2024-03-08T18:35:18.054Z"
   },
   {
    "duration": 9,
    "start_time": "2024-03-08T18:35:39.262Z"
   },
   {
    "duration": 8,
    "start_time": "2024-03-08T18:36:16.535Z"
   },
   {
    "duration": 8,
    "start_time": "2024-03-08T18:36:33.621Z"
   },
   {
    "duration": 9,
    "start_time": "2024-03-08T18:36:51.474Z"
   },
   {
    "duration": 276,
    "start_time": "2024-03-08T18:37:26.015Z"
   },
   {
    "duration": 1164,
    "start_time": "2024-03-08T18:52:38.481Z"
   },
   {
    "duration": 1150,
    "start_time": "2024-03-08T18:54:48.499Z"
   },
   {
    "duration": 11,
    "start_time": "2024-03-08T18:56:46.551Z"
   },
   {
    "duration": 14,
    "start_time": "2024-03-08T18:57:27.816Z"
   },
   {
    "duration": 74,
    "start_time": "2024-03-08T18:57:47.712Z"
   },
   {
    "duration": 283,
    "start_time": "2024-03-08T18:57:55.750Z"
   },
   {
    "duration": 264,
    "start_time": "2024-03-08T19:03:00.740Z"
   },
   {
    "duration": 271,
    "start_time": "2024-03-08T19:03:33.113Z"
   },
   {
    "duration": 13,
    "start_time": "2024-03-08T20:03:13.991Z"
   },
   {
    "duration": 14,
    "start_time": "2024-03-08T20:03:25.282Z"
   },
   {
    "duration": 17,
    "start_time": "2024-03-08T20:03:53.684Z"
   },
   {
    "duration": 13,
    "start_time": "2024-03-08T20:05:06.833Z"
   },
   {
    "duration": 80,
    "start_time": "2024-03-08T20:21:45.839Z"
   },
   {
    "duration": 67,
    "start_time": "2024-03-08T20:22:10.121Z"
   },
   {
    "duration": 9,
    "start_time": "2024-03-08T20:22:56.483Z"
   },
   {
    "duration": 9,
    "start_time": "2024-03-08T20:23:37.176Z"
   },
   {
    "duration": 9,
    "start_time": "2024-03-08T20:24:07.735Z"
   },
   {
    "duration": 9,
    "start_time": "2024-03-08T20:24:23.583Z"
   },
   {
    "duration": 8,
    "start_time": "2024-03-08T20:24:49.243Z"
   },
   {
    "duration": 13,
    "start_time": "2024-03-08T20:25:19.554Z"
   },
   {
    "duration": 16,
    "start_time": "2024-03-08T20:25:38.661Z"
   },
   {
    "duration": 14,
    "start_time": "2024-03-08T20:25:47.526Z"
   },
   {
    "duration": 95,
    "start_time": "2024-03-08T20:26:23.449Z"
   },
   {
    "duration": 87,
    "start_time": "2024-03-08T20:27:11.377Z"
   },
   {
    "duration": 100,
    "start_time": "2024-03-08T20:31:59.613Z"
   },
   {
    "duration": 13,
    "start_time": "2024-03-08T20:34:06.963Z"
   },
   {
    "duration": 8,
    "start_time": "2024-03-08T20:34:19.101Z"
   },
   {
    "duration": 98,
    "start_time": "2024-03-08T20:34:27.121Z"
   },
   {
    "duration": 10,
    "start_time": "2024-03-08T20:35:37.015Z"
   },
   {
    "duration": 84,
    "start_time": "2024-03-08T20:35:53.851Z"
   },
   {
    "duration": 89,
    "start_time": "2024-03-08T20:36:08.141Z"
   },
   {
    "duration": 88,
    "start_time": "2024-03-08T20:36:15.698Z"
   },
   {
    "duration": 1061,
    "start_time": "2024-03-08T20:36:20.883Z"
   },
   {
    "duration": 62,
    "start_time": "2024-03-08T20:36:21.946Z"
   },
   {
    "duration": 12,
    "start_time": "2024-03-08T20:36:22.009Z"
   },
   {
    "duration": 18,
    "start_time": "2024-03-08T20:36:22.022Z"
   },
   {
    "duration": 24,
    "start_time": "2024-03-08T20:36:22.041Z"
   },
   {
    "duration": 38,
    "start_time": "2024-03-08T20:36:22.067Z"
   },
   {
    "duration": 9,
    "start_time": "2024-03-08T20:36:22.107Z"
   },
   {
    "duration": 14,
    "start_time": "2024-03-08T20:36:22.118Z"
   },
   {
    "duration": 12,
    "start_time": "2024-03-08T20:36:22.133Z"
   },
   {
    "duration": 11,
    "start_time": "2024-03-08T20:36:22.147Z"
   },
   {
    "duration": 15,
    "start_time": "2024-03-08T20:36:22.160Z"
   },
   {
    "duration": 30,
    "start_time": "2024-03-08T20:36:22.176Z"
   },
   {
    "duration": 33,
    "start_time": "2024-03-08T20:36:22.208Z"
   },
   {
    "duration": 8,
    "start_time": "2024-03-08T20:36:22.242Z"
   },
   {
    "duration": 26,
    "start_time": "2024-03-08T20:36:22.251Z"
   },
   {
    "duration": 100,
    "start_time": "2024-03-08T20:36:22.279Z"
   },
   {
    "duration": 34,
    "start_time": "2024-03-08T20:36:22.380Z"
   },
   {
    "duration": 161,
    "start_time": "2024-03-08T20:36:22.416Z"
   },
   {
    "duration": 24,
    "start_time": "2024-03-08T20:36:22.578Z"
   },
   {
    "duration": 264,
    "start_time": "2024-03-08T20:36:22.604Z"
   },
   {
    "duration": 949,
    "start_time": "2024-03-08T20:36:22.869Z"
   },
   {
    "duration": 22,
    "start_time": "2024-03-08T20:36:23.819Z"
   },
   {
    "duration": 180,
    "start_time": "2024-03-08T20:36:23.842Z"
   },
   {
    "duration": 15,
    "start_time": "2024-03-08T20:36:24.024Z"
   },
   {
    "duration": 239,
    "start_time": "2024-03-08T20:36:24.040Z"
   },
   {
    "duration": 33,
    "start_time": "2024-03-08T20:36:24.280Z"
   },
   {
    "duration": 196,
    "start_time": "2024-03-08T20:36:24.314Z"
   },
   {
    "duration": 134,
    "start_time": "2024-03-08T20:36:24.513Z"
   },
   {
    "duration": 122,
    "start_time": "2024-03-08T20:36:24.648Z"
   },
   {
    "duration": 6,
    "start_time": "2024-03-08T20:36:24.771Z"
   },
   {
    "duration": 6,
    "start_time": "2024-03-08T20:36:24.778Z"
   },
   {
    "duration": 602,
    "start_time": "2024-03-08T20:36:24.785Z"
   },
   {
    "duration": 238,
    "start_time": "2024-03-08T20:36:25.388Z"
   },
   {
    "duration": 14,
    "start_time": "2024-03-08T20:36:25.627Z"
   },
   {
    "duration": 168,
    "start_time": "2024-03-08T20:36:25.642Z"
   },
   {
    "duration": 270,
    "start_time": "2024-03-08T20:36:25.812Z"
   },
   {
    "duration": 18,
    "start_time": "2024-03-08T20:36:26.084Z"
   },
   {
    "duration": 14,
    "start_time": "2024-03-08T20:36:26.103Z"
   },
   {
    "duration": 11,
    "start_time": "2024-03-08T20:36:26.118Z"
   },
   {
    "duration": 10,
    "start_time": "2024-03-08T20:36:26.130Z"
   },
   {
    "duration": 11,
    "start_time": "2024-03-08T20:36:26.141Z"
   },
   {
    "duration": 49,
    "start_time": "2024-03-08T20:36:26.153Z"
   },
   {
    "duration": 283,
    "start_time": "2024-03-08T20:36:26.203Z"
   },
   {
    "duration": 283,
    "start_time": "2024-03-08T20:36:26.487Z"
   },
   {
    "duration": 101,
    "start_time": "2024-03-08T20:36:26.772Z"
   },
   {
    "duration": 0,
    "start_time": "2024-03-08T20:36:26.874Z"
   },
   {
    "duration": 0,
    "start_time": "2024-03-08T20:36:26.875Z"
   },
   {
    "duration": 0,
    "start_time": "2024-03-08T20:36:26.876Z"
   },
   {
    "duration": 0,
    "start_time": "2024-03-08T20:36:26.877Z"
   },
   {
    "duration": 0,
    "start_time": "2024-03-08T20:36:26.878Z"
   },
   {
    "duration": 0,
    "start_time": "2024-03-08T20:36:26.879Z"
   },
   {
    "duration": 0,
    "start_time": "2024-03-08T20:36:26.879Z"
   },
   {
    "duration": 0,
    "start_time": "2024-03-08T20:36:26.880Z"
   },
   {
    "duration": 0,
    "start_time": "2024-03-08T20:36:26.881Z"
   },
   {
    "duration": 0,
    "start_time": "2024-03-08T20:36:26.901Z"
   },
   {
    "duration": 10,
    "start_time": "2024-03-08T21:11:50.926Z"
   },
   {
    "duration": 8,
    "start_time": "2024-03-08T21:12:26.842Z"
   },
   {
    "duration": 90,
    "start_time": "2024-03-08T21:12:47.826Z"
   },
   {
    "duration": 8,
    "start_time": "2024-03-08T21:13:23.875Z"
   },
   {
    "duration": 9,
    "start_time": "2024-03-08T21:26:55.886Z"
   },
   {
    "duration": 9,
    "start_time": "2024-03-08T21:27:03.603Z"
   },
   {
    "duration": 91,
    "start_time": "2024-03-08T21:27:23.852Z"
   },
   {
    "duration": 152,
    "start_time": "2024-03-08T21:32:38.683Z"
   },
   {
    "duration": 9,
    "start_time": "2024-03-08T21:32:43.513Z"
   },
   {
    "duration": 5,
    "start_time": "2024-03-08T21:32:54.082Z"
   },
   {
    "duration": 5,
    "start_time": "2024-03-08T21:33:11.525Z"
   },
   {
    "duration": 80,
    "start_time": "2024-03-08T21:34:27.448Z"
   },
   {
    "duration": 79,
    "start_time": "2024-03-08T21:34:57.233Z"
   },
   {
    "duration": 89,
    "start_time": "2024-03-08T21:35:09.151Z"
   },
   {
    "duration": 16,
    "start_time": "2024-03-08T21:39:47.599Z"
   },
   {
    "duration": 166,
    "start_time": "2024-03-08T21:40:00.965Z"
   },
   {
    "duration": 168,
    "start_time": "2024-03-08T21:40:41.169Z"
   },
   {
    "duration": 165,
    "start_time": "2024-03-08T21:41:07.537Z"
   },
   {
    "duration": 154,
    "start_time": "2024-03-08T21:41:19.416Z"
   },
   {
    "duration": 160,
    "start_time": "2024-03-08T21:41:31.389Z"
   },
   {
    "duration": 16,
    "start_time": "2024-03-09T01:19:08.501Z"
   },
   {
    "duration": 243,
    "start_time": "2024-03-09T01:19:11.408Z"
   },
   {
    "duration": 28,
    "start_time": "2024-03-09T01:19:17.118Z"
   },
   {
    "duration": 188,
    "start_time": "2024-03-09T01:19:19.053Z"
   },
   {
    "duration": 1,
    "start_time": "2024-03-09T01:50:03.938Z"
   },
   {
    "duration": 78,
    "start_time": "2024-03-09T01:50:53.064Z"
   },
   {
    "duration": 118,
    "start_time": "2024-03-09T01:50:58.257Z"
   },
   {
    "duration": 114,
    "start_time": "2024-03-09T01:51:02.459Z"
   },
   {
    "duration": 118,
    "start_time": "2024-03-09T01:51:03.970Z"
   },
   {
    "duration": 80,
    "start_time": "2024-03-09T01:52:54.189Z"
   },
   {
    "duration": 9,
    "start_time": "2024-03-09T01:54:12.264Z"
   },
   {
    "duration": 10,
    "start_time": "2024-03-09T01:54:27.221Z"
   },
   {
    "duration": 2,
    "start_time": "2024-03-09T02:08:21.489Z"
   },
   {
    "duration": 10,
    "start_time": "2024-03-09T02:09:02.213Z"
   },
   {
    "duration": 12,
    "start_time": "2024-03-09T02:22:55.824Z"
   },
   {
    "duration": 4,
    "start_time": "2024-03-09T02:23:27.348Z"
   },
   {
    "duration": 12,
    "start_time": "2024-03-09T02:25:00.186Z"
   },
   {
    "duration": 14,
    "start_time": "2024-03-09T02:25:07.368Z"
   },
   {
    "duration": 4,
    "start_time": "2024-03-09T02:31:17.783Z"
   },
   {
    "duration": 12,
    "start_time": "2024-03-09T02:31:26.272Z"
   },
   {
    "duration": 1019,
    "start_time": "2024-03-09T02:32:23.520Z"
   },
   {
    "duration": 59,
    "start_time": "2024-03-09T02:32:24.541Z"
   },
   {
    "duration": 11,
    "start_time": "2024-03-09T02:32:24.601Z"
   },
   {
    "duration": 10,
    "start_time": "2024-03-09T02:32:24.614Z"
   },
   {
    "duration": 4,
    "start_time": "2024-03-09T02:32:24.626Z"
   },
   {
    "duration": 17,
    "start_time": "2024-03-09T02:32:24.632Z"
   },
   {
    "duration": 7,
    "start_time": "2024-03-09T02:32:24.650Z"
   },
   {
    "duration": 12,
    "start_time": "2024-03-09T02:32:24.658Z"
   },
   {
    "duration": 12,
    "start_time": "2024-03-09T02:32:24.702Z"
   },
   {
    "duration": 9,
    "start_time": "2024-03-09T02:32:24.715Z"
   },
   {
    "duration": 14,
    "start_time": "2024-03-09T02:32:24.725Z"
   },
   {
    "duration": 5,
    "start_time": "2024-03-09T02:32:24.741Z"
   },
   {
    "duration": 15,
    "start_time": "2024-03-09T02:32:24.748Z"
   },
   {
    "duration": 8,
    "start_time": "2024-03-09T02:32:24.801Z"
   },
   {
    "duration": 16,
    "start_time": "2024-03-09T02:32:24.811Z"
   },
   {
    "duration": 86,
    "start_time": "2024-03-09T02:32:24.828Z"
   },
   {
    "duration": 13,
    "start_time": "2024-03-09T02:32:24.915Z"
   },
   {
    "duration": 158,
    "start_time": "2024-03-09T02:32:24.929Z"
   },
   {
    "duration": 19,
    "start_time": "2024-03-09T02:32:25.089Z"
   },
   {
    "duration": 259,
    "start_time": "2024-03-09T02:32:25.109Z"
   },
   {
    "duration": 937,
    "start_time": "2024-03-09T02:32:25.369Z"
   },
   {
    "duration": 20,
    "start_time": "2024-03-09T02:32:26.308Z"
   },
   {
    "duration": 180,
    "start_time": "2024-03-09T02:32:26.330Z"
   },
   {
    "duration": 16,
    "start_time": "2024-03-09T02:32:26.511Z"
   },
   {
    "duration": 232,
    "start_time": "2024-03-09T02:32:26.528Z"
   },
   {
    "duration": 41,
    "start_time": "2024-03-09T02:32:26.761Z"
   },
   {
    "duration": 198,
    "start_time": "2024-03-09T02:32:26.803Z"
   },
   {
    "duration": 132,
    "start_time": "2024-03-09T02:32:27.003Z"
   },
   {
    "duration": 126,
    "start_time": "2024-03-09T02:32:27.137Z"
   },
   {
    "duration": 6,
    "start_time": "2024-03-09T02:32:27.265Z"
   },
   {
    "duration": 6,
    "start_time": "2024-03-09T02:32:27.272Z"
   },
   {
    "duration": 585,
    "start_time": "2024-03-09T02:32:27.279Z"
   },
   {
    "duration": 265,
    "start_time": "2024-03-09T02:32:27.866Z"
   },
   {
    "duration": 14,
    "start_time": "2024-03-09T02:32:28.132Z"
   },
   {
    "duration": 174,
    "start_time": "2024-03-09T02:32:28.148Z"
   },
   {
    "duration": 271,
    "start_time": "2024-03-09T02:32:28.323Z"
   },
   {
    "duration": 12,
    "start_time": "2024-03-09T02:32:28.601Z"
   },
   {
    "duration": 12,
    "start_time": "2024-03-09T02:32:28.614Z"
   },
   {
    "duration": 11,
    "start_time": "2024-03-09T02:32:28.627Z"
   },
   {
    "duration": 12,
    "start_time": "2024-03-09T02:32:28.639Z"
   },
   {
    "duration": 46,
    "start_time": "2024-03-09T02:32:28.656Z"
   },
   {
    "duration": 12,
    "start_time": "2024-03-09T02:32:28.704Z"
   },
   {
    "duration": 177,
    "start_time": "2024-03-09T02:32:28.717Z"
   },
   {
    "duration": 171,
    "start_time": "2024-03-09T02:32:28.895Z"
   },
   {
    "duration": 198,
    "start_time": "2024-03-09T02:32:29.067Z"
   },
   {
    "duration": 137,
    "start_time": "2024-03-09T02:32:29.267Z"
   },
   {
    "duration": 130,
    "start_time": "2024-03-09T02:32:29.406Z"
   },
   {
    "duration": 130,
    "start_time": "2024-03-09T02:32:29.538Z"
   },
   {
    "duration": 8,
    "start_time": "2024-03-09T02:32:29.669Z"
   },
   {
    "duration": 114,
    "start_time": "2024-03-09T02:32:29.679Z"
   },
   {
    "duration": 0,
    "start_time": "2024-03-09T02:32:29.794Z"
   },
   {
    "duration": 0,
    "start_time": "2024-03-09T02:32:29.795Z"
   },
   {
    "duration": 1,
    "start_time": "2024-03-09T02:32:29.795Z"
   },
   {
    "duration": 0,
    "start_time": "2024-03-09T02:32:29.796Z"
   },
   {
    "duration": 10,
    "start_time": "2024-03-09T02:33:31.117Z"
   },
   {
    "duration": 9,
    "start_time": "2024-03-09T02:33:40.985Z"
   },
   {
    "duration": 17,
    "start_time": "2024-03-09T02:36:41.707Z"
   },
   {
    "duration": 12,
    "start_time": "2024-03-09T02:37:00.540Z"
   },
   {
    "duration": 11,
    "start_time": "2024-03-09T02:37:07.613Z"
   },
   {
    "duration": 11,
    "start_time": "2024-03-09T02:38:12.293Z"
   },
   {
    "duration": 13,
    "start_time": "2024-03-09T02:41:06.354Z"
   },
   {
    "duration": 11,
    "start_time": "2024-03-09T02:42:37.373Z"
   },
   {
    "duration": 13,
    "start_time": "2024-03-09T02:43:03.186Z"
   },
   {
    "duration": 16,
    "start_time": "2024-03-09T02:46:37.883Z"
   },
   {
    "duration": 11,
    "start_time": "2024-03-09T02:52:05.990Z"
   },
   {
    "duration": 10,
    "start_time": "2024-03-09T02:54:43.527Z"
   },
   {
    "duration": 13,
    "start_time": "2024-03-09T02:55:15.696Z"
   },
   {
    "duration": 14,
    "start_time": "2024-03-09T02:55:59.333Z"
   },
   {
    "duration": 38,
    "start_time": "2024-03-09T02:57:40.329Z"
   },
   {
    "duration": 25,
    "start_time": "2024-03-09T02:57:54.638Z"
   },
   {
    "duration": 4,
    "start_time": "2024-03-09T02:57:56.688Z"
   },
   {
    "duration": 4,
    "start_time": "2024-03-09T02:58:18.366Z"
   },
   {
    "duration": 25,
    "start_time": "2024-03-09T02:58:37.730Z"
   },
   {
    "duration": 985,
    "start_time": "2024-03-09T02:58:51.940Z"
   },
   {
    "duration": 58,
    "start_time": "2024-03-09T02:58:52.927Z"
   },
   {
    "duration": 12,
    "start_time": "2024-03-09T02:58:52.987Z"
   },
   {
    "duration": 13,
    "start_time": "2024-03-09T02:58:53.001Z"
   },
   {
    "duration": 13,
    "start_time": "2024-03-09T02:58:53.016Z"
   },
   {
    "duration": 19,
    "start_time": "2024-03-09T02:58:53.030Z"
   },
   {
    "duration": 6,
    "start_time": "2024-03-09T02:58:53.051Z"
   },
   {
    "duration": 23,
    "start_time": "2024-03-09T02:58:53.058Z"
   },
   {
    "duration": 27,
    "start_time": "2024-03-09T02:58:53.082Z"
   },
   {
    "duration": 11,
    "start_time": "2024-03-09T02:58:53.111Z"
   },
   {
    "duration": 15,
    "start_time": "2024-03-09T02:58:53.123Z"
   },
   {
    "duration": 6,
    "start_time": "2024-03-09T02:58:53.139Z"
   },
   {
    "duration": 13,
    "start_time": "2024-03-09T02:58:53.146Z"
   },
   {
    "duration": 46,
    "start_time": "2024-03-09T02:58:53.161Z"
   },
   {
    "duration": 17,
    "start_time": "2024-03-09T02:58:53.209Z"
   },
   {
    "duration": 85,
    "start_time": "2024-03-09T02:58:53.227Z"
   },
   {
    "duration": 16,
    "start_time": "2024-03-09T02:58:53.314Z"
   },
   {
    "duration": 161,
    "start_time": "2024-03-09T02:58:53.331Z"
   },
   {
    "duration": 30,
    "start_time": "2024-03-09T02:58:53.493Z"
   },
   {
    "duration": 269,
    "start_time": "2024-03-09T02:58:53.525Z"
   },
   {
    "duration": 976,
    "start_time": "2024-03-09T02:58:53.801Z"
   },
   {
    "duration": 32,
    "start_time": "2024-03-09T02:58:54.779Z"
   },
   {
    "duration": 174,
    "start_time": "2024-03-09T02:58:54.813Z"
   },
   {
    "duration": 23,
    "start_time": "2024-03-09T02:58:54.989Z"
   },
   {
    "duration": 244,
    "start_time": "2024-03-09T02:58:55.014Z"
   },
   {
    "duration": 27,
    "start_time": "2024-03-09T02:58:55.259Z"
   },
   {
    "duration": 209,
    "start_time": "2024-03-09T02:58:55.288Z"
   },
   {
    "duration": 146,
    "start_time": "2024-03-09T02:58:55.500Z"
   },
   {
    "duration": 126,
    "start_time": "2024-03-09T02:58:55.647Z"
   },
   {
    "duration": 8,
    "start_time": "2024-03-09T02:58:55.774Z"
   },
   {
    "duration": 21,
    "start_time": "2024-03-09T02:58:55.783Z"
   },
   {
    "duration": 649,
    "start_time": "2024-03-09T02:58:55.805Z"
   },
   {
    "duration": 187,
    "start_time": "2024-03-09T02:58:56.455Z"
   },
   {
    "duration": 12,
    "start_time": "2024-03-09T02:58:56.643Z"
   },
   {
    "duration": 298,
    "start_time": "2024-03-09T02:58:56.656Z"
   },
   {
    "duration": 317,
    "start_time": "2024-03-09T02:58:57.001Z"
   },
   {
    "duration": 11,
    "start_time": "2024-03-09T02:58:57.320Z"
   },
   {
    "duration": 31,
    "start_time": "2024-03-09T02:58:57.333Z"
   },
   {
    "duration": 29,
    "start_time": "2024-03-09T02:58:57.365Z"
   },
   {
    "duration": 22,
    "start_time": "2024-03-09T02:58:57.395Z"
   },
   {
    "duration": 11,
    "start_time": "2024-03-09T02:58:57.418Z"
   },
   {
    "duration": 13,
    "start_time": "2024-03-09T02:58:57.431Z"
   },
   {
    "duration": 175,
    "start_time": "2024-03-09T02:58:57.446Z"
   },
   {
    "duration": 167,
    "start_time": "2024-03-09T02:58:57.622Z"
   },
   {
    "duration": 173,
    "start_time": "2024-03-09T02:58:57.790Z"
   },
   {
    "duration": 131,
    "start_time": "2024-03-09T02:58:57.964Z"
   },
   {
    "duration": 129,
    "start_time": "2024-03-09T02:58:58.097Z"
   },
   {
    "duration": 128,
    "start_time": "2024-03-09T02:58:58.227Z"
   },
   {
    "duration": 6,
    "start_time": "2024-03-09T02:58:58.357Z"
   },
   {
    "duration": 39,
    "start_time": "2024-03-09T02:58:58.364Z"
   },
   {
    "duration": 5,
    "start_time": "2024-03-09T02:58:58.404Z"
   },
   {
    "duration": 25,
    "start_time": "2024-03-09T02:58:58.411Z"
   },
   {
    "duration": 15,
    "start_time": "2024-03-09T02:58:58.438Z"
   },
   {
    "duration": 8,
    "start_time": "2024-03-09T02:58:58.454Z"
   },
   {
    "duration": 3,
    "start_time": "2024-03-09T02:58:58.464Z"
   },
   {
    "duration": 8,
    "start_time": "2024-03-09T02:59:31.268Z"
   },
   {
    "duration": 7,
    "start_time": "2024-03-09T02:59:58.650Z"
   },
   {
    "duration": 4,
    "start_time": "2024-03-09T03:00:17.831Z"
   },
   {
    "duration": 5,
    "start_time": "2024-03-09T03:04:17.356Z"
   },
   {
    "duration": 6,
    "start_time": "2024-03-09T03:04:40.958Z"
   },
   {
    "duration": 7,
    "start_time": "2024-03-09T03:04:59.976Z"
   },
   {
    "duration": 4,
    "start_time": "2024-03-09T03:05:12.042Z"
   },
   {
    "duration": 1218,
    "start_time": "2024-03-09T11:56:14.090Z"
   },
   {
    "duration": 69,
    "start_time": "2024-03-09T11:56:15.310Z"
   },
   {
    "duration": 14,
    "start_time": "2024-03-09T11:56:15.380Z"
   },
   {
    "duration": 52,
    "start_time": "2024-03-09T11:56:15.396Z"
   },
   {
    "duration": 38,
    "start_time": "2024-03-09T11:56:15.451Z"
   },
   {
    "duration": 44,
    "start_time": "2024-03-09T11:56:15.490Z"
   },
   {
    "duration": 33,
    "start_time": "2024-03-09T11:56:15.536Z"
   },
   {
    "duration": 19,
    "start_time": "2024-03-09T11:56:15.570Z"
   },
   {
    "duration": 29,
    "start_time": "2024-03-09T11:56:15.591Z"
   },
   {
    "duration": 12,
    "start_time": "2024-03-09T11:56:15.622Z"
   },
   {
    "duration": 27,
    "start_time": "2024-03-09T11:56:15.635Z"
   },
   {
    "duration": 9,
    "start_time": "2024-03-09T11:56:15.663Z"
   },
   {
    "duration": 24,
    "start_time": "2024-03-09T11:56:15.674Z"
   },
   {
    "duration": 11,
    "start_time": "2024-03-09T11:56:15.702Z"
   },
   {
    "duration": 18,
    "start_time": "2024-03-09T11:56:15.714Z"
   },
   {
    "duration": 91,
    "start_time": "2024-03-09T11:56:15.734Z"
   },
   {
    "duration": 15,
    "start_time": "2024-03-09T11:56:15.827Z"
   },
   {
    "duration": 197,
    "start_time": "2024-03-09T11:56:15.844Z"
   },
   {
    "duration": 16,
    "start_time": "2024-03-09T11:56:16.043Z"
   },
   {
    "duration": 325,
    "start_time": "2024-03-09T11:56:16.060Z"
   },
   {
    "duration": 1186,
    "start_time": "2024-03-09T11:56:16.386Z"
   },
   {
    "duration": 27,
    "start_time": "2024-03-09T11:56:17.574Z"
   },
   {
    "duration": 210,
    "start_time": "2024-03-09T11:56:17.603Z"
   },
   {
    "duration": 19,
    "start_time": "2024-03-09T11:56:17.815Z"
   },
   {
    "duration": 308,
    "start_time": "2024-03-09T11:56:17.836Z"
   },
   {
    "duration": 48,
    "start_time": "2024-03-09T11:56:18.146Z"
   },
   {
    "duration": 240,
    "start_time": "2024-03-09T11:56:18.195Z"
   },
   {
    "duration": 170,
    "start_time": "2024-03-09T11:56:18.438Z"
   },
   {
    "duration": 152,
    "start_time": "2024-03-09T11:56:18.610Z"
   },
   {
    "duration": 6,
    "start_time": "2024-03-09T11:56:18.764Z"
   },
   {
    "duration": 21,
    "start_time": "2024-03-09T11:56:18.772Z"
   },
   {
    "duration": 681,
    "start_time": "2024-03-09T11:56:18.794Z"
   },
   {
    "duration": 251,
    "start_time": "2024-03-09T11:56:19.477Z"
   },
   {
    "duration": 15,
    "start_time": "2024-03-09T11:56:19.730Z"
   },
   {
    "duration": 218,
    "start_time": "2024-03-09T11:56:19.747Z"
   },
   {
    "duration": 325,
    "start_time": "2024-03-09T11:56:19.966Z"
   },
   {
    "duration": 12,
    "start_time": "2024-03-09T11:56:20.292Z"
   },
   {
    "duration": 12,
    "start_time": "2024-03-09T11:56:20.306Z"
   },
   {
    "duration": 11,
    "start_time": "2024-03-09T11:56:20.319Z"
   },
   {
    "duration": 11,
    "start_time": "2024-03-09T11:56:20.332Z"
   },
   {
    "duration": 38,
    "start_time": "2024-03-09T11:56:20.347Z"
   },
   {
    "duration": 13,
    "start_time": "2024-03-09T11:56:20.386Z"
   },
   {
    "duration": 216,
    "start_time": "2024-03-09T11:56:20.400Z"
   },
   {
    "duration": 207,
    "start_time": "2024-03-09T11:56:20.617Z"
   },
   {
    "duration": 214,
    "start_time": "2024-03-09T11:56:20.825Z"
   },
   {
    "duration": 145,
    "start_time": "2024-03-09T11:56:21.041Z"
   },
   {
    "duration": 139,
    "start_time": "2024-03-09T11:56:21.188Z"
   },
   {
    "duration": 151,
    "start_time": "2024-03-09T11:56:21.329Z"
   },
   {
    "duration": 8,
    "start_time": "2024-03-09T11:56:21.482Z"
   },
   {
    "duration": 10,
    "start_time": "2024-03-09T11:56:21.492Z"
   },
   {
    "duration": 5,
    "start_time": "2024-03-09T11:56:21.503Z"
   },
   {
    "duration": 4,
    "start_time": "2024-03-09T11:56:21.509Z"
   },
   {
    "duration": 6,
    "start_time": "2024-03-09T11:56:21.515Z"
   },
   {
    "duration": 5,
    "start_time": "2024-03-09T11:56:21.522Z"
   },
   {
    "duration": 23,
    "start_time": "2024-03-09T12:07:04.884Z"
   },
   {
    "duration": 5,
    "start_time": "2024-03-09T12:07:16.808Z"
   },
   {
    "duration": 5,
    "start_time": "2024-03-09T12:41:54.128Z"
   },
   {
    "duration": 113,
    "start_time": "2024-03-09T13:23:24.933Z"
   },
   {
    "duration": 199,
    "start_time": "2024-03-09T13:25:24.271Z"
   },
   {
    "duration": 215,
    "start_time": "2024-03-09T13:25:36.046Z"
   },
   {
    "duration": 296,
    "start_time": "2024-03-09T13:25:45.208Z"
   },
   {
    "duration": 198,
    "start_time": "2024-03-09T13:25:50.935Z"
   },
   {
    "duration": 222,
    "start_time": "2024-03-09T13:25:54.969Z"
   },
   {
    "duration": 186,
    "start_time": "2024-03-09T13:26:22.123Z"
   },
   {
    "duration": 205,
    "start_time": "2024-03-09T13:26:31.627Z"
   },
   {
    "duration": 302,
    "start_time": "2024-03-09T13:26:56.941Z"
   },
   {
    "duration": 306,
    "start_time": "2024-03-09T13:27:04.851Z"
   },
   {
    "duration": 419,
    "start_time": "2024-03-09T13:27:09.955Z"
   },
   {
    "duration": 74,
    "start_time": "2024-03-09T13:27:17.775Z"
   },
   {
    "duration": 72,
    "start_time": "2024-03-09T13:27:27.687Z"
   },
   {
    "duration": 208,
    "start_time": "2024-03-09T13:27:34.386Z"
   },
   {
    "duration": 108,
    "start_time": "2024-03-09T13:47:37.235Z"
   },
   {
    "duration": 8,
    "start_time": "2024-03-09T13:47:54.152Z"
   },
   {
    "duration": 4,
    "start_time": "2024-03-09T13:48:24.247Z"
   },
   {
    "duration": 5,
    "start_time": "2024-03-09T13:49:46.349Z"
   },
   {
    "duration": 148,
    "start_time": "2024-03-09T13:50:51.678Z"
   },
   {
    "duration": 153,
    "start_time": "2024-03-09T13:52:04.779Z"
   },
   {
    "duration": 8,
    "start_time": "2024-03-09T13:53:05.322Z"
   },
   {
    "duration": 9,
    "start_time": "2024-03-09T13:53:20.571Z"
   },
   {
    "duration": 7,
    "start_time": "2024-03-09T13:54:30.231Z"
   },
   {
    "duration": 140,
    "start_time": "2024-03-09T13:54:34.586Z"
   },
   {
    "duration": 6,
    "start_time": "2024-03-09T13:54:46.329Z"
   },
   {
    "duration": 138,
    "start_time": "2024-03-09T13:54:47.449Z"
   },
   {
    "duration": 8,
    "start_time": "2024-03-09T13:54:54.163Z"
   },
   {
    "duration": 195,
    "start_time": "2024-03-09T13:54:55.106Z"
   },
   {
    "duration": 1102,
    "start_time": "2024-03-09T13:58:58.251Z"
   },
   {
    "duration": 8,
    "start_time": "2024-03-09T14:01:14.952Z"
   },
   {
    "duration": 7,
    "start_time": "2024-03-09T14:29:28.595Z"
   },
   {
    "duration": 84,
    "start_time": "2024-03-09T14:31:13.284Z"
   },
   {
    "duration": 101,
    "start_time": "2024-03-09T14:31:27.211Z"
   },
   {
    "duration": 71,
    "start_time": "2024-03-09T14:32:05.479Z"
   },
   {
    "duration": 83,
    "start_time": "2024-03-09T14:32:49.333Z"
   },
   {
    "duration": 79,
    "start_time": "2024-03-09T14:33:51.279Z"
   },
   {
    "duration": 1074,
    "start_time": "2024-03-09T14:34:43.229Z"
   },
   {
    "duration": 1110,
    "start_time": "2024-03-09T14:39:41.786Z"
   },
   {
    "duration": 1444,
    "start_time": "2024-03-09T14:40:04.508Z"
   },
   {
    "duration": 1197,
    "start_time": "2024-03-09T14:41:43.372Z"
   },
   {
    "duration": 5,
    "start_time": "2024-03-09T14:56:11.935Z"
   },
   {
    "duration": 1071,
    "start_time": "2024-03-09T14:56:19.195Z"
   },
   {
    "duration": 1218,
    "start_time": "2024-03-09T14:56:36.406Z"
   },
   {
    "duration": 6,
    "start_time": "2024-03-09T14:58:07.672Z"
   },
   {
    "duration": 7,
    "start_time": "2024-03-09T14:58:09.470Z"
   },
   {
    "duration": 5,
    "start_time": "2024-03-09T14:59:29.106Z"
   },
   {
    "duration": 3,
    "start_time": "2024-03-09T14:59:39.973Z"
   },
   {
    "duration": 4,
    "start_time": "2024-03-09T14:59:57.324Z"
   },
   {
    "duration": 138,
    "start_time": "2024-03-09T15:00:34.582Z"
   },
   {
    "duration": 146,
    "start_time": "2024-03-09T15:01:38.443Z"
   },
   {
    "duration": 130,
    "start_time": "2024-03-09T15:01:48.860Z"
   },
   {
    "duration": 138,
    "start_time": "2024-03-09T15:02:03.222Z"
   },
   {
    "duration": 133,
    "start_time": "2024-03-09T15:02:11.254Z"
   },
   {
    "duration": 120,
    "start_time": "2024-03-09T15:03:48.553Z"
   },
   {
    "duration": 12,
    "start_time": "2024-03-09T15:04:44.426Z"
   },
   {
    "duration": 3,
    "start_time": "2024-03-09T15:14:30.024Z"
   },
   {
    "duration": 10,
    "start_time": "2024-03-09T15:14:38.987Z"
   },
   {
    "duration": 142,
    "start_time": "2024-03-09T15:15:19.583Z"
   },
   {
    "duration": 151,
    "start_time": "2024-03-09T15:16:25.172Z"
   },
   {
    "duration": 119,
    "start_time": "2024-03-09T15:17:10.710Z"
   },
   {
    "duration": 13,
    "start_time": "2024-03-09T15:17:26.642Z"
   },
   {
    "duration": 111,
    "start_time": "2024-03-09T15:17:36.262Z"
   },
   {
    "duration": 110,
    "start_time": "2024-03-09T15:19:55.423Z"
   },
   {
    "duration": 9,
    "start_time": "2024-03-09T15:20:41.123Z"
   },
   {
    "duration": 64,
    "start_time": "2024-03-09T15:28:37.562Z"
   },
   {
    "duration": 121,
    "start_time": "2024-03-09T15:30:11.657Z"
   },
   {
    "duration": 128,
    "start_time": "2024-03-09T15:30:30.192Z"
   },
   {
    "duration": 227,
    "start_time": "2024-03-09T15:31:56.693Z"
   },
   {
    "duration": 91,
    "start_time": "2024-03-09T15:33:14.412Z"
   },
   {
    "duration": 12,
    "start_time": "2024-03-09T15:33:19.714Z"
   },
   {
    "duration": 11,
    "start_time": "2024-03-09T15:33:53.799Z"
   },
   {
    "duration": 185,
    "start_time": "2024-03-09T15:34:52.859Z"
   },
   {
    "duration": 11,
    "start_time": "2024-03-09T15:35:10.027Z"
   },
   {
    "duration": 128,
    "start_time": "2024-03-09T15:35:12.796Z"
   },
   {
    "duration": 9,
    "start_time": "2024-03-09T15:36:22.597Z"
   },
   {
    "duration": 11,
    "start_time": "2024-03-09T15:36:37.016Z"
   },
   {
    "duration": 137,
    "start_time": "2024-03-09T15:37:57.410Z"
   },
   {
    "duration": 10,
    "start_time": "2024-03-09T15:38:19.118Z"
   },
   {
    "duration": 131,
    "start_time": "2024-03-09T15:38:19.659Z"
   },
   {
    "duration": 124,
    "start_time": "2024-03-09T15:38:40.794Z"
   },
   {
    "duration": 126,
    "start_time": "2024-03-09T15:38:55.777Z"
   },
   {
    "duration": 165,
    "start_time": "2024-03-09T15:39:09.592Z"
   },
   {
    "duration": 140,
    "start_time": "2024-03-09T15:40:29.474Z"
   },
   {
    "duration": 617,
    "start_time": "2024-03-09T15:43:14.977Z"
   },
   {
    "duration": 234,
    "start_time": "2024-03-09T15:44:10.710Z"
   },
   {
    "duration": 258,
    "start_time": "2024-03-09T15:44:29.776Z"
   },
   {
    "duration": 572,
    "start_time": "2024-03-09T15:48:49.124Z"
   },
   {
    "duration": 8,
    "start_time": "2024-03-09T15:54:47.346Z"
   },
   {
    "duration": 7,
    "start_time": "2024-03-09T15:55:04.246Z"
   },
   {
    "duration": 498,
    "start_time": "2024-03-09T15:55:15.015Z"
   },
   {
    "duration": 13,
    "start_time": "2024-03-09T17:16:06.605Z"
   },
   {
    "duration": 28,
    "start_time": "2024-03-09T17:16:20.357Z"
   },
   {
    "duration": 17,
    "start_time": "2024-03-09T17:16:45.796Z"
   },
   {
    "duration": 18,
    "start_time": "2024-03-09T17:16:50.813Z"
   },
   {
    "duration": 18,
    "start_time": "2024-03-09T17:16:54.857Z"
   },
   {
    "duration": 21,
    "start_time": "2024-03-09T17:17:15.003Z"
   },
   {
    "duration": 3,
    "start_time": "2024-03-09T17:26:27.456Z"
   },
   {
    "duration": 75,
    "start_time": "2024-03-09T17:26:51.998Z"
   },
   {
    "duration": 112,
    "start_time": "2024-03-09T17:27:53.194Z"
   },
   {
    "duration": 65,
    "start_time": "2024-03-09T17:28:14.368Z"
   },
   {
    "duration": 11,
    "start_time": "2024-03-09T17:41:12.229Z"
   },
   {
    "duration": 10,
    "start_time": "2024-03-09T17:46:06.624Z"
   },
   {
    "duration": 69,
    "start_time": "2024-03-09T18:05:06.377Z"
   },
   {
    "duration": 11,
    "start_time": "2024-03-09T18:05:46.814Z"
   },
   {
    "duration": 19,
    "start_time": "2024-03-09T18:06:47.287Z"
   },
   {
    "duration": 1130,
    "start_time": "2024-03-09T18:07:12.656Z"
   },
   {
    "duration": 4,
    "start_time": "2024-03-09T18:07:32.310Z"
   },
   {
    "duration": 12,
    "start_time": "2024-03-09T18:09:00.397Z"
   },
   {
    "duration": 65,
    "start_time": "2024-03-09T18:09:03.841Z"
   },
   {
    "duration": 146,
    "start_time": "2024-03-09T18:09:41.703Z"
   },
   {
    "duration": 114,
    "start_time": "2024-03-09T18:13:02.820Z"
   },
   {
    "duration": 110,
    "start_time": "2024-03-09T18:23:50.130Z"
   },
   {
    "duration": 89,
    "start_time": "2024-03-09T19:09:56.268Z"
   },
   {
    "duration": 90,
    "start_time": "2024-03-09T19:11:55.550Z"
   },
   {
    "duration": 245,
    "start_time": "2024-03-09T19:12:38.770Z"
   },
   {
    "duration": 98,
    "start_time": "2024-03-09T19:12:53.895Z"
   },
   {
    "duration": 93,
    "start_time": "2024-03-09T19:13:27.141Z"
   },
   {
    "duration": 714,
    "start_time": "2024-03-09T19:14:13.836Z"
   },
   {
    "duration": 723,
    "start_time": "2024-03-09T19:14:28.657Z"
   },
   {
    "duration": 716,
    "start_time": "2024-03-09T19:14:39.084Z"
   },
   {
    "duration": 944,
    "start_time": "2024-03-09T19:15:00.090Z"
   },
   {
    "duration": 783,
    "start_time": "2024-03-09T19:15:23.612Z"
   },
   {
    "duration": 73,
    "start_time": "2024-03-09T19:15:54.664Z"
   },
   {
    "duration": 69,
    "start_time": "2024-03-09T19:16:02.463Z"
   },
   {
    "duration": 747,
    "start_time": "2024-03-09T19:16:10.756Z"
   },
   {
    "duration": 717,
    "start_time": "2024-03-09T19:16:20.489Z"
   },
   {
    "duration": 906,
    "start_time": "2024-03-09T19:16:36.404Z"
   },
   {
    "duration": 580,
    "start_time": "2024-03-09T19:16:54.680Z"
   },
   {
    "duration": 16,
    "start_time": "2024-03-09T19:56:59.564Z"
   },
   {
    "duration": 64,
    "start_time": "2024-03-09T19:57:08.776Z"
   },
   {
    "duration": 13,
    "start_time": "2024-03-09T19:57:54.240Z"
   },
   {
    "duration": 147,
    "start_time": "2024-03-09T19:57:55.202Z"
   },
   {
    "duration": 13,
    "start_time": "2024-03-09T19:58:07.836Z"
   },
   {
    "duration": 244,
    "start_time": "2024-03-09T19:58:16.960Z"
   },
   {
    "duration": 924,
    "start_time": "2024-03-09T19:58:23.042Z"
   },
   {
    "duration": 22,
    "start_time": "2024-03-09T19:58:35.350Z"
   },
   {
    "duration": 169,
    "start_time": "2024-03-09T19:58:41.241Z"
   },
   {
    "duration": 16,
    "start_time": "2024-03-09T19:58:47.901Z"
   },
   {
    "duration": 174,
    "start_time": "2024-03-09T19:58:51.284Z"
   },
   {
    "duration": 29,
    "start_time": "2024-03-09T19:58:54.897Z"
   },
   {
    "duration": 193,
    "start_time": "2024-03-09T19:58:58.451Z"
   },
   {
    "duration": 601,
    "start_time": "2024-03-09T20:01:13.702Z"
   },
   {
    "duration": 511,
    "start_time": "2024-03-09T20:01:28.574Z"
   },
   {
    "duration": 420,
    "start_time": "2024-03-09T20:01:37.837Z"
   },
   {
    "duration": 631,
    "start_time": "2024-03-09T20:01:51.584Z"
   },
   {
    "duration": 398,
    "start_time": "2024-03-09T20:02:33.560Z"
   },
   {
    "duration": 419,
    "start_time": "2024-03-09T20:02:52.606Z"
   },
   {
    "duration": 414,
    "start_time": "2024-03-09T20:06:34.496Z"
   },
   {
    "duration": 11,
    "start_time": "2024-03-09T20:08:03.147Z"
   },
   {
    "duration": 83,
    "start_time": "2024-03-09T20:09:34.026Z"
   },
   {
    "duration": 65,
    "start_time": "2024-03-09T20:09:38.193Z"
   },
   {
    "duration": 412,
    "start_time": "2024-03-09T20:09:44.091Z"
   },
   {
    "duration": 7,
    "start_time": "2024-03-09T21:26:12.622Z"
   },
   {
    "duration": 121,
    "start_time": "2024-03-09T21:27:30.380Z"
   },
   {
    "duration": 129,
    "start_time": "2024-03-09T21:28:30.089Z"
   },
   {
    "duration": 124,
    "start_time": "2024-03-09T21:29:08.220Z"
   },
   {
    "duration": 72,
    "start_time": "2024-03-09T21:29:33.563Z"
   },
   {
    "duration": 82,
    "start_time": "2024-03-09T21:30:02.661Z"
   },
   {
    "duration": 77,
    "start_time": "2024-03-09T21:30:23.288Z"
   },
   {
    "duration": 15,
    "start_time": "2024-03-09T21:30:34.616Z"
   },
   {
    "duration": 123,
    "start_time": "2024-03-09T21:30:56.124Z"
   },
   {
    "duration": 122,
    "start_time": "2024-03-09T21:32:22.588Z"
   },
   {
    "duration": 126,
    "start_time": "2024-03-09T21:32:48.198Z"
   },
   {
    "duration": 13,
    "start_time": "2024-03-09T21:38:20.107Z"
   },
   {
    "duration": 7,
    "start_time": "2024-03-09T21:38:34.945Z"
   },
   {
    "duration": 5,
    "start_time": "2024-03-09T21:39:22.573Z"
   },
   {
    "duration": 5,
    "start_time": "2024-03-09T21:39:49.438Z"
   },
   {
    "duration": 5,
    "start_time": "2024-03-09T21:39:56.804Z"
   },
   {
    "duration": 4,
    "start_time": "2024-03-09T21:40:01.020Z"
   },
   {
    "duration": 4,
    "start_time": "2024-03-09T21:40:09.971Z"
   },
   {
    "duration": 4,
    "start_time": "2024-03-09T21:40:19.711Z"
   },
   {
    "duration": 6,
    "start_time": "2024-03-09T21:40:25.570Z"
   },
   {
    "duration": 104,
    "start_time": "2024-03-09T21:42:04.467Z"
   },
   {
    "duration": 111,
    "start_time": "2024-03-09T21:42:32.155Z"
   },
   {
    "duration": 1043,
    "start_time": "2024-03-09T21:42:37.009Z"
   },
   {
    "duration": 62,
    "start_time": "2024-03-09T21:42:38.054Z"
   },
   {
    "duration": 13,
    "start_time": "2024-03-09T21:42:38.118Z"
   },
   {
    "duration": 11,
    "start_time": "2024-03-09T21:42:38.134Z"
   },
   {
    "duration": 7,
    "start_time": "2024-03-09T21:42:38.147Z"
   },
   {
    "duration": 21,
    "start_time": "2024-03-09T21:42:38.155Z"
   },
   {
    "duration": 30,
    "start_time": "2024-03-09T21:42:38.177Z"
   },
   {
    "duration": 17,
    "start_time": "2024-03-09T21:42:38.208Z"
   },
   {
    "duration": 12,
    "start_time": "2024-03-09T21:42:38.226Z"
   },
   {
    "duration": 18,
    "start_time": "2024-03-09T21:42:38.240Z"
   },
   {
    "duration": 23,
    "start_time": "2024-03-09T21:42:38.259Z"
   },
   {
    "duration": 18,
    "start_time": "2024-03-09T21:42:38.284Z"
   },
   {
    "duration": 16,
    "start_time": "2024-03-09T21:42:38.304Z"
   },
   {
    "duration": 16,
    "start_time": "2024-03-09T21:42:38.322Z"
   },
   {
    "duration": 103,
    "start_time": "2024-03-09T21:42:38.340Z"
   },
   {
    "duration": 20,
    "start_time": "2024-03-09T21:42:38.444Z"
   },
   {
    "duration": 160,
    "start_time": "2024-03-09T21:42:38.465Z"
   },
   {
    "duration": 13,
    "start_time": "2024-03-09T21:42:38.627Z"
   },
   {
    "duration": 263,
    "start_time": "2024-03-09T21:42:38.641Z"
   },
   {
    "duration": 944,
    "start_time": "2024-03-09T21:42:38.906Z"
   },
   {
    "duration": 20,
    "start_time": "2024-03-09T21:42:39.851Z"
   },
   {
    "duration": 178,
    "start_time": "2024-03-09T21:42:39.872Z"
   },
   {
    "duration": 15,
    "start_time": "2024-03-09T21:42:40.051Z"
   },
   {
    "duration": 252,
    "start_time": "2024-03-09T21:42:40.067Z"
   },
   {
    "duration": 32,
    "start_time": "2024-03-09T21:42:40.321Z"
   },
   {
    "duration": 219,
    "start_time": "2024-03-09T21:42:40.355Z"
   },
   {
    "duration": 3,
    "start_time": "2024-03-09T21:42:40.576Z"
   },
   {
    "duration": 121,
    "start_time": "2024-03-09T21:42:40.582Z"
   },
   {
    "duration": 99,
    "start_time": "2024-03-09T21:42:40.704Z"
   },
   {
    "duration": 0,
    "start_time": "2024-03-09T21:42:40.804Z"
   },
   {
    "duration": 0,
    "start_time": "2024-03-09T21:42:40.805Z"
   },
   {
    "duration": 0,
    "start_time": "2024-03-09T21:42:40.806Z"
   },
   {
    "duration": 0,
    "start_time": "2024-03-09T21:42:40.807Z"
   },
   {
    "duration": 0,
    "start_time": "2024-03-09T21:42:40.808Z"
   },
   {
    "duration": 0,
    "start_time": "2024-03-09T21:42:40.809Z"
   },
   {
    "duration": 1,
    "start_time": "2024-03-09T21:42:40.809Z"
   },
   {
    "duration": 0,
    "start_time": "2024-03-09T21:42:40.810Z"
   },
   {
    "duration": 0,
    "start_time": "2024-03-09T21:42:40.811Z"
   },
   {
    "duration": 0,
    "start_time": "2024-03-09T21:42:40.812Z"
   },
   {
    "duration": 0,
    "start_time": "2024-03-09T21:42:40.813Z"
   },
   {
    "duration": 0,
    "start_time": "2024-03-09T21:42:40.814Z"
   },
   {
    "duration": 0,
    "start_time": "2024-03-09T21:42:40.815Z"
   },
   {
    "duration": 0,
    "start_time": "2024-03-09T21:42:40.816Z"
   },
   {
    "duration": 0,
    "start_time": "2024-03-09T21:42:40.816Z"
   },
   {
    "duration": 0,
    "start_time": "2024-03-09T21:42:40.817Z"
   },
   {
    "duration": 0,
    "start_time": "2024-03-09T21:42:40.818Z"
   },
   {
    "duration": 0,
    "start_time": "2024-03-09T21:42:40.819Z"
   },
   {
    "duration": 0,
    "start_time": "2024-03-09T21:42:40.820Z"
   },
   {
    "duration": 0,
    "start_time": "2024-03-09T21:42:40.821Z"
   },
   {
    "duration": 0,
    "start_time": "2024-03-09T21:42:40.822Z"
   },
   {
    "duration": 0,
    "start_time": "2024-03-09T21:42:40.823Z"
   },
   {
    "duration": 0,
    "start_time": "2024-03-09T21:42:40.824Z"
   },
   {
    "duration": 0,
    "start_time": "2024-03-09T21:42:40.825Z"
   },
   {
    "duration": 0,
    "start_time": "2024-03-09T21:42:40.826Z"
   },
   {
    "duration": 0,
    "start_time": "2024-03-09T21:42:40.827Z"
   },
   {
    "duration": 0,
    "start_time": "2024-03-09T21:42:40.828Z"
   },
   {
    "duration": 0,
    "start_time": "2024-03-09T21:42:40.829Z"
   },
   {
    "duration": 0,
    "start_time": "2024-03-09T21:42:40.829Z"
   },
   {
    "duration": 0,
    "start_time": "2024-03-09T21:42:40.830Z"
   },
   {
    "duration": 0,
    "start_time": "2024-03-09T21:42:40.831Z"
   },
   {
    "duration": 6,
    "start_time": "2024-03-09T21:44:15.256Z"
   },
   {
    "duration": 139,
    "start_time": "2024-03-09T21:45:04.375Z"
   },
   {
    "duration": 6,
    "start_time": "2024-03-09T21:47:08.095Z"
   },
   {
    "duration": 135,
    "start_time": "2024-03-09T21:47:31.368Z"
   },
   {
    "duration": 90,
    "start_time": "2024-03-09T21:48:15.735Z"
   },
   {
    "duration": 132,
    "start_time": "2024-03-09T21:49:25.857Z"
   },
   {
    "duration": 144,
    "start_time": "2024-03-09T21:49:40.597Z"
   },
   {
    "duration": 487,
    "start_time": "2024-03-09T21:49:50.084Z"
   },
   {
    "duration": 434,
    "start_time": "2024-03-09T21:51:55.874Z"
   },
   {
    "duration": 20,
    "start_time": "2024-03-09T21:53:20.338Z"
   },
   {
    "duration": 456,
    "start_time": "2024-03-09T21:54:26.414Z"
   },
   {
    "duration": 428,
    "start_time": "2024-03-09T21:55:07.537Z"
   },
   {
    "duration": 414,
    "start_time": "2024-03-09T21:55:21.233Z"
   },
   {
    "duration": 416,
    "start_time": "2024-03-09T21:55:46.654Z"
   },
   {
    "duration": 10,
    "start_time": "2024-03-09T21:56:12.294Z"
   },
   {
    "duration": 13,
    "start_time": "2024-03-09T21:56:29.107Z"
   },
   {
    "duration": 11,
    "start_time": "2024-03-09T21:56:37.689Z"
   },
   {
    "duration": 13,
    "start_time": "2024-03-09T21:58:37.259Z"
   },
   {
    "duration": 235,
    "start_time": "2024-03-09T21:59:11.870Z"
   },
   {
    "duration": 224,
    "start_time": "2024-03-09T21:59:14.105Z"
   },
   {
    "duration": 11,
    "start_time": "2024-03-09T21:59:34.592Z"
   },
   {
    "duration": 10,
    "start_time": "2024-03-09T21:59:36.928Z"
   },
   {
    "duration": 10,
    "start_time": "2024-03-09T21:59:38.292Z"
   },
   {
    "duration": 12,
    "start_time": "2024-03-09T21:59:39.770Z"
   },
   {
    "duration": 12,
    "start_time": "2024-03-09T21:59:40.493Z"
   },
   {
    "duration": 13,
    "start_time": "2024-03-09T21:59:41.141Z"
   },
   {
    "duration": 307,
    "start_time": "2024-03-09T22:01:06.385Z"
   },
   {
    "duration": 10,
    "start_time": "2024-03-09T22:03:54.955Z"
   },
   {
    "duration": 6,
    "start_time": "2024-03-09T22:04:13.074Z"
   },
   {
    "duration": 11,
    "start_time": "2024-03-09T22:06:10.266Z"
   },
   {
    "duration": 9,
    "start_time": "2024-03-09T22:06:39.521Z"
   },
   {
    "duration": 15,
    "start_time": "2024-03-09T22:13:57.998Z"
   },
   {
    "duration": 14,
    "start_time": "2024-03-09T22:15:11.716Z"
   },
   {
    "duration": 13,
    "start_time": "2024-03-09T22:18:33.891Z"
   },
   {
    "duration": 11,
    "start_time": "2024-03-09T22:18:38.916Z"
   },
   {
    "duration": 15,
    "start_time": "2024-03-09T22:19:21.166Z"
   },
   {
    "duration": 9,
    "start_time": "2024-03-09T22:24:21.558Z"
   },
   {
    "duration": 12,
    "start_time": "2024-03-09T22:25:34.355Z"
   },
   {
    "duration": 11,
    "start_time": "2024-03-09T22:26:00.337Z"
   },
   {
    "duration": 14,
    "start_time": "2024-03-09T22:27:22.311Z"
   },
   {
    "duration": 14,
    "start_time": "2024-03-09T22:27:29.435Z"
   },
   {
    "duration": 13,
    "start_time": "2024-03-09T22:28:09.274Z"
   },
   {
    "duration": 14,
    "start_time": "2024-03-09T22:28:40.626Z"
   },
   {
    "duration": 15,
    "start_time": "2024-03-09T22:30:53.039Z"
   },
   {
    "duration": 9,
    "start_time": "2024-03-09T23:56:18.103Z"
   },
   {
    "duration": 8,
    "start_time": "2024-03-09T23:57:24.567Z"
   },
   {
    "duration": 7,
    "start_time": "2024-03-09T23:58:07.120Z"
   },
   {
    "duration": 7,
    "start_time": "2024-03-09T23:59:20.572Z"
   },
   {
    "duration": 96,
    "start_time": "2024-03-10T00:02:18.737Z"
   },
   {
    "duration": 9,
    "start_time": "2024-03-10T00:02:54.722Z"
   },
   {
    "duration": 6,
    "start_time": "2024-03-10T00:08:47.142Z"
   },
   {
    "duration": 82,
    "start_time": "2024-03-10T00:14:24.720Z"
   },
   {
    "duration": 88,
    "start_time": "2024-03-10T00:14:40.162Z"
   },
   {
    "duration": 95,
    "start_time": "2024-03-10T00:14:48.554Z"
   },
   {
    "duration": 80,
    "start_time": "2024-03-10T00:14:59.146Z"
   },
   {
    "duration": 8,
    "start_time": "2024-03-10T00:15:27.526Z"
   },
   {
    "duration": 1020,
    "start_time": "2024-03-10T00:15:36.130Z"
   },
   {
    "duration": 61,
    "start_time": "2024-03-10T00:15:37.152Z"
   },
   {
    "duration": 14,
    "start_time": "2024-03-10T00:15:37.215Z"
   },
   {
    "duration": 11,
    "start_time": "2024-03-10T00:15:37.231Z"
   },
   {
    "duration": 7,
    "start_time": "2024-03-10T00:15:37.243Z"
   },
   {
    "duration": 44,
    "start_time": "2024-03-10T00:15:37.252Z"
   },
   {
    "duration": 7,
    "start_time": "2024-03-10T00:15:37.298Z"
   },
   {
    "duration": 14,
    "start_time": "2024-03-10T00:15:37.307Z"
   },
   {
    "duration": 13,
    "start_time": "2024-03-10T00:15:37.322Z"
   },
   {
    "duration": 8,
    "start_time": "2024-03-10T00:15:37.337Z"
   },
   {
    "duration": 18,
    "start_time": "2024-03-10T00:15:37.346Z"
   },
   {
    "duration": 37,
    "start_time": "2024-03-10T00:15:37.365Z"
   },
   {
    "duration": 14,
    "start_time": "2024-03-10T00:15:37.404Z"
   },
   {
    "duration": 15,
    "start_time": "2024-03-10T00:15:37.419Z"
   },
   {
    "duration": 86,
    "start_time": "2024-03-10T00:15:37.436Z"
   },
   {
    "duration": 15,
    "start_time": "2024-03-10T00:15:37.523Z"
   },
   {
    "duration": 164,
    "start_time": "2024-03-10T00:15:37.539Z"
   },
   {
    "duration": 13,
    "start_time": "2024-03-10T00:15:37.705Z"
   },
   {
    "duration": 278,
    "start_time": "2024-03-10T00:15:37.719Z"
   },
   {
    "duration": 927,
    "start_time": "2024-03-10T00:15:37.998Z"
   },
   {
    "duration": 21,
    "start_time": "2024-03-10T00:15:38.926Z"
   },
   {
    "duration": 189,
    "start_time": "2024-03-10T00:15:38.948Z"
   },
   {
    "duration": 14,
    "start_time": "2024-03-10T00:15:39.139Z"
   },
   {
    "duration": 248,
    "start_time": "2024-03-10T00:15:39.155Z"
   },
   {
    "duration": 26,
    "start_time": "2024-03-10T00:15:39.404Z"
   },
   {
    "duration": 203,
    "start_time": "2024-03-10T00:15:39.432Z"
   },
   {
    "duration": 3,
    "start_time": "2024-03-10T00:15:39.636Z"
   },
   {
    "duration": 6,
    "start_time": "2024-03-10T00:15:39.642Z"
   },
   {
    "duration": 154,
    "start_time": "2024-03-10T00:15:39.649Z"
   },
   {
    "duration": 6,
    "start_time": "2024-03-10T00:15:39.804Z"
   },
   {
    "duration": 146,
    "start_time": "2024-03-10T00:15:39.811Z"
   },
   {
    "duration": 478,
    "start_time": "2024-03-10T00:15:39.958Z"
   },
   {
    "duration": 433,
    "start_time": "2024-03-10T00:15:40.437Z"
   },
   {
    "duration": 11,
    "start_time": "2024-03-10T00:15:40.871Z"
   },
   {
    "duration": 25,
    "start_time": "2024-03-10T00:15:40.883Z"
   },
   {
    "duration": 11,
    "start_time": "2024-03-10T00:15:40.910Z"
   },
   {
    "duration": 171,
    "start_time": "2024-03-10T00:15:40.922Z"
   },
   {
    "duration": 277,
    "start_time": "2024-03-10T00:15:41.101Z"
   },
   {
    "duration": 11,
    "start_time": "2024-03-10T00:15:41.380Z"
   },
   {
    "duration": 10,
    "start_time": "2024-03-10T00:15:41.401Z"
   },
   {
    "duration": 11,
    "start_time": "2024-03-10T00:15:41.413Z"
   },
   {
    "duration": 12,
    "start_time": "2024-03-10T00:15:41.426Z"
   },
   {
    "duration": 11,
    "start_time": "2024-03-10T00:15:41.439Z"
   },
   {
    "duration": 51,
    "start_time": "2024-03-10T00:15:41.452Z"
   },
   {
    "duration": 179,
    "start_time": "2024-03-10T00:15:41.504Z"
   },
   {
    "duration": 168,
    "start_time": "2024-03-10T00:15:41.684Z"
   },
   {
    "duration": 174,
    "start_time": "2024-03-10T00:15:41.854Z"
   },
   {
    "duration": 127,
    "start_time": "2024-03-10T00:15:42.029Z"
   },
   {
    "duration": 122,
    "start_time": "2024-03-10T00:15:42.157Z"
   },
   {
    "duration": 128,
    "start_time": "2024-03-10T00:15:42.280Z"
   },
   {
    "duration": 7,
    "start_time": "2024-03-10T00:15:42.409Z"
   },
   {
    "duration": 77,
    "start_time": "2024-03-10T00:15:42.417Z"
   },
   {
    "duration": 1,
    "start_time": "2024-03-10T00:15:42.495Z"
   },
   {
    "duration": 0,
    "start_time": "2024-03-10T00:15:42.497Z"
   },
   {
    "duration": 0,
    "start_time": "2024-03-10T00:15:42.498Z"
   },
   {
    "duration": 0,
    "start_time": "2024-03-10T00:15:42.499Z"
   },
   {
    "duration": 0,
    "start_time": "2024-03-10T00:15:42.501Z"
   },
   {
    "duration": 0,
    "start_time": "2024-03-10T00:15:42.502Z"
   },
   {
    "duration": 94,
    "start_time": "2024-03-10T00:16:18.999Z"
   },
   {
    "duration": 11,
    "start_time": "2024-03-10T00:20:50.653Z"
   },
   {
    "duration": 11,
    "start_time": "2024-03-10T00:21:12.865Z"
   },
   {
    "duration": 7,
    "start_time": "2024-03-10T00:21:43.903Z"
   },
   {
    "duration": 7,
    "start_time": "2024-03-10T00:25:54.619Z"
   },
   {
    "duration": 4,
    "start_time": "2024-03-10T00:26:25.431Z"
   },
   {
    "duration": 7,
    "start_time": "2024-03-10T00:26:51.356Z"
   },
   {
    "duration": 12,
    "start_time": "2024-03-10T00:28:39.217Z"
   },
   {
    "duration": 9,
    "start_time": "2024-03-10T00:29:18.933Z"
   },
   {
    "duration": 8,
    "start_time": "2024-03-10T00:29:40.420Z"
   },
   {
    "duration": 9,
    "start_time": "2024-03-10T00:34:04.583Z"
   },
   {
    "duration": 8,
    "start_time": "2024-03-10T00:36:12.155Z"
   },
   {
    "duration": 7,
    "start_time": "2024-03-10T00:37:14.679Z"
   },
   {
    "duration": 11,
    "start_time": "2024-03-10T00:39:06.320Z"
   },
   {
    "duration": 7,
    "start_time": "2024-03-10T00:39:32.076Z"
   },
   {
    "duration": 7,
    "start_time": "2024-03-10T00:39:44.298Z"
   },
   {
    "duration": 9,
    "start_time": "2024-03-10T00:39:55.114Z"
   },
   {
    "duration": 8,
    "start_time": "2024-03-10T00:40:23.717Z"
   },
   {
    "duration": 8,
    "start_time": "2024-03-10T00:41:19.701Z"
   },
   {
    "duration": 75,
    "start_time": "2024-03-10T00:41:57.919Z"
   },
   {
    "duration": 16,
    "start_time": "2024-03-10T00:44:44.265Z"
   },
   {
    "duration": 16,
    "start_time": "2024-03-10T00:44:56.525Z"
   },
   {
    "duration": 8,
    "start_time": "2024-03-10T00:47:44.600Z"
   },
   {
    "duration": 9,
    "start_time": "2024-03-10T00:50:13.334Z"
   },
   {
    "duration": 9,
    "start_time": "2024-03-10T00:50:22.498Z"
   },
   {
    "duration": 1228,
    "start_time": "2024-03-10T09:48:48.266Z"
   },
   {
    "duration": 66,
    "start_time": "2024-03-10T09:48:49.495Z"
   },
   {
    "duration": 13,
    "start_time": "2024-03-10T09:48:49.563Z"
   },
   {
    "duration": 14,
    "start_time": "2024-03-10T09:48:49.578Z"
   },
   {
    "duration": 7,
    "start_time": "2024-03-10T09:48:49.593Z"
   },
   {
    "duration": 21,
    "start_time": "2024-03-10T09:48:49.601Z"
   },
   {
    "duration": 8,
    "start_time": "2024-03-10T09:48:49.623Z"
   },
   {
    "duration": 22,
    "start_time": "2024-03-10T09:48:49.633Z"
   },
   {
    "duration": 18,
    "start_time": "2024-03-10T09:48:49.656Z"
   },
   {
    "duration": 11,
    "start_time": "2024-03-10T09:48:49.688Z"
   },
   {
    "duration": 20,
    "start_time": "2024-03-10T09:48:49.700Z"
   },
   {
    "duration": 9,
    "start_time": "2024-03-10T09:48:49.721Z"
   },
   {
    "duration": 18,
    "start_time": "2024-03-10T09:48:49.731Z"
   },
   {
    "duration": 49,
    "start_time": "2024-03-10T09:48:49.751Z"
   },
   {
    "duration": 96,
    "start_time": "2024-03-10T09:48:49.802Z"
   },
   {
    "duration": 16,
    "start_time": "2024-03-10T09:48:49.899Z"
   },
   {
    "duration": 191,
    "start_time": "2024-03-10T09:48:49.917Z"
   },
   {
    "duration": 15,
    "start_time": "2024-03-10T09:48:50.110Z"
   },
   {
    "duration": 306,
    "start_time": "2024-03-10T09:48:50.127Z"
   },
   {
    "duration": 1105,
    "start_time": "2024-03-10T09:48:50.435Z"
   },
   {
    "duration": 24,
    "start_time": "2024-03-10T09:48:51.542Z"
   },
   {
    "duration": 214,
    "start_time": "2024-03-10T09:48:51.567Z"
   },
   {
    "duration": 21,
    "start_time": "2024-03-10T09:48:51.782Z"
   },
   {
    "duration": 292,
    "start_time": "2024-03-10T09:48:51.805Z"
   },
   {
    "duration": 37,
    "start_time": "2024-03-10T09:48:52.099Z"
   },
   {
    "duration": 244,
    "start_time": "2024-03-10T09:48:52.138Z"
   },
   {
    "duration": 7,
    "start_time": "2024-03-10T09:48:52.384Z"
   },
   {
    "duration": 8,
    "start_time": "2024-03-10T09:48:52.395Z"
   },
   {
    "duration": 174,
    "start_time": "2024-03-10T09:48:52.405Z"
   },
   {
    "duration": 10,
    "start_time": "2024-03-10T09:48:52.581Z"
   },
   {
    "duration": 170,
    "start_time": "2024-03-10T09:48:52.593Z"
   },
   {
    "duration": 535,
    "start_time": "2024-03-10T09:48:52.765Z"
   },
   {
    "duration": 516,
    "start_time": "2024-03-10T09:48:53.302Z"
   },
   {
    "duration": 13,
    "start_time": "2024-03-10T09:48:53.819Z"
   },
   {
    "duration": 13,
    "start_time": "2024-03-10T09:48:53.833Z"
   },
   {
    "duration": 40,
    "start_time": "2024-03-10T09:48:53.848Z"
   },
   {
    "duration": 213,
    "start_time": "2024-03-10T09:48:53.890Z"
   },
   {
    "duration": 374,
    "start_time": "2024-03-10T09:48:54.105Z"
   },
   {
    "duration": 18,
    "start_time": "2024-03-10T09:48:54.480Z"
   },
   {
    "duration": 16,
    "start_time": "2024-03-10T09:48:54.500Z"
   },
   {
    "duration": 10,
    "start_time": "2024-03-10T09:48:54.518Z"
   },
   {
    "duration": 12,
    "start_time": "2024-03-10T09:48:54.530Z"
   },
   {
    "duration": 27,
    "start_time": "2024-03-10T09:48:54.543Z"
   },
   {
    "duration": 25,
    "start_time": "2024-03-10T09:48:54.571Z"
   },
   {
    "duration": 195,
    "start_time": "2024-03-10T09:48:54.598Z"
   },
   {
    "duration": 203,
    "start_time": "2024-03-10T09:48:54.794Z"
   },
   {
    "duration": 211,
    "start_time": "2024-03-10T09:48:54.998Z"
   },
   {
    "duration": 151,
    "start_time": "2024-03-10T09:48:55.211Z"
   },
   {
    "duration": 136,
    "start_time": "2024-03-10T09:48:55.364Z"
   },
   {
    "duration": 147,
    "start_time": "2024-03-10T09:48:55.502Z"
   },
   {
    "duration": 8,
    "start_time": "2024-03-10T09:48:55.651Z"
   },
   {
    "duration": 9,
    "start_time": "2024-03-10T09:48:55.660Z"
   },
   {
    "duration": 9,
    "start_time": "2024-03-10T09:48:55.688Z"
   },
   {
    "duration": 5,
    "start_time": "2024-03-10T11:04:34.760Z"
   },
   {
    "duration": 140,
    "start_time": "2024-03-10T11:04:38.250Z"
   },
   {
    "duration": 5,
    "start_time": "2024-03-10T11:04:57.587Z"
   },
   {
    "duration": 136,
    "start_time": "2024-03-10T11:05:03.514Z"
   },
   {
    "duration": 992,
    "start_time": "2024-03-10T11:05:19.172Z"
   },
   {
    "duration": 71,
    "start_time": "2024-03-10T11:05:20.165Z"
   },
   {
    "duration": 16,
    "start_time": "2024-03-10T11:05:20.237Z"
   },
   {
    "duration": 20,
    "start_time": "2024-03-10T11:05:20.255Z"
   },
   {
    "duration": 6,
    "start_time": "2024-03-10T11:05:20.277Z"
   },
   {
    "duration": 24,
    "start_time": "2024-03-10T11:05:20.301Z"
   },
   {
    "duration": 7,
    "start_time": "2024-03-10T11:05:20.326Z"
   },
   {
    "duration": 15,
    "start_time": "2024-03-10T11:05:20.334Z"
   },
   {
    "duration": 52,
    "start_time": "2024-03-10T11:05:20.351Z"
   },
   {
    "duration": 11,
    "start_time": "2024-03-10T11:05:20.407Z"
   },
   {
    "duration": 16,
    "start_time": "2024-03-10T11:05:20.420Z"
   },
   {
    "duration": 12,
    "start_time": "2024-03-10T11:05:20.437Z"
   },
   {
    "duration": 51,
    "start_time": "2024-03-10T11:05:20.450Z"
   },
   {
    "duration": 15,
    "start_time": "2024-03-10T11:05:20.503Z"
   },
   {
    "duration": 89,
    "start_time": "2024-03-10T11:05:20.519Z"
   },
   {
    "duration": 14,
    "start_time": "2024-03-10T11:05:20.609Z"
   },
   {
    "duration": 159,
    "start_time": "2024-03-10T11:05:20.624Z"
   },
   {
    "duration": 24,
    "start_time": "2024-03-10T11:05:20.784Z"
   },
   {
    "duration": 264,
    "start_time": "2024-03-10T11:05:20.809Z"
   },
   {
    "duration": 952,
    "start_time": "2024-03-10T11:05:21.074Z"
   },
   {
    "duration": 22,
    "start_time": "2024-03-10T11:05:22.027Z"
   },
   {
    "duration": 183,
    "start_time": "2024-03-10T11:05:22.051Z"
   },
   {
    "duration": 15,
    "start_time": "2024-03-10T11:05:22.236Z"
   },
   {
    "duration": 240,
    "start_time": "2024-03-10T11:05:22.252Z"
   },
   {
    "duration": 34,
    "start_time": "2024-03-10T11:05:22.493Z"
   },
   {
    "duration": 219,
    "start_time": "2024-03-10T11:05:22.528Z"
   },
   {
    "duration": 4,
    "start_time": "2024-03-10T11:05:22.748Z"
   },
   {
    "duration": 18,
    "start_time": "2024-03-10T11:05:22.755Z"
   },
   {
    "duration": 154,
    "start_time": "2024-03-10T11:05:22.775Z"
   },
   {
    "duration": 5,
    "start_time": "2024-03-10T11:05:22.930Z"
   },
   {
    "duration": 152,
    "start_time": "2024-03-10T11:05:22.937Z"
   },
   {
    "duration": 466,
    "start_time": "2024-03-10T11:05:23.091Z"
   },
   {
    "duration": 433,
    "start_time": "2024-03-10T11:05:23.558Z"
   },
   {
    "duration": 16,
    "start_time": "2024-03-10T11:05:23.992Z"
   },
   {
    "duration": 11,
    "start_time": "2024-03-10T11:05:24.009Z"
   },
   {
    "duration": 12,
    "start_time": "2024-03-10T11:05:24.021Z"
   },
   {
    "duration": 202,
    "start_time": "2024-03-10T11:05:24.034Z"
   },
   {
    "duration": 283,
    "start_time": "2024-03-10T11:05:24.237Z"
   },
   {
    "duration": 10,
    "start_time": "2024-03-10T11:05:24.522Z"
   },
   {
    "duration": 37,
    "start_time": "2024-03-10T11:05:24.534Z"
   },
   {
    "duration": 24,
    "start_time": "2024-03-10T11:05:24.572Z"
   },
   {
    "duration": 16,
    "start_time": "2024-03-10T11:05:24.597Z"
   },
   {
    "duration": 15,
    "start_time": "2024-03-10T11:05:24.614Z"
   },
   {
    "duration": 24,
    "start_time": "2024-03-10T11:05:24.630Z"
   },
   {
    "duration": 165,
    "start_time": "2024-03-10T11:05:24.655Z"
   },
   {
    "duration": 177,
    "start_time": "2024-03-10T11:05:24.822Z"
   },
   {
    "duration": 171,
    "start_time": "2024-03-10T11:05:25.000Z"
   },
   {
    "duration": 138,
    "start_time": "2024-03-10T11:05:25.173Z"
   },
   {
    "duration": 126,
    "start_time": "2024-03-10T11:05:25.313Z"
   },
   {
    "duration": 133,
    "start_time": "2024-03-10T11:05:25.440Z"
   },
   {
    "duration": 7,
    "start_time": "2024-03-10T11:05:25.574Z"
   },
   {
    "duration": 21,
    "start_time": "2024-03-10T11:05:25.583Z"
   },
   {
    "duration": 34,
    "start_time": "2024-03-10T11:05:25.605Z"
   },
   {
    "duration": 5,
    "start_time": "2024-03-10T11:10:53.942Z"
   },
   {
    "duration": 5,
    "start_time": "2024-03-10T11:10:58.614Z"
   },
   {
    "duration": 136,
    "start_time": "2024-03-10T11:11:04.375Z"
   },
   {
    "duration": 89,
    "start_time": "2024-03-10T11:11:16.448Z"
   },
   {
    "duration": 5,
    "start_time": "2024-03-10T11:11:42.703Z"
   },
   {
    "duration": 139,
    "start_time": "2024-03-10T11:11:43.644Z"
   },
   {
    "duration": 6,
    "start_time": "2024-03-10T11:11:51.277Z"
   },
   {
    "duration": 136,
    "start_time": "2024-03-10T11:11:51.950Z"
   },
   {
    "duration": 511,
    "start_time": "2024-03-10T11:11:57.770Z"
   },
   {
    "duration": 438,
    "start_time": "2024-03-10T11:11:58.350Z"
   },
   {
    "duration": 5,
    "start_time": "2024-03-10T11:14:18.436Z"
   },
   {
    "duration": 1331,
    "start_time": "2024-03-10T11:52:10.580Z"
   },
   {
    "duration": 195,
    "start_time": "2024-03-10T11:52:11.913Z"
   },
   {
    "duration": 14,
    "start_time": "2024-03-10T11:52:12.110Z"
   },
   {
    "duration": 13,
    "start_time": "2024-03-10T11:52:12.125Z"
   },
   {
    "duration": 7,
    "start_time": "2024-03-10T11:52:12.140Z"
   },
   {
    "duration": 22,
    "start_time": "2024-03-10T11:52:12.148Z"
   },
   {
    "duration": 22,
    "start_time": "2024-03-10T11:52:12.171Z"
   },
   {
    "duration": 13,
    "start_time": "2024-03-10T11:52:12.194Z"
   },
   {
    "duration": 15,
    "start_time": "2024-03-10T11:52:12.208Z"
   },
   {
    "duration": 10,
    "start_time": "2024-03-10T11:52:12.225Z"
   },
   {
    "duration": 19,
    "start_time": "2024-03-10T11:52:12.237Z"
   },
   {
    "duration": 8,
    "start_time": "2024-03-10T11:52:12.287Z"
   },
   {
    "duration": 18,
    "start_time": "2024-03-10T11:52:12.297Z"
   },
   {
    "duration": 19,
    "start_time": "2024-03-10T11:52:12.318Z"
   },
   {
    "duration": 96,
    "start_time": "2024-03-10T11:52:12.338Z"
   },
   {
    "duration": 16,
    "start_time": "2024-03-10T11:52:12.436Z"
   },
   {
    "duration": 194,
    "start_time": "2024-03-10T11:52:12.453Z"
   },
   {
    "duration": 16,
    "start_time": "2024-03-10T11:52:12.648Z"
   },
   {
    "duration": 312,
    "start_time": "2024-03-10T11:52:12.665Z"
   },
   {
    "duration": 1172,
    "start_time": "2024-03-10T11:52:12.987Z"
   },
   {
    "duration": 31,
    "start_time": "2024-03-10T11:52:14.161Z"
   },
   {
    "duration": 210,
    "start_time": "2024-03-10T11:52:14.194Z"
   },
   {
    "duration": 25,
    "start_time": "2024-03-10T11:52:14.406Z"
   },
   {
    "duration": 318,
    "start_time": "2024-03-10T11:52:14.434Z"
   },
   {
    "duration": 61,
    "start_time": "2024-03-10T11:52:14.754Z"
   },
   {
    "duration": 253,
    "start_time": "2024-03-10T11:52:14.817Z"
   },
   {
    "duration": 4,
    "start_time": "2024-03-10T11:52:15.072Z"
   },
   {
    "duration": 96,
    "start_time": "2024-03-10T11:52:15.077Z"
   },
   {
    "duration": 180,
    "start_time": "2024-03-10T11:52:15.174Z"
   },
   {
    "duration": 7,
    "start_time": "2024-03-10T11:52:15.356Z"
   },
   {
    "duration": 194,
    "start_time": "2024-03-10T11:52:15.365Z"
   },
   {
    "duration": 537,
    "start_time": "2024-03-10T11:52:15.560Z"
   },
   {
    "duration": 517,
    "start_time": "2024-03-10T11:52:16.099Z"
   },
   {
    "duration": 13,
    "start_time": "2024-03-10T11:52:16.618Z"
   },
   {
    "duration": 40,
    "start_time": "2024-03-10T11:52:16.633Z"
   },
   {
    "duration": 23,
    "start_time": "2024-03-10T11:52:16.675Z"
   },
   {
    "duration": 193,
    "start_time": "2024-03-10T11:52:16.700Z"
   },
   {
    "duration": 354,
    "start_time": "2024-03-10T11:52:16.894Z"
   },
   {
    "duration": 13,
    "start_time": "2024-03-10T11:52:17.250Z"
   },
   {
    "duration": 27,
    "start_time": "2024-03-10T11:52:17.265Z"
   },
   {
    "duration": 29,
    "start_time": "2024-03-10T11:52:17.296Z"
   },
   {
    "duration": 15,
    "start_time": "2024-03-10T11:52:17.327Z"
   },
   {
    "duration": 31,
    "start_time": "2024-03-10T11:52:17.343Z"
   },
   {
    "duration": 28,
    "start_time": "2024-03-10T11:52:17.376Z"
   },
   {
    "duration": 191,
    "start_time": "2024-03-10T11:52:17.406Z"
   },
   {
    "duration": 201,
    "start_time": "2024-03-10T11:52:17.599Z"
   },
   {
    "duration": 205,
    "start_time": "2024-03-10T11:52:17.802Z"
   },
   {
    "duration": 151,
    "start_time": "2024-03-10T11:52:18.008Z"
   },
   {
    "duration": 148,
    "start_time": "2024-03-10T11:52:18.160Z"
   },
   {
    "duration": 148,
    "start_time": "2024-03-10T11:52:18.310Z"
   },
   {
    "duration": 8,
    "start_time": "2024-03-10T11:52:18.459Z"
   },
   {
    "duration": 23,
    "start_time": "2024-03-10T11:52:18.469Z"
   },
   {
    "duration": 10,
    "start_time": "2024-03-10T11:52:18.494Z"
   },
   {
    "duration": 2671,
    "start_time": "2024-03-10T11:56:51.323Z"
   },
   {
    "duration": 1199,
    "start_time": "2024-04-15T11:20:09.074Z"
   },
   {
    "duration": 123,
    "start_time": "2024-04-15T11:20:10.275Z"
   },
   {
    "duration": 15,
    "start_time": "2024-04-15T11:20:10.399Z"
   },
   {
    "duration": 20,
    "start_time": "2024-04-15T11:20:10.417Z"
   },
   {
    "duration": 6,
    "start_time": "2024-04-15T11:20:10.439Z"
   },
   {
    "duration": 24,
    "start_time": "2024-04-15T11:20:10.446Z"
   },
   {
    "duration": 9,
    "start_time": "2024-04-15T11:20:10.471Z"
   },
   {
    "duration": 43,
    "start_time": "2024-04-15T11:20:10.482Z"
   },
   {
    "duration": 17,
    "start_time": "2024-04-15T11:20:10.526Z"
   },
   {
    "duration": 11,
    "start_time": "2024-04-15T11:20:10.545Z"
   },
   {
    "duration": 20,
    "start_time": "2024-04-15T11:20:10.558Z"
   },
   {
    "duration": 40,
    "start_time": "2024-04-15T11:20:10.579Z"
   },
   {
    "duration": 22,
    "start_time": "2024-04-15T11:20:10.621Z"
   },
   {
    "duration": 22,
    "start_time": "2024-04-15T11:20:10.645Z"
   },
   {
    "duration": 112,
    "start_time": "2024-04-15T11:20:10.669Z"
   },
   {
    "duration": 49,
    "start_time": "2024-04-15T11:20:10.782Z"
   },
   {
    "duration": 210,
    "start_time": "2024-04-15T11:20:10.833Z"
   },
   {
    "duration": 15,
    "start_time": "2024-04-15T11:20:11.045Z"
   },
   {
    "duration": 354,
    "start_time": "2024-04-15T11:20:11.061Z"
   },
   {
    "duration": 1229,
    "start_time": "2024-04-15T11:20:11.417Z"
   },
   {
    "duration": 208,
    "start_time": "2024-04-15T11:20:12.647Z"
   },
   {
    "duration": 20,
    "start_time": "2024-04-15T11:20:12.856Z"
   },
   {
    "duration": 315,
    "start_time": "2024-04-15T11:20:12.877Z"
   },
   {
    "duration": 45,
    "start_time": "2024-04-15T11:20:13.193Z"
   },
   {
    "duration": 285,
    "start_time": "2024-04-15T11:20:13.240Z"
   },
   {
    "duration": 4,
    "start_time": "2024-04-15T11:20:13.526Z"
   },
   {
    "duration": 9,
    "start_time": "2024-04-15T11:20:13.532Z"
   },
   {
    "duration": 210,
    "start_time": "2024-04-15T11:20:13.545Z"
   },
   {
    "duration": 6,
    "start_time": "2024-04-15T11:20:13.757Z"
   },
   {
    "duration": 192,
    "start_time": "2024-04-15T11:20:13.765Z"
   },
   {
    "duration": 549,
    "start_time": "2024-04-15T11:20:13.958Z"
   },
   {
    "duration": 569,
    "start_time": "2024-04-15T11:20:14.514Z"
   },
   {
    "duration": 15,
    "start_time": "2024-04-15T11:20:15.084Z"
   },
   {
    "duration": 32,
    "start_time": "2024-04-15T11:20:15.101Z"
   },
   {
    "duration": 2747,
    "start_time": "2024-04-15T11:20:15.134Z"
   },
   {
    "duration": 15,
    "start_time": "2024-04-15T11:20:17.883Z"
   },
   {
    "duration": 340,
    "start_time": "2024-04-15T11:20:17.899Z"
   },
   {
    "duration": 277,
    "start_time": "2024-04-15T11:20:18.241Z"
   },
   {
    "duration": 14,
    "start_time": "2024-04-15T11:20:18.519Z"
   },
   {
    "duration": 12,
    "start_time": "2024-04-15T11:20:18.535Z"
   },
   {
    "duration": 12,
    "start_time": "2024-04-15T11:20:18.548Z"
   },
   {
    "duration": 14,
    "start_time": "2024-04-15T11:20:18.562Z"
   },
   {
    "duration": 46,
    "start_time": "2024-04-15T11:20:18.577Z"
   },
   {
    "duration": 13,
    "start_time": "2024-04-15T11:20:18.625Z"
   },
   {
    "duration": 226,
    "start_time": "2024-04-15T11:20:18.639Z"
   },
   {
    "duration": 220,
    "start_time": "2024-04-15T11:20:18.867Z"
   },
   {
    "duration": 216,
    "start_time": "2024-04-15T11:20:19.089Z"
   },
   {
    "duration": 165,
    "start_time": "2024-04-15T11:20:19.307Z"
   },
   {
    "duration": 155,
    "start_time": "2024-04-15T11:20:19.474Z"
   },
   {
    "duration": 153,
    "start_time": "2024-04-15T11:20:19.631Z"
   },
   {
    "duration": 8,
    "start_time": "2024-04-15T11:20:19.786Z"
   },
   {
    "duration": 22,
    "start_time": "2024-04-15T11:20:19.796Z"
   },
   {
    "duration": 9,
    "start_time": "2024-04-15T11:20:19.820Z"
   },
   {
    "duration": 14,
    "start_time": "2024-04-15T11:20:55.913Z"
   },
   {
    "duration": 5,
    "start_time": "2024-04-15T11:21:20.209Z"
   },
   {
    "duration": 6,
    "start_time": "2024-04-15T11:21:23.993Z"
   },
   {
    "duration": 7,
    "start_time": "2024-04-15T11:21:55.013Z"
   },
   {
    "duration": 22,
    "start_time": "2024-04-15T11:22:13.095Z"
   },
   {
    "duration": 11,
    "start_time": "2024-04-15T11:22:29.192Z"
   },
   {
    "duration": 26,
    "start_time": "2024-04-15T11:22:41.828Z"
   },
   {
    "duration": 21,
    "start_time": "2024-04-15T11:22:47.115Z"
   },
   {
    "duration": 10,
    "start_time": "2024-04-15T11:23:06.442Z"
   },
   {
    "duration": 77,
    "start_time": "2024-04-15T11:23:49.803Z"
   },
   {
    "duration": 198,
    "start_time": "2024-04-15T11:24:21.353Z"
   },
   {
    "duration": 19,
    "start_time": "2024-04-15T11:24:33.360Z"
   },
   {
    "duration": 37,
    "start_time": "2024-04-15T11:24:47.526Z"
   },
   {
    "duration": 5,
    "start_time": "2024-04-15T11:25:18.411Z"
   },
   {
    "duration": 13,
    "start_time": "2024-04-15T11:27:23.887Z"
   },
   {
    "duration": 13,
    "start_time": "2024-04-15T11:27:31.360Z"
   },
   {
    "duration": 256,
    "start_time": "2024-04-15T11:27:55.682Z"
   },
   {
    "duration": 10,
    "start_time": "2024-04-15T11:29:04.562Z"
   },
   {
    "duration": 1162,
    "start_time": "2024-04-15T11:29:24.770Z"
   },
   {
    "duration": 72,
    "start_time": "2024-04-15T11:29:25.933Z"
   },
   {
    "duration": 14,
    "start_time": "2024-04-15T11:29:26.009Z"
   },
   {
    "duration": 16,
    "start_time": "2024-04-15T11:29:26.025Z"
   },
   {
    "duration": 7,
    "start_time": "2024-04-15T11:29:26.042Z"
   },
   {
    "duration": 23,
    "start_time": "2024-04-15T11:29:26.051Z"
   },
   {
    "duration": 9,
    "start_time": "2024-04-15T11:29:26.075Z"
   },
   {
    "duration": 35,
    "start_time": "2024-04-15T11:29:26.086Z"
   },
   {
    "duration": 16,
    "start_time": "2024-04-15T11:29:26.123Z"
   },
   {
    "duration": 10,
    "start_time": "2024-04-15T11:29:26.140Z"
   },
   {
    "duration": 19,
    "start_time": "2024-04-15T11:29:26.152Z"
   },
   {
    "duration": 8,
    "start_time": "2024-04-15T11:29:26.173Z"
   },
   {
    "duration": 50,
    "start_time": "2024-04-15T11:29:26.182Z"
   },
   {
    "duration": 19,
    "start_time": "2024-04-15T11:29:26.234Z"
   },
   {
    "duration": 102,
    "start_time": "2024-04-15T11:29:26.254Z"
   },
   {
    "duration": 17,
    "start_time": "2024-04-15T11:29:26.358Z"
   },
   {
    "duration": 200,
    "start_time": "2024-04-15T11:29:26.377Z"
   },
   {
    "duration": 18,
    "start_time": "2024-04-15T11:29:26.579Z"
   },
   {
    "duration": 372,
    "start_time": "2024-04-15T11:29:26.599Z"
   },
   {
    "duration": 1174,
    "start_time": "2024-04-15T11:29:26.972Z"
   },
   {
    "duration": 239,
    "start_time": "2024-04-15T11:29:28.149Z"
   },
   {
    "duration": 19,
    "start_time": "2024-04-15T11:29:28.390Z"
   },
   {
    "duration": 306,
    "start_time": "2024-04-15T11:29:28.415Z"
   },
   {
    "duration": 37,
    "start_time": "2024-04-15T11:29:28.722Z"
   },
   {
    "duration": 275,
    "start_time": "2024-04-15T11:29:28.761Z"
   },
   {
    "duration": 6,
    "start_time": "2024-04-15T11:29:29.037Z"
   },
   {
    "duration": 172,
    "start_time": "2024-04-15T11:29:29.046Z"
   },
   {
    "duration": 6,
    "start_time": "2024-04-15T11:29:29.220Z"
   },
   {
    "duration": 189,
    "start_time": "2024-04-15T11:29:29.227Z"
   },
   {
    "duration": 535,
    "start_time": "2024-04-15T11:29:29.417Z"
   },
   {
    "duration": 545,
    "start_time": "2024-04-15T11:29:29.954Z"
   },
   {
    "duration": 20,
    "start_time": "2024-04-15T11:29:30.500Z"
   },
   {
    "duration": 25,
    "start_time": "2024-04-15T11:29:30.522Z"
   },
   {
    "duration": 50,
    "start_time": "2024-04-15T11:29:30.549Z"
   },
   {
    "duration": 227,
    "start_time": "2024-04-15T11:29:30.601Z"
   },
   {
    "duration": 388,
    "start_time": "2024-04-15T11:29:30.831Z"
   },
   {
    "duration": 14,
    "start_time": "2024-04-15T11:29:31.220Z"
   },
   {
    "duration": 59,
    "start_time": "2024-04-15T11:29:31.236Z"
   },
   {
    "duration": 60,
    "start_time": "2024-04-15T11:29:31.297Z"
   },
   {
    "duration": 46,
    "start_time": "2024-04-15T11:29:31.358Z"
   },
   {
    "duration": 52,
    "start_time": "2024-04-15T11:29:31.405Z"
   },
   {
    "duration": 43,
    "start_time": "2024-04-15T11:29:31.459Z"
   },
   {
    "duration": 227,
    "start_time": "2024-04-15T11:29:31.504Z"
   },
   {
    "duration": 226,
    "start_time": "2024-04-15T11:29:31.732Z"
   },
   {
    "duration": 223,
    "start_time": "2024-04-15T11:29:31.959Z"
   },
   {
    "duration": 169,
    "start_time": "2024-04-15T11:29:32.184Z"
   },
   {
    "duration": 160,
    "start_time": "2024-04-15T11:29:32.355Z"
   },
   {
    "duration": 162,
    "start_time": "2024-04-15T11:29:32.516Z"
   },
   {
    "duration": 10,
    "start_time": "2024-04-15T11:29:32.679Z"
   },
   {
    "duration": 25,
    "start_time": "2024-04-15T11:29:32.690Z"
   }
  ],
  "kernelspec": {
   "display_name": "Python 3 (ipykernel)",
   "language": "python",
   "name": "python3"
  },
  "language_info": {
   "codemirror_mode": {
    "name": "ipython",
    "version": 3
   },
   "file_extension": ".py",
   "mimetype": "text/x-python",
   "name": "python",
   "nbconvert_exporter": "python",
   "pygments_lexer": "ipython3",
   "version": "3.9.5"
  },
  "toc": {
   "base_numbering": 1,
   "nav_menu": {
    "height": "383px",
    "width": "340px"
   },
   "number_sections": true,
   "sideBar": true,
   "skip_h1_title": true,
   "title_cell": "",
   "title_sidebar": "Сборный проект",
   "toc_cell": false,
   "toc_position": {
    "height": "100px",
    "left": "140px",
    "top": "67.1406px",
    "width": "271px"
   },
   "toc_section_display": true,
   "toc_window_display": true
  }
 },
 "nbformat": 4,
 "nbformat_minor": 2
}
